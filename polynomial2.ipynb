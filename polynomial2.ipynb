{
  "cells": [
    {
      "cell_type": "markdown",
      "metadata": {
        "id": "view-in-github",
        "colab_type": "text"
      },
      "source": [
        "<a href=\"https://colab.research.google.com/github/drewbaraka/Movieproduction-analysis/blob/main/polynomial2.ipynb\" target=\"_parent\"><img src=\"https://colab.research.google.com/assets/colab-badge.svg\" alt=\"Open In Colab\"/></a>"
      ]
    },
    {
      "cell_type": "markdown",
      "metadata": {
        "id": "vwi27Q1Ref8d"
      },
      "source": [
        "## Final Project Submission\n",
        "\n",
        "Please fill out:\n",
        "* Student name:\n",
        "* Student pace: self paced / part time / full time\n",
        "* Scheduled project review date/time:\n",
        "* Instructor name:\n",
        "* Blog post URL:\n"
      ]
    },
    {
      "cell_type": "markdown",
      "metadata": {
        "id": "J8_cK1z5ef8n"
      },
      "source": [
        "## OVERVIEW\n",
        "# BACKGROUND INFORMATION\n",
        "**Location**: King County is situated in the western part of Washington, USA and is known for being the most populous county in the state.\n",
        "**Population**: The county has about 2.3 million residents, with two-thirds residing in the suburbs.\n",
        "\n",
        "**Housing Data Analysis**\n",
        "Dataset: The analysis is based on administrative data covering over 21,000 house sales that took place from May 2014 to May 2015 in King County.\n",
        "Data Features: The dataset includes information on various aspects of homes such as prices, number of bedrooms, year of construction, and home conditions.\n",
        "Housing Market: King County offers a diverse range of housing options including single-family homes, townhouses, condominiums, and apartments.\n",
        "\n",
        "**Housing Varieties**\n",
        "Single-family Homes: Ranging from historic to modern, these homes cater to different architectural and energy-efficient preferences.\n",
        "Townhouses and Condominiums: These options are popular in urban areas like Seattle, providing a mix of affordability and convenience.\n",
        "\n",
        "**Clientele**\n",
        "Diverse Buyers: The county caters to a diverse range of buyers including first-time homebuyers, families, young professionals, and retirees.\n",
        "Tech Influence: The presence of tech giants like Microsoft and Amazon in the county attracts a significant number of tech professionals, impacting the demand for upscale, modern homes."
      ]
    },
    {
      "cell_type": "markdown",
      "metadata": {
        "id": "VCruP1NEef8q"
      },
      "source": [
        "#Analysis Objectives\n",
        "The analysis on house sales in King County aims to achieve the following objectives:\n",
        "\n",
        "*   Identify key features strongly correlated with price\n",
        "*   Investigate the relationship between house size and price\n",
        "*   Analyze how price correlates with the condition and grade of the houses\n",
        "*   Explore the relationship between price and home features such as bedrooms and bathrooms + view\n",
        "*   Identify the association between price and location\n"
      ]
    },
    {
      "cell_type": "markdown",
      "metadata": {
        "id": "EELncVF1ef8s"
      },
      "source": [
        "#Why?\n",
        "These objectives aim to leverage data analysis and multiple regression modeling to provide valuable insights and recommendations for homeowners and real estate agencies, aiding in informed investment decisions."
      ]
    },
    {
      "cell_type": "markdown",
      "metadata": {
        "id": "OS66qAH7ef8t"
      },
      "source": [
        "#Business and Data Understanding\n",
        "**Housing Affordability:**\n",
        "The cost of housing in King County, particularly in areas like Seattle, has risen significantly, posing challenges for low and middle-income families.\n",
        "Access to affordable housing options has become a pressing concern due to the increased cost of living.\n",
        "\n",
        "**Shortage of Housing Units:**\n",
        "The shortage of housing units has led to intense competition among buyers, as the housing supply struggles to keep up with the growing demand, resulting in rising property prices.\n",
        "\n",
        "**Traffic Congestion:**\n",
        "Urban areas in King County experience heavy traffic congestion, impacting commutes and accessibility.\n",
        "\n",
        "**Climate Change Challenges:**\n",
        "Climate change, including rising sea levels and extreme weather events, poses challenges for waterfront properties and requires careful consideration in real estate planning and development.\n",
        "\n",
        "Solutions\n",
        "**Proper Urban Planning:**\n",
        "Government investment in good infrastructure and the establishment of systems like efficient public transportation can improve connectivity between residential areas and employment centers.\n",
        "\n",
        "**Government Initiatives:**\n",
        "Programs offering subsidies, partnerships with developers, and tax credits can incentivize the supply of affordable housing.\n",
        "\n",
        "**Increasing Housing Supply:**\n",
        "Streamlining permitting processes and zoning regulations can facilitate the construction of new housing units, encouraging mixed-use developments and exploring options for affordable housing on public land.\n",
        "\n",
        "**Climate Change Mitigation:**\n",
        "Promoting green building practices, protecting natural habitats, incorporating green spaces within urban areas, and implementing climate-resilient design standards can help address the challenges posed by climate change."
      ]
    },
    {
      "cell_type": "markdown",
      "metadata": {
        "id": "Z1FGIC5Lef8v"
      },
      "source": [
        "#DATA Cleaning and Preprocessing"
      ]
    },
    {
      "cell_type": "code",
      "execution_count": 4,
      "metadata": {
        "id": "gH2n7cDief8w"
      },
      "outputs": [],
      "source": [
        "#Importing relevant libraries\n",
        "import pandas as pd\n",
        "import numpy as np\n",
        "\n",
        "import matplotlib.pyplot as plt\n",
        "from matplotlib import style\n",
        "style.use('ggplot')\n",
        "import seaborn as sns\n",
        "\n",
        "from sklearn.model_selection import train_test_split\n",
        "import xgboost as xgb\n",
        "\n",
        "from sklearn import metrics\n",
        "from sklearn.inspection import permutation_importance\n",
        "import statsmodels.api as sm\n",
        "\n",
        "from sklearn.linear_model import LinearRegression\n",
        "from sklearn.feature_selection import RFE\n",
        "from sklearn.preprocessing import PolynomialFeatures, StandardScaler\n",
        "from sklearn.feature_selection import SelectKBest"
      ]
    },
    {
      "cell_type": "code",
      "execution_count": 5,
      "metadata": {
        "colab": {
          "base_uri": "https://localhost:8080/"
        },
        "id": "YjekyuYAef82",
        "outputId": "85c2a097-35e5-4648-993a-20185fd66d12"
      },
      "outputs": [
        {
          "output_type": "stream",
          "name": "stdout",
          "text": [
            "<class 'pandas.core.frame.DataFrame'>\n",
            "RangeIndex: 21597 entries, 0 to 21596\n",
            "Data columns (total 21 columns):\n",
            " #   Column         Non-Null Count  Dtype  \n",
            "---  ------         --------------  -----  \n",
            " 0   id             21597 non-null  int64  \n",
            " 1   date           21597 non-null  object \n",
            " 2   price          21597 non-null  float64\n",
            " 3   bedrooms       21597 non-null  int64  \n",
            " 4   bathrooms      21597 non-null  float64\n",
            " 5   sqft_living    21597 non-null  int64  \n",
            " 6   sqft_lot       21597 non-null  int64  \n",
            " 7   floors         21597 non-null  float64\n",
            " 8   waterfront     19221 non-null  object \n",
            " 9   view           21534 non-null  object \n",
            " 10  condition      21597 non-null  object \n",
            " 11  grade          21597 non-null  object \n",
            " 12  sqft_above     21597 non-null  int64  \n",
            " 13  sqft_basement  21597 non-null  object \n",
            " 14  yr_built       21597 non-null  int64  \n",
            " 15  yr_renovated   17755 non-null  float64\n",
            " 16  zipcode        21597 non-null  int64  \n",
            " 17  lat            21597 non-null  float64\n",
            " 18  long           21597 non-null  float64\n",
            " 19  sqft_living15  21597 non-null  int64  \n",
            " 20  sqft_lot15     21597 non-null  int64  \n",
            "dtypes: float64(6), int64(9), object(6)\n",
            "memory usage: 3.5+ MB\n"
          ]
        }
      ],
      "source": [
        "#Data Loading\n",
        "df = pd.read_csv('/content/kc_house_data.csv')\n",
        "df.info()"
      ]
    },
    {
      "cell_type": "code",
      "execution_count": 6,
      "metadata": {
        "colab": {
          "base_uri": "https://localhost:8080/"
        },
        "id": "29ZELV60ef85",
        "outputId": "182bb23c-451e-419b-d685-12e315f7f316"
      },
      "outputs": [
        {
          "output_type": "execute_result",
          "data": {
            "text/plain": [
              "Index(['id', 'date', 'price', 'bedrooms', 'bathrooms', 'sqft_living',\n",
              "       'sqft_lot', 'floors', 'waterfront', 'view', 'condition', 'grade',\n",
              "       'sqft_above', 'sqft_basement', 'yr_built', 'yr_renovated', 'zipcode',\n",
              "       'lat', 'long', 'sqft_living15', 'sqft_lot15'],\n",
              "      dtype='object')"
            ]
          },
          "metadata": {},
          "execution_count": 6
        }
      ],
      "source": [
        "df.columns"
      ]
    },
    {
      "cell_type": "markdown",
      "metadata": {
        "id": "m9EdRzJYef87"
      },
      "source": [
        "Detailed summary\n",
        "\n",
        "id : A property identification number is a number assigned to parcels of real property by the tax assessor of a particular jurisdiction for purposes of identification and record keeping. date : Date of transaction\n",
        "\n",
        "price : Price of house\n",
        "\n",
        "bedrooms, bathrooms : Number\n",
        "\n",
        "sqft_living, sqft_lot : The Original square footage of the living and lot space when the house was built\n",
        "\n",
        "floors : Total floors in the house\n",
        "\n",
        "waterfront: Whether the house is on a waterfront(1: yes, 0: no)\n",
        "\n",
        "view : special view?\n",
        "\n",
        "condition : Condition of the house\n",
        "\n",
        "grade : Classification by construction quality which refers to the types of materials used and the quality of workmanship. Buildings of better quality (higher grade) cost more to build per unit of measure and command higher value.\n",
        "\n",
        "\n",
        "sqft_above,sqft_basement : Square footage of house apart from basement and basement area\n",
        "\n",
        "yr_built : Built year\n",
        "\n",
        "yr_renovated : Year when the house was renovated\n",
        "\n",
        "zipcode, lat, long : zip code, latitude and logtitude coordinate of the house\n",
        "\n",
        "sqft_living15, sqft_lot15 : The latest square footage of the living and lot space ( was taken in 2015 )"
      ]
    },
    {
      "cell_type": "code",
      "execution_count": 7,
      "metadata": {
        "colab": {
          "base_uri": "https://localhost:8080/"
        },
        "id": "RiLi1I61ef88",
        "outputId": "bf8e8fcd-6eda-4b52-92ef-de6e9b5c5976"
      },
      "outputs": [
        {
          "output_type": "execute_result",
          "data": {
            "text/plain": [
              "id                 int64\n",
              "date              object\n",
              "price            float64\n",
              "bedrooms           int64\n",
              "bathrooms        float64\n",
              "sqft_living        int64\n",
              "sqft_lot           int64\n",
              "floors           float64\n",
              "waterfront        object\n",
              "view              object\n",
              "condition         object\n",
              "grade             object\n",
              "sqft_above         int64\n",
              "sqft_basement     object\n",
              "yr_built           int64\n",
              "yr_renovated     float64\n",
              "zipcode            int64\n",
              "lat              float64\n",
              "long             float64\n",
              "sqft_living15      int64\n",
              "sqft_lot15         int64\n",
              "dtype: object"
            ]
          },
          "metadata": {},
          "execution_count": 7
        }
      ],
      "source": [
        "#checking for the data types\n",
        "df.dtypes"
      ]
    },
    {
      "cell_type": "code",
      "execution_count": 8,
      "metadata": {
        "colab": {
          "base_uri": "https://localhost:8080/",
          "height": 320
        },
        "id": "o8PGmbsHef8-",
        "outputId": "6dae3356-ca12-4623-eede-6326a31cf930"
      },
      "outputs": [
        {
          "output_type": "execute_result",
          "data": {
            "text/plain": [
              "                 id         price      bedrooms     bathrooms   sqft_living  \\\n",
              "count  2.159700e+04  2.159700e+04  21597.000000  21597.000000  21597.000000   \n",
              "mean   4.580474e+09  5.402966e+05      3.373200      2.115826   2080.321850   \n",
              "std    2.876736e+09  3.673681e+05      0.926299      0.768984    918.106125   \n",
              "min    1.000102e+06  7.800000e+04      1.000000      0.500000    370.000000   \n",
              "25%    2.123049e+09  3.220000e+05      3.000000      1.750000   1430.000000   \n",
              "50%    3.904930e+09  4.500000e+05      3.000000      2.250000   1910.000000   \n",
              "75%    7.308900e+09  6.450000e+05      4.000000      2.500000   2550.000000   \n",
              "max    9.900000e+09  7.700000e+06     33.000000      8.000000  13540.000000   \n",
              "\n",
              "           sqft_lot        floors    sqft_above      yr_built  yr_renovated  \\\n",
              "count  2.159700e+04  21597.000000  21597.000000  21597.000000  17755.000000   \n",
              "mean   1.509941e+04      1.494096   1788.596842   1970.999676     83.636778   \n",
              "std    4.141264e+04      0.539683    827.759761     29.375234    399.946414   \n",
              "min    5.200000e+02      1.000000    370.000000   1900.000000      0.000000   \n",
              "25%    5.040000e+03      1.000000   1190.000000   1951.000000      0.000000   \n",
              "50%    7.618000e+03      1.500000   1560.000000   1975.000000      0.000000   \n",
              "75%    1.068500e+04      2.000000   2210.000000   1997.000000      0.000000   \n",
              "max    1.651359e+06      3.500000   9410.000000   2015.000000   2015.000000   \n",
              "\n",
              "            zipcode           lat          long  sqft_living15     sqft_lot15  \n",
              "count  21597.000000  21597.000000  21597.000000   21597.000000   21597.000000  \n",
              "mean   98077.951845     47.560093   -122.213982    1986.620318   12758.283512  \n",
              "std       53.513072      0.138552      0.140724     685.230472   27274.441950  \n",
              "min    98001.000000     47.155900   -122.519000     399.000000     651.000000  \n",
              "25%    98033.000000     47.471100   -122.328000    1490.000000    5100.000000  \n",
              "50%    98065.000000     47.571800   -122.231000    1840.000000    7620.000000  \n",
              "75%    98118.000000     47.678000   -122.125000    2360.000000   10083.000000  \n",
              "max    98199.000000     47.777600   -121.315000    6210.000000  871200.000000  "
            ],
            "text/html": [
              "\n",
              "  <div id=\"df-4154aa05-7efc-44bc-a5d3-096fce3954a2\" class=\"colab-df-container\">\n",
              "    <div>\n",
              "<style scoped>\n",
              "    .dataframe tbody tr th:only-of-type {\n",
              "        vertical-align: middle;\n",
              "    }\n",
              "\n",
              "    .dataframe tbody tr th {\n",
              "        vertical-align: top;\n",
              "    }\n",
              "\n",
              "    .dataframe thead th {\n",
              "        text-align: right;\n",
              "    }\n",
              "</style>\n",
              "<table border=\"1\" class=\"dataframe\">\n",
              "  <thead>\n",
              "    <tr style=\"text-align: right;\">\n",
              "      <th></th>\n",
              "      <th>id</th>\n",
              "      <th>price</th>\n",
              "      <th>bedrooms</th>\n",
              "      <th>bathrooms</th>\n",
              "      <th>sqft_living</th>\n",
              "      <th>sqft_lot</th>\n",
              "      <th>floors</th>\n",
              "      <th>sqft_above</th>\n",
              "      <th>yr_built</th>\n",
              "      <th>yr_renovated</th>\n",
              "      <th>zipcode</th>\n",
              "      <th>lat</th>\n",
              "      <th>long</th>\n",
              "      <th>sqft_living15</th>\n",
              "      <th>sqft_lot15</th>\n",
              "    </tr>\n",
              "  </thead>\n",
              "  <tbody>\n",
              "    <tr>\n",
              "      <th>count</th>\n",
              "      <td>2.159700e+04</td>\n",
              "      <td>2.159700e+04</td>\n",
              "      <td>21597.000000</td>\n",
              "      <td>21597.000000</td>\n",
              "      <td>21597.000000</td>\n",
              "      <td>2.159700e+04</td>\n",
              "      <td>21597.000000</td>\n",
              "      <td>21597.000000</td>\n",
              "      <td>21597.000000</td>\n",
              "      <td>17755.000000</td>\n",
              "      <td>21597.000000</td>\n",
              "      <td>21597.000000</td>\n",
              "      <td>21597.000000</td>\n",
              "      <td>21597.000000</td>\n",
              "      <td>21597.000000</td>\n",
              "    </tr>\n",
              "    <tr>\n",
              "      <th>mean</th>\n",
              "      <td>4.580474e+09</td>\n",
              "      <td>5.402966e+05</td>\n",
              "      <td>3.373200</td>\n",
              "      <td>2.115826</td>\n",
              "      <td>2080.321850</td>\n",
              "      <td>1.509941e+04</td>\n",
              "      <td>1.494096</td>\n",
              "      <td>1788.596842</td>\n",
              "      <td>1970.999676</td>\n",
              "      <td>83.636778</td>\n",
              "      <td>98077.951845</td>\n",
              "      <td>47.560093</td>\n",
              "      <td>-122.213982</td>\n",
              "      <td>1986.620318</td>\n",
              "      <td>12758.283512</td>\n",
              "    </tr>\n",
              "    <tr>\n",
              "      <th>std</th>\n",
              "      <td>2.876736e+09</td>\n",
              "      <td>3.673681e+05</td>\n",
              "      <td>0.926299</td>\n",
              "      <td>0.768984</td>\n",
              "      <td>918.106125</td>\n",
              "      <td>4.141264e+04</td>\n",
              "      <td>0.539683</td>\n",
              "      <td>827.759761</td>\n",
              "      <td>29.375234</td>\n",
              "      <td>399.946414</td>\n",
              "      <td>53.513072</td>\n",
              "      <td>0.138552</td>\n",
              "      <td>0.140724</td>\n",
              "      <td>685.230472</td>\n",
              "      <td>27274.441950</td>\n",
              "    </tr>\n",
              "    <tr>\n",
              "      <th>min</th>\n",
              "      <td>1.000102e+06</td>\n",
              "      <td>7.800000e+04</td>\n",
              "      <td>1.000000</td>\n",
              "      <td>0.500000</td>\n",
              "      <td>370.000000</td>\n",
              "      <td>5.200000e+02</td>\n",
              "      <td>1.000000</td>\n",
              "      <td>370.000000</td>\n",
              "      <td>1900.000000</td>\n",
              "      <td>0.000000</td>\n",
              "      <td>98001.000000</td>\n",
              "      <td>47.155900</td>\n",
              "      <td>-122.519000</td>\n",
              "      <td>399.000000</td>\n",
              "      <td>651.000000</td>\n",
              "    </tr>\n",
              "    <tr>\n",
              "      <th>25%</th>\n",
              "      <td>2.123049e+09</td>\n",
              "      <td>3.220000e+05</td>\n",
              "      <td>3.000000</td>\n",
              "      <td>1.750000</td>\n",
              "      <td>1430.000000</td>\n",
              "      <td>5.040000e+03</td>\n",
              "      <td>1.000000</td>\n",
              "      <td>1190.000000</td>\n",
              "      <td>1951.000000</td>\n",
              "      <td>0.000000</td>\n",
              "      <td>98033.000000</td>\n",
              "      <td>47.471100</td>\n",
              "      <td>-122.328000</td>\n",
              "      <td>1490.000000</td>\n",
              "      <td>5100.000000</td>\n",
              "    </tr>\n",
              "    <tr>\n",
              "      <th>50%</th>\n",
              "      <td>3.904930e+09</td>\n",
              "      <td>4.500000e+05</td>\n",
              "      <td>3.000000</td>\n",
              "      <td>2.250000</td>\n",
              "      <td>1910.000000</td>\n",
              "      <td>7.618000e+03</td>\n",
              "      <td>1.500000</td>\n",
              "      <td>1560.000000</td>\n",
              "      <td>1975.000000</td>\n",
              "      <td>0.000000</td>\n",
              "      <td>98065.000000</td>\n",
              "      <td>47.571800</td>\n",
              "      <td>-122.231000</td>\n",
              "      <td>1840.000000</td>\n",
              "      <td>7620.000000</td>\n",
              "    </tr>\n",
              "    <tr>\n",
              "      <th>75%</th>\n",
              "      <td>7.308900e+09</td>\n",
              "      <td>6.450000e+05</td>\n",
              "      <td>4.000000</td>\n",
              "      <td>2.500000</td>\n",
              "      <td>2550.000000</td>\n",
              "      <td>1.068500e+04</td>\n",
              "      <td>2.000000</td>\n",
              "      <td>2210.000000</td>\n",
              "      <td>1997.000000</td>\n",
              "      <td>0.000000</td>\n",
              "      <td>98118.000000</td>\n",
              "      <td>47.678000</td>\n",
              "      <td>-122.125000</td>\n",
              "      <td>2360.000000</td>\n",
              "      <td>10083.000000</td>\n",
              "    </tr>\n",
              "    <tr>\n",
              "      <th>max</th>\n",
              "      <td>9.900000e+09</td>\n",
              "      <td>7.700000e+06</td>\n",
              "      <td>33.000000</td>\n",
              "      <td>8.000000</td>\n",
              "      <td>13540.000000</td>\n",
              "      <td>1.651359e+06</td>\n",
              "      <td>3.500000</td>\n",
              "      <td>9410.000000</td>\n",
              "      <td>2015.000000</td>\n",
              "      <td>2015.000000</td>\n",
              "      <td>98199.000000</td>\n",
              "      <td>47.777600</td>\n",
              "      <td>-121.315000</td>\n",
              "      <td>6210.000000</td>\n",
              "      <td>871200.000000</td>\n",
              "    </tr>\n",
              "  </tbody>\n",
              "</table>\n",
              "</div>\n",
              "    <div class=\"colab-df-buttons\">\n",
              "\n",
              "  <div class=\"colab-df-container\">\n",
              "    <button class=\"colab-df-convert\" onclick=\"convertToInteractive('df-4154aa05-7efc-44bc-a5d3-096fce3954a2')\"\n",
              "            title=\"Convert this dataframe to an interactive table.\"\n",
              "            style=\"display:none;\">\n",
              "\n",
              "  <svg xmlns=\"http://www.w3.org/2000/svg\" height=\"24px\" viewBox=\"0 -960 960 960\">\n",
              "    <path d=\"M120-120v-720h720v720H120Zm60-500h600v-160H180v160Zm220 220h160v-160H400v160Zm0 220h160v-160H400v160ZM180-400h160v-160H180v160Zm440 0h160v-160H620v160ZM180-180h160v-160H180v160Zm440 0h160v-160H620v160Z\"/>\n",
              "  </svg>\n",
              "    </button>\n",
              "\n",
              "  <style>\n",
              "    .colab-df-container {\n",
              "      display:flex;\n",
              "      gap: 12px;\n",
              "    }\n",
              "\n",
              "    .colab-df-convert {\n",
              "      background-color: #E8F0FE;\n",
              "      border: none;\n",
              "      border-radius: 50%;\n",
              "      cursor: pointer;\n",
              "      display: none;\n",
              "      fill: #1967D2;\n",
              "      height: 32px;\n",
              "      padding: 0 0 0 0;\n",
              "      width: 32px;\n",
              "    }\n",
              "\n",
              "    .colab-df-convert:hover {\n",
              "      background-color: #E2EBFA;\n",
              "      box-shadow: 0px 1px 2px rgba(60, 64, 67, 0.3), 0px 1px 3px 1px rgba(60, 64, 67, 0.15);\n",
              "      fill: #174EA6;\n",
              "    }\n",
              "\n",
              "    .colab-df-buttons div {\n",
              "      margin-bottom: 4px;\n",
              "    }\n",
              "\n",
              "    [theme=dark] .colab-df-convert {\n",
              "      background-color: #3B4455;\n",
              "      fill: #D2E3FC;\n",
              "    }\n",
              "\n",
              "    [theme=dark] .colab-df-convert:hover {\n",
              "      background-color: #434B5C;\n",
              "      box-shadow: 0px 1px 3px 1px rgba(0, 0, 0, 0.15);\n",
              "      filter: drop-shadow(0px 1px 2px rgba(0, 0, 0, 0.3));\n",
              "      fill: #FFFFFF;\n",
              "    }\n",
              "  </style>\n",
              "\n",
              "    <script>\n",
              "      const buttonEl =\n",
              "        document.querySelector('#df-4154aa05-7efc-44bc-a5d3-096fce3954a2 button.colab-df-convert');\n",
              "      buttonEl.style.display =\n",
              "        google.colab.kernel.accessAllowed ? 'block' : 'none';\n",
              "\n",
              "      async function convertToInteractive(key) {\n",
              "        const element = document.querySelector('#df-4154aa05-7efc-44bc-a5d3-096fce3954a2');\n",
              "        const dataTable =\n",
              "          await google.colab.kernel.invokeFunction('convertToInteractive',\n",
              "                                                    [key], {});\n",
              "        if (!dataTable) return;\n",
              "\n",
              "        const docLinkHtml = 'Like what you see? Visit the ' +\n",
              "          '<a target=\"_blank\" href=https://colab.research.google.com/notebooks/data_table.ipynb>data table notebook</a>'\n",
              "          + ' to learn more about interactive tables.';\n",
              "        element.innerHTML = '';\n",
              "        dataTable['output_type'] = 'display_data';\n",
              "        await google.colab.output.renderOutput(dataTable, element);\n",
              "        const docLink = document.createElement('div');\n",
              "        docLink.innerHTML = docLinkHtml;\n",
              "        element.appendChild(docLink);\n",
              "      }\n",
              "    </script>\n",
              "  </div>\n",
              "\n",
              "\n",
              "<div id=\"df-33455e06-bc9e-406d-aebb-ffef5b02c83f\">\n",
              "  <button class=\"colab-df-quickchart\" onclick=\"quickchart('df-33455e06-bc9e-406d-aebb-ffef5b02c83f')\"\n",
              "            title=\"Suggest charts\"\n",
              "            style=\"display:none;\">\n",
              "\n",
              "<svg xmlns=\"http://www.w3.org/2000/svg\" height=\"24px\"viewBox=\"0 0 24 24\"\n",
              "     width=\"24px\">\n",
              "    <g>\n",
              "        <path d=\"M19 3H5c-1.1 0-2 .9-2 2v14c0 1.1.9 2 2 2h14c1.1 0 2-.9 2-2V5c0-1.1-.9-2-2-2zM9 17H7v-7h2v7zm4 0h-2V7h2v10zm4 0h-2v-4h2v4z\"/>\n",
              "    </g>\n",
              "</svg>\n",
              "  </button>\n",
              "\n",
              "<style>\n",
              "  .colab-df-quickchart {\n",
              "      --bg-color: #E8F0FE;\n",
              "      --fill-color: #1967D2;\n",
              "      --hover-bg-color: #E2EBFA;\n",
              "      --hover-fill-color: #174EA6;\n",
              "      --disabled-fill-color: #AAA;\n",
              "      --disabled-bg-color: #DDD;\n",
              "  }\n",
              "\n",
              "  [theme=dark] .colab-df-quickchart {\n",
              "      --bg-color: #3B4455;\n",
              "      --fill-color: #D2E3FC;\n",
              "      --hover-bg-color: #434B5C;\n",
              "      --hover-fill-color: #FFFFFF;\n",
              "      --disabled-bg-color: #3B4455;\n",
              "      --disabled-fill-color: #666;\n",
              "  }\n",
              "\n",
              "  .colab-df-quickchart {\n",
              "    background-color: var(--bg-color);\n",
              "    border: none;\n",
              "    border-radius: 50%;\n",
              "    cursor: pointer;\n",
              "    display: none;\n",
              "    fill: var(--fill-color);\n",
              "    height: 32px;\n",
              "    padding: 0;\n",
              "    width: 32px;\n",
              "  }\n",
              "\n",
              "  .colab-df-quickchart:hover {\n",
              "    background-color: var(--hover-bg-color);\n",
              "    box-shadow: 0 1px 2px rgba(60, 64, 67, 0.3), 0 1px 3px 1px rgba(60, 64, 67, 0.15);\n",
              "    fill: var(--button-hover-fill-color);\n",
              "  }\n",
              "\n",
              "  .colab-df-quickchart-complete:disabled,\n",
              "  .colab-df-quickchart-complete:disabled:hover {\n",
              "    background-color: var(--disabled-bg-color);\n",
              "    fill: var(--disabled-fill-color);\n",
              "    box-shadow: none;\n",
              "  }\n",
              "\n",
              "  .colab-df-spinner {\n",
              "    border: 2px solid var(--fill-color);\n",
              "    border-color: transparent;\n",
              "    border-bottom-color: var(--fill-color);\n",
              "    animation:\n",
              "      spin 1s steps(1) infinite;\n",
              "  }\n",
              "\n",
              "  @keyframes spin {\n",
              "    0% {\n",
              "      border-color: transparent;\n",
              "      border-bottom-color: var(--fill-color);\n",
              "      border-left-color: var(--fill-color);\n",
              "    }\n",
              "    20% {\n",
              "      border-color: transparent;\n",
              "      border-left-color: var(--fill-color);\n",
              "      border-top-color: var(--fill-color);\n",
              "    }\n",
              "    30% {\n",
              "      border-color: transparent;\n",
              "      border-left-color: var(--fill-color);\n",
              "      border-top-color: var(--fill-color);\n",
              "      border-right-color: var(--fill-color);\n",
              "    }\n",
              "    40% {\n",
              "      border-color: transparent;\n",
              "      border-right-color: var(--fill-color);\n",
              "      border-top-color: var(--fill-color);\n",
              "    }\n",
              "    60% {\n",
              "      border-color: transparent;\n",
              "      border-right-color: var(--fill-color);\n",
              "    }\n",
              "    80% {\n",
              "      border-color: transparent;\n",
              "      border-right-color: var(--fill-color);\n",
              "      border-bottom-color: var(--fill-color);\n",
              "    }\n",
              "    90% {\n",
              "      border-color: transparent;\n",
              "      border-bottom-color: var(--fill-color);\n",
              "    }\n",
              "  }\n",
              "</style>\n",
              "\n",
              "  <script>\n",
              "    async function quickchart(key) {\n",
              "      const quickchartButtonEl =\n",
              "        document.querySelector('#' + key + ' button');\n",
              "      quickchartButtonEl.disabled = true;  // To prevent multiple clicks.\n",
              "      quickchartButtonEl.classList.add('colab-df-spinner');\n",
              "      try {\n",
              "        const charts = await google.colab.kernel.invokeFunction(\n",
              "            'suggestCharts', [key], {});\n",
              "      } catch (error) {\n",
              "        console.error('Error during call to suggestCharts:', error);\n",
              "      }\n",
              "      quickchartButtonEl.classList.remove('colab-df-spinner');\n",
              "      quickchartButtonEl.classList.add('colab-df-quickchart-complete');\n",
              "    }\n",
              "    (() => {\n",
              "      let quickchartButtonEl =\n",
              "        document.querySelector('#df-33455e06-bc9e-406d-aebb-ffef5b02c83f button');\n",
              "      quickchartButtonEl.style.display =\n",
              "        google.colab.kernel.accessAllowed ? 'block' : 'none';\n",
              "    })();\n",
              "  </script>\n",
              "</div>\n",
              "    </div>\n",
              "  </div>\n"
            ],
            "application/vnd.google.colaboratory.intrinsic+json": {
              "type": "dataframe",
              "summary": "{\n  \"name\": \"df\",\n  \"rows\": 8,\n  \"fields\": [\n    {\n      \"column\": \"id\",\n      \"properties\": {\n        \"dtype\": \"number\",\n        \"std\": 3436536175.18902,\n        \"min\": 21597.0,\n        \"max\": 9900000190.0,\n        \"num_unique_values\": 8,\n        \"samples\": [\n          4580474287.770987,\n          3904930410.0,\n          21597.0\n        ],\n        \"semantic_type\": \"\",\n        \"description\": \"\"\n      }\n    },\n    {\n      \"column\": \"price\",\n      \"properties\": {\n        \"dtype\": \"number\",\n        \"std\": 2608586.228000891,\n        \"min\": 21597.0,\n        \"max\": 7700000.0,\n        \"num_unique_values\": 8,\n        \"samples\": [\n          540296.5735055795,\n          450000.0,\n          21597.0\n        ],\n        \"semantic_type\": \"\",\n        \"description\": \"\"\n      }\n    },\n    {\n      \"column\": \"bedrooms\",\n      \"properties\": {\n        \"dtype\": \"number\",\n        \"std\": 7633.260597421209,\n        \"min\": 0.9262988945421479,\n        \"max\": 21597.0,\n        \"num_unique_values\": 7,\n        \"samples\": [\n          21597.0,\n          3.3731999814789093,\n          4.0\n        ],\n        \"semantic_type\": \"\",\n        \"description\": \"\"\n      }\n    },\n    {\n      \"column\": \"bathrooms\",\n      \"properties\": {\n        \"dtype\": \"number\",\n        \"std\": 7634.7896127930435,\n        \"min\": 0.5,\n        \"max\": 21597.0,\n        \"num_unique_values\": 8,\n        \"samples\": [\n          2.1158262721674306,\n          2.25,\n          21597.0\n        ],\n        \"semantic_type\": \"\",\n        \"description\": \"\"\n      }\n    },\n    {\n      \"column\": \"sqft_living\",\n      \"properties\": {\n        \"dtype\": \"number\",\n        \"std\": 7754.222939040549,\n        \"min\": 370.0,\n        \"max\": 21597.0,\n        \"num_unique_values\": 8,\n        \"samples\": [\n          2080.3218502569803,\n          1910.0,\n          21597.0\n        ],\n        \"semantic_type\": \"\",\n        \"description\": \"\"\n      }\n    },\n    {\n      \"column\": \"sqft_lot\",\n      \"properties\": {\n        \"dtype\": \"number\",\n        \"std\": 578831.6596667598,\n        \"min\": 520.0,\n        \"max\": 1651359.0,\n        \"num_unique_values\": 8,\n        \"samples\": [\n          15099.408760475992,\n          7618.0,\n          21597.0\n        ],\n        \"semantic_type\": \"\",\n        \"description\": \"\"\n      }\n    },\n    {\n      \"column\": \"floors\",\n      \"properties\": {\n        \"dtype\": \"number\",\n        \"std\": 7635.135339320982,\n        \"min\": 0.5396827909775457,\n        \"max\": 21597.0,\n        \"num_unique_values\": 7,\n        \"samples\": [\n          21597.0,\n          1.4940964022780943,\n          2.0\n        ],\n        \"semantic_type\": \"\",\n        \"description\": \"\"\n      }\n    },\n    {\n      \"column\": \"sqft_above\",\n      \"properties\": {\n        \"dtype\": \"number\",\n        \"std\": 7349.081332800358,\n        \"min\": 370.0,\n        \"max\": 21597.0,\n        \"num_unique_values\": 8,\n        \"samples\": [\n          1788.5968421540028,\n          1560.0,\n          21597.0\n        ],\n        \"semantic_type\": \"\",\n        \"description\": \"\"\n      }\n    },\n    {\n      \"column\": \"yr_built\",\n      \"properties\": {\n        \"dtype\": \"number\",\n        \"std\": 7070.470126873352,\n        \"min\": 29.375234132441644,\n        \"max\": 21597.0,\n        \"num_unique_values\": 8,\n        \"samples\": [\n          1970.9996758809093,\n          1975.0,\n          21597.0\n        ],\n        \"semantic_type\": \"\",\n        \"description\": \"\"\n      }\n    },\n    {\n      \"column\": \"yr_renovated\",\n      \"properties\": {\n        \"dtype\": \"number\",\n        \"std\": 6189.752455574011,\n        \"min\": 0.0,\n        \"max\": 17755.0,\n        \"num_unique_values\": 5,\n        \"samples\": [\n          83.6367783722895,\n          2015.0,\n          399.9464138788162\n        ],\n        \"semantic_type\": \"\",\n        \"description\": \"\"\n      }\n    },\n    {\n      \"column\": \"zipcode\",\n      \"properties\": {\n        \"dtype\": \"number\",\n        \"std\": 40800.52387987497,\n        \"min\": 53.51307235352816,\n        \"max\": 98199.0,\n        \"num_unique_values\": 8,\n        \"samples\": [\n          98077.95184516368,\n          98065.0,\n          21597.0\n        ],\n        \"semantic_type\": \"\",\n        \"description\": \"\"\n      }\n    },\n    {\n      \"column\": \"lat\",\n      \"properties\": {\n        \"dtype\": \"number\",\n        \"std\": 7621.298120453811,\n        \"min\": 0.1385517681730718,\n        \"max\": 21597.0,\n        \"num_unique_values\": 8,\n        \"samples\": [\n          47.56009299439737,\n          47.5718,\n          21597.0\n        ],\n        \"semantic_type\": \"\",\n        \"description\": \"\"\n      }\n    },\n    {\n      \"column\": \"long\",\n      \"properties\": {\n        \"dtype\": \"number\",\n        \"std\": 7672.813309437553,\n        \"min\": -122.519,\n        \"max\": 21597.0,\n        \"num_unique_values\": 8,\n        \"samples\": [\n          -122.2139824975691,\n          -122.231,\n          21597.0\n        ],\n        \"semantic_type\": \"\",\n        \"description\": \"\"\n      }\n    },\n    {\n      \"column\": \"sqft_living15\",\n      \"properties\": {\n        \"dtype\": \"number\",\n        \"std\": 7107.282453987786,\n        \"min\": 399.0,\n        \"max\": 21597.0,\n        \"num_unique_values\": 8,\n        \"samples\": [\n          1986.6203176367087,\n          1840.0,\n          21597.0\n        ],\n        \"semantic_type\": \"\",\n        \"description\": \"\"\n      }\n    },\n    {\n      \"column\": \"sqft_lot15\",\n      \"properties\": {\n        \"dtype\": \"number\",\n        \"std\": 303841.8018906116,\n        \"min\": 651.0,\n        \"max\": 871200.0,\n        \"num_unique_values\": 8,\n        \"samples\": [\n          12758.283511598833,\n          7620.0,\n          21597.0\n        ],\n        \"semantic_type\": \"\",\n        \"description\": \"\"\n      }\n    }\n  ]\n}"
            }
          },
          "metadata": {},
          "execution_count": 8
        }
      ],
      "source": [
        "df.describe()"
      ]
    },
    {
      "cell_type": "code",
      "execution_count": 9,
      "metadata": {
        "colab": {
          "base_uri": "https://localhost:8080/"
        },
        "id": "iwXdrDBPef8_",
        "outputId": "f56d61e5-2d97-4e75-ca1b-51609b42306b"
      },
      "outputs": [
        {
          "output_type": "stream",
          "name": "stdout",
          "text": [
            "<class 'pandas.core.frame.DataFrame'>\n",
            "RangeIndex: 21597 entries, 0 to 21596\n",
            "Data columns (total 21 columns):\n",
            " #   Column         Non-Null Count  Dtype  \n",
            "---  ------         --------------  -----  \n",
            " 0   id             21597 non-null  int64  \n",
            " 1   date           21597 non-null  object \n",
            " 2   price          21597 non-null  float64\n",
            " 3   bedrooms       21597 non-null  int64  \n",
            " 4   bathrooms      21597 non-null  float64\n",
            " 5   sqft_living    21597 non-null  int64  \n",
            " 6   sqft_lot       21597 non-null  int64  \n",
            " 7   floors         21597 non-null  float64\n",
            " 8   waterfront     19221 non-null  object \n",
            " 9   view           21534 non-null  object \n",
            " 10  condition      21597 non-null  object \n",
            " 11  grade          21597 non-null  object \n",
            " 12  sqft_above     21597 non-null  int64  \n",
            " 13  sqft_basement  21597 non-null  object \n",
            " 14  yr_built       21597 non-null  int64  \n",
            " 15  yr_renovated   17755 non-null  float64\n",
            " 16  zipcode        21597 non-null  int64  \n",
            " 17  lat            21597 non-null  float64\n",
            " 18  long           21597 non-null  float64\n",
            " 19  sqft_living15  21597 non-null  int64  \n",
            " 20  sqft_lot15     21597 non-null  int64  \n",
            "dtypes: float64(6), int64(9), object(6)\n",
            "memory usage: 3.5+ MB\n"
          ]
        }
      ],
      "source": [
        "df.info()"
      ]
    },
    {
      "cell_type": "code",
      "execution_count": 10,
      "metadata": {
        "colab": {
          "base_uri": "https://localhost:8080/"
        },
        "id": "mXosFba6ef9A",
        "outputId": "b6e46918-b668-4dfa-c028-3bf92bb84445"
      },
      "outputs": [
        {
          "output_type": "execute_result",
          "data": {
            "text/plain": [
              "0"
            ]
          },
          "metadata": {},
          "execution_count": 10
        }
      ],
      "source": [
        "#checking for duplicates\n",
        "df.duplicated().sum()"
      ]
    },
    {
      "cell_type": "code",
      "execution_count": 11,
      "metadata": {
        "colab": {
          "base_uri": "https://localhost:8080/"
        },
        "id": "M-hawDQXef9B",
        "outputId": "62ed49a4-2cb4-4362-9f5b-035eb7ecb4d8"
      },
      "outputs": [
        {
          "output_type": "execute_result",
          "data": {
            "text/plain": [
              "id               False\n",
              "date             False\n",
              "price            False\n",
              "bedrooms         False\n",
              "bathrooms        False\n",
              "sqft_living      False\n",
              "sqft_lot         False\n",
              "floors           False\n",
              "waterfront        True\n",
              "view              True\n",
              "condition        False\n",
              "grade            False\n",
              "sqft_above       False\n",
              "sqft_basement    False\n",
              "yr_built         False\n",
              "yr_renovated      True\n",
              "zipcode          False\n",
              "lat              False\n",
              "long             False\n",
              "sqft_living15    False\n",
              "sqft_lot15       False\n",
              "dtype: bool"
            ]
          },
          "metadata": {},
          "execution_count": 11
        }
      ],
      "source": [
        "#checking for missing values\n",
        "df.isnull().any()"
      ]
    },
    {
      "cell_type": "code",
      "execution_count": 12,
      "metadata": {
        "colab": {
          "base_uri": "https://localhost:8080/"
        },
        "id": "S2fGFMxfef9B",
        "outputId": "cef40639-791e-4752-e7ae-70c8be330c20"
      },
      "outputs": [
        {
          "output_type": "execute_result",
          "data": {
            "text/plain": [
              "id                  0\n",
              "date                0\n",
              "price               0\n",
              "bedrooms            0\n",
              "bathrooms           0\n",
              "sqft_living         0\n",
              "sqft_lot            0\n",
              "floors              0\n",
              "waterfront       2376\n",
              "view               63\n",
              "condition           0\n",
              "grade               0\n",
              "sqft_above          0\n",
              "sqft_basement       0\n",
              "yr_built            0\n",
              "yr_renovated     3842\n",
              "zipcode             0\n",
              "lat                 0\n",
              "long                0\n",
              "sqft_living15       0\n",
              "sqft_lot15          0\n",
              "dtype: int64"
            ]
          },
          "metadata": {},
          "execution_count": 12
        }
      ],
      "source": [
        "df.isnull().sum()"
      ]
    },
    {
      "cell_type": "code",
      "execution_count": 13,
      "metadata": {
        "id": "wsJVR7w7ef9D"
      },
      "outputs": [],
      "source": [
        "#create a new dataframe for cleaning\n",
        "\n",
        "df2 = df.copy()"
      ]
    },
    {
      "cell_type": "code",
      "execution_count": 14,
      "metadata": {
        "id": "LYEVqt9Jef9E"
      },
      "outputs": [],
      "source": [
        "#replace the  missing value for waterfront with NO then change to binary value\n",
        "\n",
        "df2.loc[df.waterfront.isnull(), 'waterfront'] = 'NO'\n",
        "df2['waterfront'] = df2['waterfront'].apply(lambda x: 0 if x == 'NO' else 1)"
      ]
    },
    {
      "cell_type": "code",
      "execution_count": 15,
      "metadata": {
        "id": "cDxIIVihef9F"
      },
      "outputs": [],
      "source": [
        "#replace view missing value to NONE, then to numerical ordered values\n",
        "\n",
        "df2.loc[df.view.isnull(), 'view'] = 'NONE'\n",
        "view_dict = {'NONE':0, 'FAIR':1, 'AVERAGE':2, 'GOOD':3, 'EXCELLENT':4 }\n",
        "df2['view'].replace(view_dict, inplace = True)\n",
        "#converting them to nuerical values helps us capture the ordinal nature of 'view' categories in predictive models."
      ]
    },
    {
      "cell_type": "code",
      "execution_count": 16,
      "metadata": {
        "id": "ROElHmEZef9F"
      },
      "outputs": [],
      "source": [
        "#replace year renovated to 0 and add renovated column\n",
        "\n",
        "df2.loc[df.yr_renovated.isnull(), 'yr_renovated'] = 0\n",
        "df2['renovated'] = df2['yr_renovated'].apply(lambda x: 0 if x == 0 else 1)"
      ]
    },
    {
      "cell_type": "code",
      "execution_count": 17,
      "metadata": {
        "id": "0OYJGypDef9G"
      },
      "outputs": [],
      "source": [
        "#handling placehoders\n",
        "#the sqft_basement has placeholders in the form of \"?\"\n",
        "#we will add a basement column that is a binary value and replace the placeholder with 0\n",
        "\n",
        "df2['sqft_basement'] = df2['sqft_basement'].replace('?', '0').astype('float')\n",
        "df2['basement'] = df2['sqft_basement'].apply(lambda x: 0 if x == 0 else 1)"
      ]
    },
    {
      "cell_type": "markdown",
      "metadata": {
        "id": "nTmjc6wWef9G"
      },
      "source": [
        "Justification\n",
        "\n",
        "Handling the 'waterfront'\n",
        "Replace the missing values with 'NO' since the missing values indicated"
      ]
    },
    {
      "cell_type": "code",
      "execution_count": 18,
      "metadata": {
        "id": "Y8CVa_Ueef9H"
      },
      "outputs": [],
      "source": [
        "# Change to datetime and add month column\n",
        "\n",
        "df2['date'] = pd.to_datetime(df2['date'])\n",
        "df2['month'] = pd.DatetimeIndex(df2['date']).month\n",
        "\n",
        "# Change condition to numerical ordered values.\n",
        "\n",
        "cond_dict = {'Poor':0, 'Fair':1, 'Average':2, 'Good':3, 'Very Good':4}\n",
        "df2['condition'].replace(cond_dict, inplace=True)\n",
        "\n",
        "# Change grade to numerical ordered values.\n",
        "\n",
        "df2['grade'] = df2['grade'].map(lambda x: int(x.split(' ')[0]))\n",
        "\n",
        "# Add house_age column\n",
        "\n",
        "df2['age'] = df2['date'].dt.year - df2['yr_built']"
      ]
    },
    {
      "cell_type": "code",
      "execution_count": 19,
      "metadata": {
        "colab": {
          "base_uri": "https://localhost:8080/"
        },
        "id": "nj3QEdnPef9I",
        "outputId": "cded726f-9840-4baa-859b-0aeb15e80406"
      },
      "outputs": [
        {
          "output_type": "execute_result",
          "data": {
            "text/plain": [
              "20853"
            ]
          },
          "metadata": {},
          "execution_count": 19
        }
      ],
      "source": [
        "(df2[df2['yr_renovated']==0].shape)[0]"
      ]
    },
    {
      "cell_type": "code",
      "execution_count": 20,
      "metadata": {
        "colab": {
          "base_uri": "https://localhost:8080/",
          "height": 617
        },
        "id": "rz5CEe3bef9J",
        "outputId": "31f1cecf-8213-459c-bd7d-e2767c2532b9"
      },
      "outputs": [
        {
          "output_type": "execute_result",
          "data": {
            "text/plain": [
              "               id       date      price  bedrooms  bathrooms  sqft_living  \\\n",
              "93     6021501535 2014-07-25   430000.0         3       1.50         1580   \n",
              "94     6021501535 2014-12-23   700000.0         3       1.50         1580   \n",
              "313    4139480200 2014-06-18  1380000.0         4       3.25         4290   \n",
              "314    4139480200 2014-12-09  1400000.0         4       3.25         4290   \n",
              "324    7520000520 2014-09-05   232000.0         2       1.00         1240   \n",
              "...           ...        ...        ...       ...        ...          ...   \n",
              "20654  8564860270 2015-03-30   502000.0         4       2.50         2680   \n",
              "20763  6300000226 2014-06-26   240000.0         4       1.00         1200   \n",
              "20764  6300000226 2015-05-04   380000.0         4       1.00         1200   \n",
              "21564  7853420110 2014-10-03   594866.0         3       3.00         2780   \n",
              "21565  7853420110 2015-05-04   625000.0         3       3.00         2780   \n",
              "\n",
              "       sqft_lot  floors  waterfront  view  ...  yr_renovated  zipcode  \\\n",
              "93         5000     1.0           0     0  ...           0.0    98117   \n",
              "94         5000     1.0           0     0  ...           0.0    98117   \n",
              "313       12103     1.0           0     3  ...           0.0    98006   \n",
              "314       12103     1.0           0     3  ...           0.0    98006   \n",
              "324       12092     1.0           0     0  ...        1984.0    98146   \n",
              "...         ...     ...         ...   ...  ...           ...      ...   \n",
              "20654      5539     2.0           0     0  ...           0.0    98045   \n",
              "20763      2171     1.5           0     0  ...           0.0    98133   \n",
              "20764      2171     1.5           0     0  ...           0.0    98133   \n",
              "21564      6000     2.0           0     0  ...           0.0    98065   \n",
              "21565      6000     2.0           0     0  ...           0.0    98065   \n",
              "\n",
              "           lat     long  sqft_living15  sqft_lot15  renovated  basement  \\\n",
              "93     47.6870 -122.386           1570        4500          0         1   \n",
              "94     47.6870 -122.386           1570        4500          0         1   \n",
              "313    47.5503 -122.102           3860       11244          0         1   \n",
              "314    47.5503 -122.102           3860       11244          0         1   \n",
              "324    47.4957 -122.352           1820        7460          1         1   \n",
              "...        ...      ...            ...         ...        ...       ...   \n",
              "20654  47.4759 -121.734           2680        5992          0         0   \n",
              "20763  47.7076 -122.342           1130        1598          0         0   \n",
              "20764  47.7076 -122.342           1130        1598          0         0   \n",
              "21564  47.5184 -121.886           2850        6000          0         0   \n",
              "21565  47.5184 -121.886           2850        6000          0         0   \n",
              "\n",
              "       month  age  \n",
              "93         7   75  \n",
              "94        12   75  \n",
              "313        6   17  \n",
              "314       12   17  \n",
              "324        9   92  \n",
              "...      ...  ...  \n",
              "20654      3    2  \n",
              "20763      6   81  \n",
              "20764      5   82  \n",
              "21564     10    1  \n",
              "21565      5    2  \n",
              "\n",
              "[353 rows x 25 columns]"
            ],
            "text/html": [
              "\n",
              "  <div id=\"df-8e04fca6-5a0b-4bc0-812c-4ea5ceb2c177\" class=\"colab-df-container\">\n",
              "    <div>\n",
              "<style scoped>\n",
              "    .dataframe tbody tr th:only-of-type {\n",
              "        vertical-align: middle;\n",
              "    }\n",
              "\n",
              "    .dataframe tbody tr th {\n",
              "        vertical-align: top;\n",
              "    }\n",
              "\n",
              "    .dataframe thead th {\n",
              "        text-align: right;\n",
              "    }\n",
              "</style>\n",
              "<table border=\"1\" class=\"dataframe\">\n",
              "  <thead>\n",
              "    <tr style=\"text-align: right;\">\n",
              "      <th></th>\n",
              "      <th>id</th>\n",
              "      <th>date</th>\n",
              "      <th>price</th>\n",
              "      <th>bedrooms</th>\n",
              "      <th>bathrooms</th>\n",
              "      <th>sqft_living</th>\n",
              "      <th>sqft_lot</th>\n",
              "      <th>floors</th>\n",
              "      <th>waterfront</th>\n",
              "      <th>view</th>\n",
              "      <th>...</th>\n",
              "      <th>yr_renovated</th>\n",
              "      <th>zipcode</th>\n",
              "      <th>lat</th>\n",
              "      <th>long</th>\n",
              "      <th>sqft_living15</th>\n",
              "      <th>sqft_lot15</th>\n",
              "      <th>renovated</th>\n",
              "      <th>basement</th>\n",
              "      <th>month</th>\n",
              "      <th>age</th>\n",
              "    </tr>\n",
              "  </thead>\n",
              "  <tbody>\n",
              "    <tr>\n",
              "      <th>93</th>\n",
              "      <td>6021501535</td>\n",
              "      <td>2014-07-25</td>\n",
              "      <td>430000.0</td>\n",
              "      <td>3</td>\n",
              "      <td>1.50</td>\n",
              "      <td>1580</td>\n",
              "      <td>5000</td>\n",
              "      <td>1.0</td>\n",
              "      <td>0</td>\n",
              "      <td>0</td>\n",
              "      <td>...</td>\n",
              "      <td>0.0</td>\n",
              "      <td>98117</td>\n",
              "      <td>47.6870</td>\n",
              "      <td>-122.386</td>\n",
              "      <td>1570</td>\n",
              "      <td>4500</td>\n",
              "      <td>0</td>\n",
              "      <td>1</td>\n",
              "      <td>7</td>\n",
              "      <td>75</td>\n",
              "    </tr>\n",
              "    <tr>\n",
              "      <th>94</th>\n",
              "      <td>6021501535</td>\n",
              "      <td>2014-12-23</td>\n",
              "      <td>700000.0</td>\n",
              "      <td>3</td>\n",
              "      <td>1.50</td>\n",
              "      <td>1580</td>\n",
              "      <td>5000</td>\n",
              "      <td>1.0</td>\n",
              "      <td>0</td>\n",
              "      <td>0</td>\n",
              "      <td>...</td>\n",
              "      <td>0.0</td>\n",
              "      <td>98117</td>\n",
              "      <td>47.6870</td>\n",
              "      <td>-122.386</td>\n",
              "      <td>1570</td>\n",
              "      <td>4500</td>\n",
              "      <td>0</td>\n",
              "      <td>1</td>\n",
              "      <td>12</td>\n",
              "      <td>75</td>\n",
              "    </tr>\n",
              "    <tr>\n",
              "      <th>313</th>\n",
              "      <td>4139480200</td>\n",
              "      <td>2014-06-18</td>\n",
              "      <td>1380000.0</td>\n",
              "      <td>4</td>\n",
              "      <td>3.25</td>\n",
              "      <td>4290</td>\n",
              "      <td>12103</td>\n",
              "      <td>1.0</td>\n",
              "      <td>0</td>\n",
              "      <td>3</td>\n",
              "      <td>...</td>\n",
              "      <td>0.0</td>\n",
              "      <td>98006</td>\n",
              "      <td>47.5503</td>\n",
              "      <td>-122.102</td>\n",
              "      <td>3860</td>\n",
              "      <td>11244</td>\n",
              "      <td>0</td>\n",
              "      <td>1</td>\n",
              "      <td>6</td>\n",
              "      <td>17</td>\n",
              "    </tr>\n",
              "    <tr>\n",
              "      <th>314</th>\n",
              "      <td>4139480200</td>\n",
              "      <td>2014-12-09</td>\n",
              "      <td>1400000.0</td>\n",
              "      <td>4</td>\n",
              "      <td>3.25</td>\n",
              "      <td>4290</td>\n",
              "      <td>12103</td>\n",
              "      <td>1.0</td>\n",
              "      <td>0</td>\n",
              "      <td>3</td>\n",
              "      <td>...</td>\n",
              "      <td>0.0</td>\n",
              "      <td>98006</td>\n",
              "      <td>47.5503</td>\n",
              "      <td>-122.102</td>\n",
              "      <td>3860</td>\n",
              "      <td>11244</td>\n",
              "      <td>0</td>\n",
              "      <td>1</td>\n",
              "      <td>12</td>\n",
              "      <td>17</td>\n",
              "    </tr>\n",
              "    <tr>\n",
              "      <th>324</th>\n",
              "      <td>7520000520</td>\n",
              "      <td>2014-09-05</td>\n",
              "      <td>232000.0</td>\n",
              "      <td>2</td>\n",
              "      <td>1.00</td>\n",
              "      <td>1240</td>\n",
              "      <td>12092</td>\n",
              "      <td>1.0</td>\n",
              "      <td>0</td>\n",
              "      <td>0</td>\n",
              "      <td>...</td>\n",
              "      <td>1984.0</td>\n",
              "      <td>98146</td>\n",
              "      <td>47.4957</td>\n",
              "      <td>-122.352</td>\n",
              "      <td>1820</td>\n",
              "      <td>7460</td>\n",
              "      <td>1</td>\n",
              "      <td>1</td>\n",
              "      <td>9</td>\n",
              "      <td>92</td>\n",
              "    </tr>\n",
              "    <tr>\n",
              "      <th>...</th>\n",
              "      <td>...</td>\n",
              "      <td>...</td>\n",
              "      <td>...</td>\n",
              "      <td>...</td>\n",
              "      <td>...</td>\n",
              "      <td>...</td>\n",
              "      <td>...</td>\n",
              "      <td>...</td>\n",
              "      <td>...</td>\n",
              "      <td>...</td>\n",
              "      <td>...</td>\n",
              "      <td>...</td>\n",
              "      <td>...</td>\n",
              "      <td>...</td>\n",
              "      <td>...</td>\n",
              "      <td>...</td>\n",
              "      <td>...</td>\n",
              "      <td>...</td>\n",
              "      <td>...</td>\n",
              "      <td>...</td>\n",
              "      <td>...</td>\n",
              "    </tr>\n",
              "    <tr>\n",
              "      <th>20654</th>\n",
              "      <td>8564860270</td>\n",
              "      <td>2015-03-30</td>\n",
              "      <td>502000.0</td>\n",
              "      <td>4</td>\n",
              "      <td>2.50</td>\n",
              "      <td>2680</td>\n",
              "      <td>5539</td>\n",
              "      <td>2.0</td>\n",
              "      <td>0</td>\n",
              "      <td>0</td>\n",
              "      <td>...</td>\n",
              "      <td>0.0</td>\n",
              "      <td>98045</td>\n",
              "      <td>47.4759</td>\n",
              "      <td>-121.734</td>\n",
              "      <td>2680</td>\n",
              "      <td>5992</td>\n",
              "      <td>0</td>\n",
              "      <td>0</td>\n",
              "      <td>3</td>\n",
              "      <td>2</td>\n",
              "    </tr>\n",
              "    <tr>\n",
              "      <th>20763</th>\n",
              "      <td>6300000226</td>\n",
              "      <td>2014-06-26</td>\n",
              "      <td>240000.0</td>\n",
              "      <td>4</td>\n",
              "      <td>1.00</td>\n",
              "      <td>1200</td>\n",
              "      <td>2171</td>\n",
              "      <td>1.5</td>\n",
              "      <td>0</td>\n",
              "      <td>0</td>\n",
              "      <td>...</td>\n",
              "      <td>0.0</td>\n",
              "      <td>98133</td>\n",
              "      <td>47.7076</td>\n",
              "      <td>-122.342</td>\n",
              "      <td>1130</td>\n",
              "      <td>1598</td>\n",
              "      <td>0</td>\n",
              "      <td>0</td>\n",
              "      <td>6</td>\n",
              "      <td>81</td>\n",
              "    </tr>\n",
              "    <tr>\n",
              "      <th>20764</th>\n",
              "      <td>6300000226</td>\n",
              "      <td>2015-05-04</td>\n",
              "      <td>380000.0</td>\n",
              "      <td>4</td>\n",
              "      <td>1.00</td>\n",
              "      <td>1200</td>\n",
              "      <td>2171</td>\n",
              "      <td>1.5</td>\n",
              "      <td>0</td>\n",
              "      <td>0</td>\n",
              "      <td>...</td>\n",
              "      <td>0.0</td>\n",
              "      <td>98133</td>\n",
              "      <td>47.7076</td>\n",
              "      <td>-122.342</td>\n",
              "      <td>1130</td>\n",
              "      <td>1598</td>\n",
              "      <td>0</td>\n",
              "      <td>0</td>\n",
              "      <td>5</td>\n",
              "      <td>82</td>\n",
              "    </tr>\n",
              "    <tr>\n",
              "      <th>21564</th>\n",
              "      <td>7853420110</td>\n",
              "      <td>2014-10-03</td>\n",
              "      <td>594866.0</td>\n",
              "      <td>3</td>\n",
              "      <td>3.00</td>\n",
              "      <td>2780</td>\n",
              "      <td>6000</td>\n",
              "      <td>2.0</td>\n",
              "      <td>0</td>\n",
              "      <td>0</td>\n",
              "      <td>...</td>\n",
              "      <td>0.0</td>\n",
              "      <td>98065</td>\n",
              "      <td>47.5184</td>\n",
              "      <td>-121.886</td>\n",
              "      <td>2850</td>\n",
              "      <td>6000</td>\n",
              "      <td>0</td>\n",
              "      <td>0</td>\n",
              "      <td>10</td>\n",
              "      <td>1</td>\n",
              "    </tr>\n",
              "    <tr>\n",
              "      <th>21565</th>\n",
              "      <td>7853420110</td>\n",
              "      <td>2015-05-04</td>\n",
              "      <td>625000.0</td>\n",
              "      <td>3</td>\n",
              "      <td>3.00</td>\n",
              "      <td>2780</td>\n",
              "      <td>6000</td>\n",
              "      <td>2.0</td>\n",
              "      <td>0</td>\n",
              "      <td>0</td>\n",
              "      <td>...</td>\n",
              "      <td>0.0</td>\n",
              "      <td>98065</td>\n",
              "      <td>47.5184</td>\n",
              "      <td>-121.886</td>\n",
              "      <td>2850</td>\n",
              "      <td>6000</td>\n",
              "      <td>0</td>\n",
              "      <td>0</td>\n",
              "      <td>5</td>\n",
              "      <td>2</td>\n",
              "    </tr>\n",
              "  </tbody>\n",
              "</table>\n",
              "<p>353 rows × 25 columns</p>\n",
              "</div>\n",
              "    <div class=\"colab-df-buttons\">\n",
              "\n",
              "  <div class=\"colab-df-container\">\n",
              "    <button class=\"colab-df-convert\" onclick=\"convertToInteractive('df-8e04fca6-5a0b-4bc0-812c-4ea5ceb2c177')\"\n",
              "            title=\"Convert this dataframe to an interactive table.\"\n",
              "            style=\"display:none;\">\n",
              "\n",
              "  <svg xmlns=\"http://www.w3.org/2000/svg\" height=\"24px\" viewBox=\"0 -960 960 960\">\n",
              "    <path d=\"M120-120v-720h720v720H120Zm60-500h600v-160H180v160Zm220 220h160v-160H400v160Zm0 220h160v-160H400v160ZM180-400h160v-160H180v160Zm440 0h160v-160H620v160ZM180-180h160v-160H180v160Zm440 0h160v-160H620v160Z\"/>\n",
              "  </svg>\n",
              "    </button>\n",
              "\n",
              "  <style>\n",
              "    .colab-df-container {\n",
              "      display:flex;\n",
              "      gap: 12px;\n",
              "    }\n",
              "\n",
              "    .colab-df-convert {\n",
              "      background-color: #E8F0FE;\n",
              "      border: none;\n",
              "      border-radius: 50%;\n",
              "      cursor: pointer;\n",
              "      display: none;\n",
              "      fill: #1967D2;\n",
              "      height: 32px;\n",
              "      padding: 0 0 0 0;\n",
              "      width: 32px;\n",
              "    }\n",
              "\n",
              "    .colab-df-convert:hover {\n",
              "      background-color: #E2EBFA;\n",
              "      box-shadow: 0px 1px 2px rgba(60, 64, 67, 0.3), 0px 1px 3px 1px rgba(60, 64, 67, 0.15);\n",
              "      fill: #174EA6;\n",
              "    }\n",
              "\n",
              "    .colab-df-buttons div {\n",
              "      margin-bottom: 4px;\n",
              "    }\n",
              "\n",
              "    [theme=dark] .colab-df-convert {\n",
              "      background-color: #3B4455;\n",
              "      fill: #D2E3FC;\n",
              "    }\n",
              "\n",
              "    [theme=dark] .colab-df-convert:hover {\n",
              "      background-color: #434B5C;\n",
              "      box-shadow: 0px 1px 3px 1px rgba(0, 0, 0, 0.15);\n",
              "      filter: drop-shadow(0px 1px 2px rgba(0, 0, 0, 0.3));\n",
              "      fill: #FFFFFF;\n",
              "    }\n",
              "  </style>\n",
              "\n",
              "    <script>\n",
              "      const buttonEl =\n",
              "        document.querySelector('#df-8e04fca6-5a0b-4bc0-812c-4ea5ceb2c177 button.colab-df-convert');\n",
              "      buttonEl.style.display =\n",
              "        google.colab.kernel.accessAllowed ? 'block' : 'none';\n",
              "\n",
              "      async function convertToInteractive(key) {\n",
              "        const element = document.querySelector('#df-8e04fca6-5a0b-4bc0-812c-4ea5ceb2c177');\n",
              "        const dataTable =\n",
              "          await google.colab.kernel.invokeFunction('convertToInteractive',\n",
              "                                                    [key], {});\n",
              "        if (!dataTable) return;\n",
              "\n",
              "        const docLinkHtml = 'Like what you see? Visit the ' +\n",
              "          '<a target=\"_blank\" href=https://colab.research.google.com/notebooks/data_table.ipynb>data table notebook</a>'\n",
              "          + ' to learn more about interactive tables.';\n",
              "        element.innerHTML = '';\n",
              "        dataTable['output_type'] = 'display_data';\n",
              "        await google.colab.output.renderOutput(dataTable, element);\n",
              "        const docLink = document.createElement('div');\n",
              "        docLink.innerHTML = docLinkHtml;\n",
              "        element.appendChild(docLink);\n",
              "      }\n",
              "    </script>\n",
              "  </div>\n",
              "\n",
              "\n",
              "<div id=\"df-2b046edd-08eb-4640-a67b-ee5c3f56f9cf\">\n",
              "  <button class=\"colab-df-quickchart\" onclick=\"quickchart('df-2b046edd-08eb-4640-a67b-ee5c3f56f9cf')\"\n",
              "            title=\"Suggest charts\"\n",
              "            style=\"display:none;\">\n",
              "\n",
              "<svg xmlns=\"http://www.w3.org/2000/svg\" height=\"24px\"viewBox=\"0 0 24 24\"\n",
              "     width=\"24px\">\n",
              "    <g>\n",
              "        <path d=\"M19 3H5c-1.1 0-2 .9-2 2v14c0 1.1.9 2 2 2h14c1.1 0 2-.9 2-2V5c0-1.1-.9-2-2-2zM9 17H7v-7h2v7zm4 0h-2V7h2v10zm4 0h-2v-4h2v4z\"/>\n",
              "    </g>\n",
              "</svg>\n",
              "  </button>\n",
              "\n",
              "<style>\n",
              "  .colab-df-quickchart {\n",
              "      --bg-color: #E8F0FE;\n",
              "      --fill-color: #1967D2;\n",
              "      --hover-bg-color: #E2EBFA;\n",
              "      --hover-fill-color: #174EA6;\n",
              "      --disabled-fill-color: #AAA;\n",
              "      --disabled-bg-color: #DDD;\n",
              "  }\n",
              "\n",
              "  [theme=dark] .colab-df-quickchart {\n",
              "      --bg-color: #3B4455;\n",
              "      --fill-color: #D2E3FC;\n",
              "      --hover-bg-color: #434B5C;\n",
              "      --hover-fill-color: #FFFFFF;\n",
              "      --disabled-bg-color: #3B4455;\n",
              "      --disabled-fill-color: #666;\n",
              "  }\n",
              "\n",
              "  .colab-df-quickchart {\n",
              "    background-color: var(--bg-color);\n",
              "    border: none;\n",
              "    border-radius: 50%;\n",
              "    cursor: pointer;\n",
              "    display: none;\n",
              "    fill: var(--fill-color);\n",
              "    height: 32px;\n",
              "    padding: 0;\n",
              "    width: 32px;\n",
              "  }\n",
              "\n",
              "  .colab-df-quickchart:hover {\n",
              "    background-color: var(--hover-bg-color);\n",
              "    box-shadow: 0 1px 2px rgba(60, 64, 67, 0.3), 0 1px 3px 1px rgba(60, 64, 67, 0.15);\n",
              "    fill: var(--button-hover-fill-color);\n",
              "  }\n",
              "\n",
              "  .colab-df-quickchart-complete:disabled,\n",
              "  .colab-df-quickchart-complete:disabled:hover {\n",
              "    background-color: var(--disabled-bg-color);\n",
              "    fill: var(--disabled-fill-color);\n",
              "    box-shadow: none;\n",
              "  }\n",
              "\n",
              "  .colab-df-spinner {\n",
              "    border: 2px solid var(--fill-color);\n",
              "    border-color: transparent;\n",
              "    border-bottom-color: var(--fill-color);\n",
              "    animation:\n",
              "      spin 1s steps(1) infinite;\n",
              "  }\n",
              "\n",
              "  @keyframes spin {\n",
              "    0% {\n",
              "      border-color: transparent;\n",
              "      border-bottom-color: var(--fill-color);\n",
              "      border-left-color: var(--fill-color);\n",
              "    }\n",
              "    20% {\n",
              "      border-color: transparent;\n",
              "      border-left-color: var(--fill-color);\n",
              "      border-top-color: var(--fill-color);\n",
              "    }\n",
              "    30% {\n",
              "      border-color: transparent;\n",
              "      border-left-color: var(--fill-color);\n",
              "      border-top-color: var(--fill-color);\n",
              "      border-right-color: var(--fill-color);\n",
              "    }\n",
              "    40% {\n",
              "      border-color: transparent;\n",
              "      border-right-color: var(--fill-color);\n",
              "      border-top-color: var(--fill-color);\n",
              "    }\n",
              "    60% {\n",
              "      border-color: transparent;\n",
              "      border-right-color: var(--fill-color);\n",
              "    }\n",
              "    80% {\n",
              "      border-color: transparent;\n",
              "      border-right-color: var(--fill-color);\n",
              "      border-bottom-color: var(--fill-color);\n",
              "    }\n",
              "    90% {\n",
              "      border-color: transparent;\n",
              "      border-bottom-color: var(--fill-color);\n",
              "    }\n",
              "  }\n",
              "</style>\n",
              "\n",
              "  <script>\n",
              "    async function quickchart(key) {\n",
              "      const quickchartButtonEl =\n",
              "        document.querySelector('#' + key + ' button');\n",
              "      quickchartButtonEl.disabled = true;  // To prevent multiple clicks.\n",
              "      quickchartButtonEl.classList.add('colab-df-spinner');\n",
              "      try {\n",
              "        const charts = await google.colab.kernel.invokeFunction(\n",
              "            'suggestCharts', [key], {});\n",
              "      } catch (error) {\n",
              "        console.error('Error during call to suggestCharts:', error);\n",
              "      }\n",
              "      quickchartButtonEl.classList.remove('colab-df-spinner');\n",
              "      quickchartButtonEl.classList.add('colab-df-quickchart-complete');\n",
              "    }\n",
              "    (() => {\n",
              "      let quickchartButtonEl =\n",
              "        document.querySelector('#df-2b046edd-08eb-4640-a67b-ee5c3f56f9cf button');\n",
              "      quickchartButtonEl.style.display =\n",
              "        google.colab.kernel.accessAllowed ? 'block' : 'none';\n",
              "    })();\n",
              "  </script>\n",
              "</div>\n",
              "    </div>\n",
              "  </div>\n"
            ],
            "application/vnd.google.colaboratory.intrinsic+json": {
              "type": "dataframe",
              "variable_name": "duplicate"
            }
          },
          "metadata": {},
          "execution_count": 20
        }
      ],
      "source": [
        "duplicate = df2[df2.duplicated(subset = 'id', keep = False)]\n",
        "duplicate"
      ]
    },
    {
      "cell_type": "code",
      "execution_count": 21,
      "metadata": {
        "colab": {
          "base_uri": "https://localhost:8080/",
          "height": 617
        },
        "id": "jx25VKkmef9J",
        "outputId": "dcbc6f72-73c7-421d-cfe8-a5ccebd6ca1c"
      },
      "outputs": [
        {
          "output_type": "execute_result",
          "data": {
            "text/plain": [
              "               id       date     price  bedrooms  bathrooms  sqft_living  \\\n",
              "0      7129300520 2014-10-13  221900.0         3       1.00         1180   \n",
              "1      6414100192 2014-12-09  538000.0         3       2.25         2570   \n",
              "2      5631500400 2015-02-25  180000.0         2       1.00          770   \n",
              "3      2487200875 2014-12-09  604000.0         4       3.00         1960   \n",
              "4      1954400510 2015-02-18  510000.0         3       2.00         1680   \n",
              "...           ...        ...       ...       ...        ...          ...   \n",
              "21592   263000018 2014-05-21  360000.0         3       2.50         1530   \n",
              "21593  6600060120 2015-02-23  400000.0         4       2.50         2310   \n",
              "21594  1523300141 2014-06-23  402101.0         2       0.75         1020   \n",
              "21595   291310100 2015-01-16  400000.0         3       2.50         1600   \n",
              "21596  1523300157 2014-10-15  325000.0         2       0.75         1020   \n",
              "\n",
              "       sqft_lot  floors  waterfront  view  ...  yr_renovated  zipcode  \\\n",
              "0          5650     1.0           0     0  ...           0.0    98178   \n",
              "1          7242     2.0           0     0  ...        1991.0    98125   \n",
              "2         10000     1.0           0     0  ...           0.0    98028   \n",
              "3          5000     1.0           0     0  ...           0.0    98136   \n",
              "4          8080     1.0           0     0  ...           0.0    98074   \n",
              "...         ...     ...         ...   ...  ...           ...      ...   \n",
              "21592      1131     3.0           0     0  ...           0.0    98103   \n",
              "21593      5813     2.0           0     0  ...           0.0    98146   \n",
              "21594      1350     2.0           0     0  ...           0.0    98144   \n",
              "21595      2388     2.0           0     0  ...           0.0    98027   \n",
              "21596      1076     2.0           0     0  ...           0.0    98144   \n",
              "\n",
              "           lat     long  sqft_living15  sqft_lot15  renovated  basement  \\\n",
              "0      47.5112 -122.257           1340        5650          0         0   \n",
              "1      47.7210 -122.319           1690        7639          1         1   \n",
              "2      47.7379 -122.233           2720        8062          0         0   \n",
              "3      47.5208 -122.393           1360        5000          0         1   \n",
              "4      47.6168 -122.045           1800        7503          0         0   \n",
              "...        ...      ...            ...         ...        ...       ...   \n",
              "21592  47.6993 -122.346           1530        1509          0         0   \n",
              "21593  47.5107 -122.362           1830        7200          0         0   \n",
              "21594  47.5944 -122.299           1020        2007          0         0   \n",
              "21595  47.5345 -122.069           1410        1287          0         0   \n",
              "21596  47.5941 -122.299           1020        1357          0         0   \n",
              "\n",
              "       month  age  \n",
              "0         10   59  \n",
              "1         12   63  \n",
              "2          2   82  \n",
              "3         12   49  \n",
              "4          2   28  \n",
              "...      ...  ...  \n",
              "21592      5    5  \n",
              "21593      2    1  \n",
              "21594      6    5  \n",
              "21595      1   11  \n",
              "21596     10    6  \n",
              "\n",
              "[21420 rows x 25 columns]"
            ],
            "text/html": [
              "\n",
              "  <div id=\"df-d9016744-c562-4cba-a866-9ab1812e35ed\" class=\"colab-df-container\">\n",
              "    <div>\n",
              "<style scoped>\n",
              "    .dataframe tbody tr th:only-of-type {\n",
              "        vertical-align: middle;\n",
              "    }\n",
              "\n",
              "    .dataframe tbody tr th {\n",
              "        vertical-align: top;\n",
              "    }\n",
              "\n",
              "    .dataframe thead th {\n",
              "        text-align: right;\n",
              "    }\n",
              "</style>\n",
              "<table border=\"1\" class=\"dataframe\">\n",
              "  <thead>\n",
              "    <tr style=\"text-align: right;\">\n",
              "      <th></th>\n",
              "      <th>id</th>\n",
              "      <th>date</th>\n",
              "      <th>price</th>\n",
              "      <th>bedrooms</th>\n",
              "      <th>bathrooms</th>\n",
              "      <th>sqft_living</th>\n",
              "      <th>sqft_lot</th>\n",
              "      <th>floors</th>\n",
              "      <th>waterfront</th>\n",
              "      <th>view</th>\n",
              "      <th>...</th>\n",
              "      <th>yr_renovated</th>\n",
              "      <th>zipcode</th>\n",
              "      <th>lat</th>\n",
              "      <th>long</th>\n",
              "      <th>sqft_living15</th>\n",
              "      <th>sqft_lot15</th>\n",
              "      <th>renovated</th>\n",
              "      <th>basement</th>\n",
              "      <th>month</th>\n",
              "      <th>age</th>\n",
              "    </tr>\n",
              "  </thead>\n",
              "  <tbody>\n",
              "    <tr>\n",
              "      <th>0</th>\n",
              "      <td>7129300520</td>\n",
              "      <td>2014-10-13</td>\n",
              "      <td>221900.0</td>\n",
              "      <td>3</td>\n",
              "      <td>1.00</td>\n",
              "      <td>1180</td>\n",
              "      <td>5650</td>\n",
              "      <td>1.0</td>\n",
              "      <td>0</td>\n",
              "      <td>0</td>\n",
              "      <td>...</td>\n",
              "      <td>0.0</td>\n",
              "      <td>98178</td>\n",
              "      <td>47.5112</td>\n",
              "      <td>-122.257</td>\n",
              "      <td>1340</td>\n",
              "      <td>5650</td>\n",
              "      <td>0</td>\n",
              "      <td>0</td>\n",
              "      <td>10</td>\n",
              "      <td>59</td>\n",
              "    </tr>\n",
              "    <tr>\n",
              "      <th>1</th>\n",
              "      <td>6414100192</td>\n",
              "      <td>2014-12-09</td>\n",
              "      <td>538000.0</td>\n",
              "      <td>3</td>\n",
              "      <td>2.25</td>\n",
              "      <td>2570</td>\n",
              "      <td>7242</td>\n",
              "      <td>2.0</td>\n",
              "      <td>0</td>\n",
              "      <td>0</td>\n",
              "      <td>...</td>\n",
              "      <td>1991.0</td>\n",
              "      <td>98125</td>\n",
              "      <td>47.7210</td>\n",
              "      <td>-122.319</td>\n",
              "      <td>1690</td>\n",
              "      <td>7639</td>\n",
              "      <td>1</td>\n",
              "      <td>1</td>\n",
              "      <td>12</td>\n",
              "      <td>63</td>\n",
              "    </tr>\n",
              "    <tr>\n",
              "      <th>2</th>\n",
              "      <td>5631500400</td>\n",
              "      <td>2015-02-25</td>\n",
              "      <td>180000.0</td>\n",
              "      <td>2</td>\n",
              "      <td>1.00</td>\n",
              "      <td>770</td>\n",
              "      <td>10000</td>\n",
              "      <td>1.0</td>\n",
              "      <td>0</td>\n",
              "      <td>0</td>\n",
              "      <td>...</td>\n",
              "      <td>0.0</td>\n",
              "      <td>98028</td>\n",
              "      <td>47.7379</td>\n",
              "      <td>-122.233</td>\n",
              "      <td>2720</td>\n",
              "      <td>8062</td>\n",
              "      <td>0</td>\n",
              "      <td>0</td>\n",
              "      <td>2</td>\n",
              "      <td>82</td>\n",
              "    </tr>\n",
              "    <tr>\n",
              "      <th>3</th>\n",
              "      <td>2487200875</td>\n",
              "      <td>2014-12-09</td>\n",
              "      <td>604000.0</td>\n",
              "      <td>4</td>\n",
              "      <td>3.00</td>\n",
              "      <td>1960</td>\n",
              "      <td>5000</td>\n",
              "      <td>1.0</td>\n",
              "      <td>0</td>\n",
              "      <td>0</td>\n",
              "      <td>...</td>\n",
              "      <td>0.0</td>\n",
              "      <td>98136</td>\n",
              "      <td>47.5208</td>\n",
              "      <td>-122.393</td>\n",
              "      <td>1360</td>\n",
              "      <td>5000</td>\n",
              "      <td>0</td>\n",
              "      <td>1</td>\n",
              "      <td>12</td>\n",
              "      <td>49</td>\n",
              "    </tr>\n",
              "    <tr>\n",
              "      <th>4</th>\n",
              "      <td>1954400510</td>\n",
              "      <td>2015-02-18</td>\n",
              "      <td>510000.0</td>\n",
              "      <td>3</td>\n",
              "      <td>2.00</td>\n",
              "      <td>1680</td>\n",
              "      <td>8080</td>\n",
              "      <td>1.0</td>\n",
              "      <td>0</td>\n",
              "      <td>0</td>\n",
              "      <td>...</td>\n",
              "      <td>0.0</td>\n",
              "      <td>98074</td>\n",
              "      <td>47.6168</td>\n",
              "      <td>-122.045</td>\n",
              "      <td>1800</td>\n",
              "      <td>7503</td>\n",
              "      <td>0</td>\n",
              "      <td>0</td>\n",
              "      <td>2</td>\n",
              "      <td>28</td>\n",
              "    </tr>\n",
              "    <tr>\n",
              "      <th>...</th>\n",
              "      <td>...</td>\n",
              "      <td>...</td>\n",
              "      <td>...</td>\n",
              "      <td>...</td>\n",
              "      <td>...</td>\n",
              "      <td>...</td>\n",
              "      <td>...</td>\n",
              "      <td>...</td>\n",
              "      <td>...</td>\n",
              "      <td>...</td>\n",
              "      <td>...</td>\n",
              "      <td>...</td>\n",
              "      <td>...</td>\n",
              "      <td>...</td>\n",
              "      <td>...</td>\n",
              "      <td>...</td>\n",
              "      <td>...</td>\n",
              "      <td>...</td>\n",
              "      <td>...</td>\n",
              "      <td>...</td>\n",
              "      <td>...</td>\n",
              "    </tr>\n",
              "    <tr>\n",
              "      <th>21592</th>\n",
              "      <td>263000018</td>\n",
              "      <td>2014-05-21</td>\n",
              "      <td>360000.0</td>\n",
              "      <td>3</td>\n",
              "      <td>2.50</td>\n",
              "      <td>1530</td>\n",
              "      <td>1131</td>\n",
              "      <td>3.0</td>\n",
              "      <td>0</td>\n",
              "      <td>0</td>\n",
              "      <td>...</td>\n",
              "      <td>0.0</td>\n",
              "      <td>98103</td>\n",
              "      <td>47.6993</td>\n",
              "      <td>-122.346</td>\n",
              "      <td>1530</td>\n",
              "      <td>1509</td>\n",
              "      <td>0</td>\n",
              "      <td>0</td>\n",
              "      <td>5</td>\n",
              "      <td>5</td>\n",
              "    </tr>\n",
              "    <tr>\n",
              "      <th>21593</th>\n",
              "      <td>6600060120</td>\n",
              "      <td>2015-02-23</td>\n",
              "      <td>400000.0</td>\n",
              "      <td>4</td>\n",
              "      <td>2.50</td>\n",
              "      <td>2310</td>\n",
              "      <td>5813</td>\n",
              "      <td>2.0</td>\n",
              "      <td>0</td>\n",
              "      <td>0</td>\n",
              "      <td>...</td>\n",
              "      <td>0.0</td>\n",
              "      <td>98146</td>\n",
              "      <td>47.5107</td>\n",
              "      <td>-122.362</td>\n",
              "      <td>1830</td>\n",
              "      <td>7200</td>\n",
              "      <td>0</td>\n",
              "      <td>0</td>\n",
              "      <td>2</td>\n",
              "      <td>1</td>\n",
              "    </tr>\n",
              "    <tr>\n",
              "      <th>21594</th>\n",
              "      <td>1523300141</td>\n",
              "      <td>2014-06-23</td>\n",
              "      <td>402101.0</td>\n",
              "      <td>2</td>\n",
              "      <td>0.75</td>\n",
              "      <td>1020</td>\n",
              "      <td>1350</td>\n",
              "      <td>2.0</td>\n",
              "      <td>0</td>\n",
              "      <td>0</td>\n",
              "      <td>...</td>\n",
              "      <td>0.0</td>\n",
              "      <td>98144</td>\n",
              "      <td>47.5944</td>\n",
              "      <td>-122.299</td>\n",
              "      <td>1020</td>\n",
              "      <td>2007</td>\n",
              "      <td>0</td>\n",
              "      <td>0</td>\n",
              "      <td>6</td>\n",
              "      <td>5</td>\n",
              "    </tr>\n",
              "    <tr>\n",
              "      <th>21595</th>\n",
              "      <td>291310100</td>\n",
              "      <td>2015-01-16</td>\n",
              "      <td>400000.0</td>\n",
              "      <td>3</td>\n",
              "      <td>2.50</td>\n",
              "      <td>1600</td>\n",
              "      <td>2388</td>\n",
              "      <td>2.0</td>\n",
              "      <td>0</td>\n",
              "      <td>0</td>\n",
              "      <td>...</td>\n",
              "      <td>0.0</td>\n",
              "      <td>98027</td>\n",
              "      <td>47.5345</td>\n",
              "      <td>-122.069</td>\n",
              "      <td>1410</td>\n",
              "      <td>1287</td>\n",
              "      <td>0</td>\n",
              "      <td>0</td>\n",
              "      <td>1</td>\n",
              "      <td>11</td>\n",
              "    </tr>\n",
              "    <tr>\n",
              "      <th>21596</th>\n",
              "      <td>1523300157</td>\n",
              "      <td>2014-10-15</td>\n",
              "      <td>325000.0</td>\n",
              "      <td>2</td>\n",
              "      <td>0.75</td>\n",
              "      <td>1020</td>\n",
              "      <td>1076</td>\n",
              "      <td>2.0</td>\n",
              "      <td>0</td>\n",
              "      <td>0</td>\n",
              "      <td>...</td>\n",
              "      <td>0.0</td>\n",
              "      <td>98144</td>\n",
              "      <td>47.5941</td>\n",
              "      <td>-122.299</td>\n",
              "      <td>1020</td>\n",
              "      <td>1357</td>\n",
              "      <td>0</td>\n",
              "      <td>0</td>\n",
              "      <td>10</td>\n",
              "      <td>6</td>\n",
              "    </tr>\n",
              "  </tbody>\n",
              "</table>\n",
              "<p>21420 rows × 25 columns</p>\n",
              "</div>\n",
              "    <div class=\"colab-df-buttons\">\n",
              "\n",
              "  <div class=\"colab-df-container\">\n",
              "    <button class=\"colab-df-convert\" onclick=\"convertToInteractive('df-d9016744-c562-4cba-a866-9ab1812e35ed')\"\n",
              "            title=\"Convert this dataframe to an interactive table.\"\n",
              "            style=\"display:none;\">\n",
              "\n",
              "  <svg xmlns=\"http://www.w3.org/2000/svg\" height=\"24px\" viewBox=\"0 -960 960 960\">\n",
              "    <path d=\"M120-120v-720h720v720H120Zm60-500h600v-160H180v160Zm220 220h160v-160H400v160Zm0 220h160v-160H400v160ZM180-400h160v-160H180v160Zm440 0h160v-160H620v160ZM180-180h160v-160H180v160Zm440 0h160v-160H620v160Z\"/>\n",
              "  </svg>\n",
              "    </button>\n",
              "\n",
              "  <style>\n",
              "    .colab-df-container {\n",
              "      display:flex;\n",
              "      gap: 12px;\n",
              "    }\n",
              "\n",
              "    .colab-df-convert {\n",
              "      background-color: #E8F0FE;\n",
              "      border: none;\n",
              "      border-radius: 50%;\n",
              "      cursor: pointer;\n",
              "      display: none;\n",
              "      fill: #1967D2;\n",
              "      height: 32px;\n",
              "      padding: 0 0 0 0;\n",
              "      width: 32px;\n",
              "    }\n",
              "\n",
              "    .colab-df-convert:hover {\n",
              "      background-color: #E2EBFA;\n",
              "      box-shadow: 0px 1px 2px rgba(60, 64, 67, 0.3), 0px 1px 3px 1px rgba(60, 64, 67, 0.15);\n",
              "      fill: #174EA6;\n",
              "    }\n",
              "\n",
              "    .colab-df-buttons div {\n",
              "      margin-bottom: 4px;\n",
              "    }\n",
              "\n",
              "    [theme=dark] .colab-df-convert {\n",
              "      background-color: #3B4455;\n",
              "      fill: #D2E3FC;\n",
              "    }\n",
              "\n",
              "    [theme=dark] .colab-df-convert:hover {\n",
              "      background-color: #434B5C;\n",
              "      box-shadow: 0px 1px 3px 1px rgba(0, 0, 0, 0.15);\n",
              "      filter: drop-shadow(0px 1px 2px rgba(0, 0, 0, 0.3));\n",
              "      fill: #FFFFFF;\n",
              "    }\n",
              "  </style>\n",
              "\n",
              "    <script>\n",
              "      const buttonEl =\n",
              "        document.querySelector('#df-d9016744-c562-4cba-a866-9ab1812e35ed button.colab-df-convert');\n",
              "      buttonEl.style.display =\n",
              "        google.colab.kernel.accessAllowed ? 'block' : 'none';\n",
              "\n",
              "      async function convertToInteractive(key) {\n",
              "        const element = document.querySelector('#df-d9016744-c562-4cba-a866-9ab1812e35ed');\n",
              "        const dataTable =\n",
              "          await google.colab.kernel.invokeFunction('convertToInteractive',\n",
              "                                                    [key], {});\n",
              "        if (!dataTable) return;\n",
              "\n",
              "        const docLinkHtml = 'Like what you see? Visit the ' +\n",
              "          '<a target=\"_blank\" href=https://colab.research.google.com/notebooks/data_table.ipynb>data table notebook</a>'\n",
              "          + ' to learn more about interactive tables.';\n",
              "        element.innerHTML = '';\n",
              "        dataTable['output_type'] = 'display_data';\n",
              "        await google.colab.output.renderOutput(dataTable, element);\n",
              "        const docLink = document.createElement('div');\n",
              "        docLink.innerHTML = docLinkHtml;\n",
              "        element.appendChild(docLink);\n",
              "      }\n",
              "    </script>\n",
              "  </div>\n",
              "\n",
              "\n",
              "<div id=\"df-f847c61c-d145-48b0-aae1-b547cd8e6d44\">\n",
              "  <button class=\"colab-df-quickchart\" onclick=\"quickchart('df-f847c61c-d145-48b0-aae1-b547cd8e6d44')\"\n",
              "            title=\"Suggest charts\"\n",
              "            style=\"display:none;\">\n",
              "\n",
              "<svg xmlns=\"http://www.w3.org/2000/svg\" height=\"24px\"viewBox=\"0 0 24 24\"\n",
              "     width=\"24px\">\n",
              "    <g>\n",
              "        <path d=\"M19 3H5c-1.1 0-2 .9-2 2v14c0 1.1.9 2 2 2h14c1.1 0 2-.9 2-2V5c0-1.1-.9-2-2-2zM9 17H7v-7h2v7zm4 0h-2V7h2v10zm4 0h-2v-4h2v4z\"/>\n",
              "    </g>\n",
              "</svg>\n",
              "  </button>\n",
              "\n",
              "<style>\n",
              "  .colab-df-quickchart {\n",
              "      --bg-color: #E8F0FE;\n",
              "      --fill-color: #1967D2;\n",
              "      --hover-bg-color: #E2EBFA;\n",
              "      --hover-fill-color: #174EA6;\n",
              "      --disabled-fill-color: #AAA;\n",
              "      --disabled-bg-color: #DDD;\n",
              "  }\n",
              "\n",
              "  [theme=dark] .colab-df-quickchart {\n",
              "      --bg-color: #3B4455;\n",
              "      --fill-color: #D2E3FC;\n",
              "      --hover-bg-color: #434B5C;\n",
              "      --hover-fill-color: #FFFFFF;\n",
              "      --disabled-bg-color: #3B4455;\n",
              "      --disabled-fill-color: #666;\n",
              "  }\n",
              "\n",
              "  .colab-df-quickchart {\n",
              "    background-color: var(--bg-color);\n",
              "    border: none;\n",
              "    border-radius: 50%;\n",
              "    cursor: pointer;\n",
              "    display: none;\n",
              "    fill: var(--fill-color);\n",
              "    height: 32px;\n",
              "    padding: 0;\n",
              "    width: 32px;\n",
              "  }\n",
              "\n",
              "  .colab-df-quickchart:hover {\n",
              "    background-color: var(--hover-bg-color);\n",
              "    box-shadow: 0 1px 2px rgba(60, 64, 67, 0.3), 0 1px 3px 1px rgba(60, 64, 67, 0.15);\n",
              "    fill: var(--button-hover-fill-color);\n",
              "  }\n",
              "\n",
              "  .colab-df-quickchart-complete:disabled,\n",
              "  .colab-df-quickchart-complete:disabled:hover {\n",
              "    background-color: var(--disabled-bg-color);\n",
              "    fill: var(--disabled-fill-color);\n",
              "    box-shadow: none;\n",
              "  }\n",
              "\n",
              "  .colab-df-spinner {\n",
              "    border: 2px solid var(--fill-color);\n",
              "    border-color: transparent;\n",
              "    border-bottom-color: var(--fill-color);\n",
              "    animation:\n",
              "      spin 1s steps(1) infinite;\n",
              "  }\n",
              "\n",
              "  @keyframes spin {\n",
              "    0% {\n",
              "      border-color: transparent;\n",
              "      border-bottom-color: var(--fill-color);\n",
              "      border-left-color: var(--fill-color);\n",
              "    }\n",
              "    20% {\n",
              "      border-color: transparent;\n",
              "      border-left-color: var(--fill-color);\n",
              "      border-top-color: var(--fill-color);\n",
              "    }\n",
              "    30% {\n",
              "      border-color: transparent;\n",
              "      border-left-color: var(--fill-color);\n",
              "      border-top-color: var(--fill-color);\n",
              "      border-right-color: var(--fill-color);\n",
              "    }\n",
              "    40% {\n",
              "      border-color: transparent;\n",
              "      border-right-color: var(--fill-color);\n",
              "      border-top-color: var(--fill-color);\n",
              "    }\n",
              "    60% {\n",
              "      border-color: transparent;\n",
              "      border-right-color: var(--fill-color);\n",
              "    }\n",
              "    80% {\n",
              "      border-color: transparent;\n",
              "      border-right-color: var(--fill-color);\n",
              "      border-bottom-color: var(--fill-color);\n",
              "    }\n",
              "    90% {\n",
              "      border-color: transparent;\n",
              "      border-bottom-color: var(--fill-color);\n",
              "    }\n",
              "  }\n",
              "</style>\n",
              "\n",
              "  <script>\n",
              "    async function quickchart(key) {\n",
              "      const quickchartButtonEl =\n",
              "        document.querySelector('#' + key + ' button');\n",
              "      quickchartButtonEl.disabled = true;  // To prevent multiple clicks.\n",
              "      quickchartButtonEl.classList.add('colab-df-spinner');\n",
              "      try {\n",
              "        const charts = await google.colab.kernel.invokeFunction(\n",
              "            'suggestCharts', [key], {});\n",
              "      } catch (error) {\n",
              "        console.error('Error during call to suggestCharts:', error);\n",
              "      }\n",
              "      quickchartButtonEl.classList.remove('colab-df-spinner');\n",
              "      quickchartButtonEl.classList.add('colab-df-quickchart-complete');\n",
              "    }\n",
              "    (() => {\n",
              "      let quickchartButtonEl =\n",
              "        document.querySelector('#df-f847c61c-d145-48b0-aae1-b547cd8e6d44 button');\n",
              "      quickchartButtonEl.style.display =\n",
              "        google.colab.kernel.accessAllowed ? 'block' : 'none';\n",
              "    })();\n",
              "  </script>\n",
              "</div>\n",
              "    </div>\n",
              "  </div>\n"
            ],
            "application/vnd.google.colaboratory.intrinsic+json": {
              "type": "dataframe",
              "variable_name": "df2"
            }
          },
          "metadata": {},
          "execution_count": 21
        }
      ],
      "source": [
        "df2.drop_duplicates(subset = 'id', keep = 'first', inplace = True)\n",
        "df2"
      ]
    },
    {
      "cell_type": "code",
      "execution_count": 22,
      "metadata": {
        "colab": {
          "base_uri": "https://localhost:8080/",
          "height": 617
        },
        "id": "jA92Qukcef9K",
        "outputId": "3abd8ac5-1f12-481a-eea7-653d20a436f3"
      },
      "outputs": [
        {
          "output_type": "execute_result",
          "data": {
            "text/plain": [
              "            date     price  bedrooms  bathrooms  sqft_living  sqft_lot  \\\n",
              "0     2014-10-13  221900.0         3       1.00         1180      5650   \n",
              "1     2014-12-09  538000.0         3       2.25         2570      7242   \n",
              "2     2015-02-25  180000.0         2       1.00          770     10000   \n",
              "3     2014-12-09  604000.0         4       3.00         1960      5000   \n",
              "4     2015-02-18  510000.0         3       2.00         1680      8080   \n",
              "...          ...       ...       ...        ...          ...       ...   \n",
              "21592 2014-05-21  360000.0         3       2.50         1530      1131   \n",
              "21593 2015-02-23  400000.0         4       2.50         2310      5813   \n",
              "21594 2014-06-23  402101.0         2       0.75         1020      1350   \n",
              "21595 2015-01-16  400000.0         3       2.50         1600      2388   \n",
              "21596 2014-10-15  325000.0         2       0.75         1020      1076   \n",
              "\n",
              "       floors  waterfront  view  condition  ...  yr_built  zipcode      lat  \\\n",
              "0         1.0           0     0          2  ...      1955    98178  47.5112   \n",
              "1         2.0           0     0          2  ...      1951    98125  47.7210   \n",
              "2         1.0           0     0          2  ...      1933    98028  47.7379   \n",
              "3         1.0           0     0          4  ...      1965    98136  47.5208   \n",
              "4         1.0           0     0          2  ...      1987    98074  47.6168   \n",
              "...       ...         ...   ...        ...  ...       ...      ...      ...   \n",
              "21592     3.0           0     0          2  ...      2009    98103  47.6993   \n",
              "21593     2.0           0     0          2  ...      2014    98146  47.5107   \n",
              "21594     2.0           0     0          2  ...      2009    98144  47.5944   \n",
              "21595     2.0           0     0          2  ...      2004    98027  47.5345   \n",
              "21596     2.0           0     0          2  ...      2008    98144  47.5941   \n",
              "\n",
              "          long  sqft_living15  sqft_lot15  renovated  basement  month  age  \n",
              "0     -122.257           1340        5650          0         0     10   59  \n",
              "1     -122.319           1690        7639          1         1     12   63  \n",
              "2     -122.233           2720        8062          0         0      2   82  \n",
              "3     -122.393           1360        5000          0         1     12   49  \n",
              "4     -122.045           1800        7503          0         0      2   28  \n",
              "...        ...            ...         ...        ...       ...    ...  ...  \n",
              "21592 -122.346           1530        1509          0         0      5    5  \n",
              "21593 -122.362           1830        7200          0         0      2    1  \n",
              "21594 -122.299           1020        2007          0         0      6    5  \n",
              "21595 -122.069           1410        1287          0         0      1   11  \n",
              "21596 -122.299           1020        1357          0         0     10    6  \n",
              "\n",
              "[21420 rows x 23 columns]"
            ],
            "text/html": [
              "\n",
              "  <div id=\"df-9455bbf1-01a0-423a-a88c-b92d4a1c6ec4\" class=\"colab-df-container\">\n",
              "    <div>\n",
              "<style scoped>\n",
              "    .dataframe tbody tr th:only-of-type {\n",
              "        vertical-align: middle;\n",
              "    }\n",
              "\n",
              "    .dataframe tbody tr th {\n",
              "        vertical-align: top;\n",
              "    }\n",
              "\n",
              "    .dataframe thead th {\n",
              "        text-align: right;\n",
              "    }\n",
              "</style>\n",
              "<table border=\"1\" class=\"dataframe\">\n",
              "  <thead>\n",
              "    <tr style=\"text-align: right;\">\n",
              "      <th></th>\n",
              "      <th>date</th>\n",
              "      <th>price</th>\n",
              "      <th>bedrooms</th>\n",
              "      <th>bathrooms</th>\n",
              "      <th>sqft_living</th>\n",
              "      <th>sqft_lot</th>\n",
              "      <th>floors</th>\n",
              "      <th>waterfront</th>\n",
              "      <th>view</th>\n",
              "      <th>condition</th>\n",
              "      <th>...</th>\n",
              "      <th>yr_built</th>\n",
              "      <th>zipcode</th>\n",
              "      <th>lat</th>\n",
              "      <th>long</th>\n",
              "      <th>sqft_living15</th>\n",
              "      <th>sqft_lot15</th>\n",
              "      <th>renovated</th>\n",
              "      <th>basement</th>\n",
              "      <th>month</th>\n",
              "      <th>age</th>\n",
              "    </tr>\n",
              "  </thead>\n",
              "  <tbody>\n",
              "    <tr>\n",
              "      <th>0</th>\n",
              "      <td>2014-10-13</td>\n",
              "      <td>221900.0</td>\n",
              "      <td>3</td>\n",
              "      <td>1.00</td>\n",
              "      <td>1180</td>\n",
              "      <td>5650</td>\n",
              "      <td>1.0</td>\n",
              "      <td>0</td>\n",
              "      <td>0</td>\n",
              "      <td>2</td>\n",
              "      <td>...</td>\n",
              "      <td>1955</td>\n",
              "      <td>98178</td>\n",
              "      <td>47.5112</td>\n",
              "      <td>-122.257</td>\n",
              "      <td>1340</td>\n",
              "      <td>5650</td>\n",
              "      <td>0</td>\n",
              "      <td>0</td>\n",
              "      <td>10</td>\n",
              "      <td>59</td>\n",
              "    </tr>\n",
              "    <tr>\n",
              "      <th>1</th>\n",
              "      <td>2014-12-09</td>\n",
              "      <td>538000.0</td>\n",
              "      <td>3</td>\n",
              "      <td>2.25</td>\n",
              "      <td>2570</td>\n",
              "      <td>7242</td>\n",
              "      <td>2.0</td>\n",
              "      <td>0</td>\n",
              "      <td>0</td>\n",
              "      <td>2</td>\n",
              "      <td>...</td>\n",
              "      <td>1951</td>\n",
              "      <td>98125</td>\n",
              "      <td>47.7210</td>\n",
              "      <td>-122.319</td>\n",
              "      <td>1690</td>\n",
              "      <td>7639</td>\n",
              "      <td>1</td>\n",
              "      <td>1</td>\n",
              "      <td>12</td>\n",
              "      <td>63</td>\n",
              "    </tr>\n",
              "    <tr>\n",
              "      <th>2</th>\n",
              "      <td>2015-02-25</td>\n",
              "      <td>180000.0</td>\n",
              "      <td>2</td>\n",
              "      <td>1.00</td>\n",
              "      <td>770</td>\n",
              "      <td>10000</td>\n",
              "      <td>1.0</td>\n",
              "      <td>0</td>\n",
              "      <td>0</td>\n",
              "      <td>2</td>\n",
              "      <td>...</td>\n",
              "      <td>1933</td>\n",
              "      <td>98028</td>\n",
              "      <td>47.7379</td>\n",
              "      <td>-122.233</td>\n",
              "      <td>2720</td>\n",
              "      <td>8062</td>\n",
              "      <td>0</td>\n",
              "      <td>0</td>\n",
              "      <td>2</td>\n",
              "      <td>82</td>\n",
              "    </tr>\n",
              "    <tr>\n",
              "      <th>3</th>\n",
              "      <td>2014-12-09</td>\n",
              "      <td>604000.0</td>\n",
              "      <td>4</td>\n",
              "      <td>3.00</td>\n",
              "      <td>1960</td>\n",
              "      <td>5000</td>\n",
              "      <td>1.0</td>\n",
              "      <td>0</td>\n",
              "      <td>0</td>\n",
              "      <td>4</td>\n",
              "      <td>...</td>\n",
              "      <td>1965</td>\n",
              "      <td>98136</td>\n",
              "      <td>47.5208</td>\n",
              "      <td>-122.393</td>\n",
              "      <td>1360</td>\n",
              "      <td>5000</td>\n",
              "      <td>0</td>\n",
              "      <td>1</td>\n",
              "      <td>12</td>\n",
              "      <td>49</td>\n",
              "    </tr>\n",
              "    <tr>\n",
              "      <th>4</th>\n",
              "      <td>2015-02-18</td>\n",
              "      <td>510000.0</td>\n",
              "      <td>3</td>\n",
              "      <td>2.00</td>\n",
              "      <td>1680</td>\n",
              "      <td>8080</td>\n",
              "      <td>1.0</td>\n",
              "      <td>0</td>\n",
              "      <td>0</td>\n",
              "      <td>2</td>\n",
              "      <td>...</td>\n",
              "      <td>1987</td>\n",
              "      <td>98074</td>\n",
              "      <td>47.6168</td>\n",
              "      <td>-122.045</td>\n",
              "      <td>1800</td>\n",
              "      <td>7503</td>\n",
              "      <td>0</td>\n",
              "      <td>0</td>\n",
              "      <td>2</td>\n",
              "      <td>28</td>\n",
              "    </tr>\n",
              "    <tr>\n",
              "      <th>...</th>\n",
              "      <td>...</td>\n",
              "      <td>...</td>\n",
              "      <td>...</td>\n",
              "      <td>...</td>\n",
              "      <td>...</td>\n",
              "      <td>...</td>\n",
              "      <td>...</td>\n",
              "      <td>...</td>\n",
              "      <td>...</td>\n",
              "      <td>...</td>\n",
              "      <td>...</td>\n",
              "      <td>...</td>\n",
              "      <td>...</td>\n",
              "      <td>...</td>\n",
              "      <td>...</td>\n",
              "      <td>...</td>\n",
              "      <td>...</td>\n",
              "      <td>...</td>\n",
              "      <td>...</td>\n",
              "      <td>...</td>\n",
              "      <td>...</td>\n",
              "    </tr>\n",
              "    <tr>\n",
              "      <th>21592</th>\n",
              "      <td>2014-05-21</td>\n",
              "      <td>360000.0</td>\n",
              "      <td>3</td>\n",
              "      <td>2.50</td>\n",
              "      <td>1530</td>\n",
              "      <td>1131</td>\n",
              "      <td>3.0</td>\n",
              "      <td>0</td>\n",
              "      <td>0</td>\n",
              "      <td>2</td>\n",
              "      <td>...</td>\n",
              "      <td>2009</td>\n",
              "      <td>98103</td>\n",
              "      <td>47.6993</td>\n",
              "      <td>-122.346</td>\n",
              "      <td>1530</td>\n",
              "      <td>1509</td>\n",
              "      <td>0</td>\n",
              "      <td>0</td>\n",
              "      <td>5</td>\n",
              "      <td>5</td>\n",
              "    </tr>\n",
              "    <tr>\n",
              "      <th>21593</th>\n",
              "      <td>2015-02-23</td>\n",
              "      <td>400000.0</td>\n",
              "      <td>4</td>\n",
              "      <td>2.50</td>\n",
              "      <td>2310</td>\n",
              "      <td>5813</td>\n",
              "      <td>2.0</td>\n",
              "      <td>0</td>\n",
              "      <td>0</td>\n",
              "      <td>2</td>\n",
              "      <td>...</td>\n",
              "      <td>2014</td>\n",
              "      <td>98146</td>\n",
              "      <td>47.5107</td>\n",
              "      <td>-122.362</td>\n",
              "      <td>1830</td>\n",
              "      <td>7200</td>\n",
              "      <td>0</td>\n",
              "      <td>0</td>\n",
              "      <td>2</td>\n",
              "      <td>1</td>\n",
              "    </tr>\n",
              "    <tr>\n",
              "      <th>21594</th>\n",
              "      <td>2014-06-23</td>\n",
              "      <td>402101.0</td>\n",
              "      <td>2</td>\n",
              "      <td>0.75</td>\n",
              "      <td>1020</td>\n",
              "      <td>1350</td>\n",
              "      <td>2.0</td>\n",
              "      <td>0</td>\n",
              "      <td>0</td>\n",
              "      <td>2</td>\n",
              "      <td>...</td>\n",
              "      <td>2009</td>\n",
              "      <td>98144</td>\n",
              "      <td>47.5944</td>\n",
              "      <td>-122.299</td>\n",
              "      <td>1020</td>\n",
              "      <td>2007</td>\n",
              "      <td>0</td>\n",
              "      <td>0</td>\n",
              "      <td>6</td>\n",
              "      <td>5</td>\n",
              "    </tr>\n",
              "    <tr>\n",
              "      <th>21595</th>\n",
              "      <td>2015-01-16</td>\n",
              "      <td>400000.0</td>\n",
              "      <td>3</td>\n",
              "      <td>2.50</td>\n",
              "      <td>1600</td>\n",
              "      <td>2388</td>\n",
              "      <td>2.0</td>\n",
              "      <td>0</td>\n",
              "      <td>0</td>\n",
              "      <td>2</td>\n",
              "      <td>...</td>\n",
              "      <td>2004</td>\n",
              "      <td>98027</td>\n",
              "      <td>47.5345</td>\n",
              "      <td>-122.069</td>\n",
              "      <td>1410</td>\n",
              "      <td>1287</td>\n",
              "      <td>0</td>\n",
              "      <td>0</td>\n",
              "      <td>1</td>\n",
              "      <td>11</td>\n",
              "    </tr>\n",
              "    <tr>\n",
              "      <th>21596</th>\n",
              "      <td>2014-10-15</td>\n",
              "      <td>325000.0</td>\n",
              "      <td>2</td>\n",
              "      <td>0.75</td>\n",
              "      <td>1020</td>\n",
              "      <td>1076</td>\n",
              "      <td>2.0</td>\n",
              "      <td>0</td>\n",
              "      <td>0</td>\n",
              "      <td>2</td>\n",
              "      <td>...</td>\n",
              "      <td>2008</td>\n",
              "      <td>98144</td>\n",
              "      <td>47.5941</td>\n",
              "      <td>-122.299</td>\n",
              "      <td>1020</td>\n",
              "      <td>1357</td>\n",
              "      <td>0</td>\n",
              "      <td>0</td>\n",
              "      <td>10</td>\n",
              "      <td>6</td>\n",
              "    </tr>\n",
              "  </tbody>\n",
              "</table>\n",
              "<p>21420 rows × 23 columns</p>\n",
              "</div>\n",
              "    <div class=\"colab-df-buttons\">\n",
              "\n",
              "  <div class=\"colab-df-container\">\n",
              "    <button class=\"colab-df-convert\" onclick=\"convertToInteractive('df-9455bbf1-01a0-423a-a88c-b92d4a1c6ec4')\"\n",
              "            title=\"Convert this dataframe to an interactive table.\"\n",
              "            style=\"display:none;\">\n",
              "\n",
              "  <svg xmlns=\"http://www.w3.org/2000/svg\" height=\"24px\" viewBox=\"0 -960 960 960\">\n",
              "    <path d=\"M120-120v-720h720v720H120Zm60-500h600v-160H180v160Zm220 220h160v-160H400v160Zm0 220h160v-160H400v160ZM180-400h160v-160H180v160Zm440 0h160v-160H620v160ZM180-180h160v-160H180v160Zm440 0h160v-160H620v160Z\"/>\n",
              "  </svg>\n",
              "    </button>\n",
              "\n",
              "  <style>\n",
              "    .colab-df-container {\n",
              "      display:flex;\n",
              "      gap: 12px;\n",
              "    }\n",
              "\n",
              "    .colab-df-convert {\n",
              "      background-color: #E8F0FE;\n",
              "      border: none;\n",
              "      border-radius: 50%;\n",
              "      cursor: pointer;\n",
              "      display: none;\n",
              "      fill: #1967D2;\n",
              "      height: 32px;\n",
              "      padding: 0 0 0 0;\n",
              "      width: 32px;\n",
              "    }\n",
              "\n",
              "    .colab-df-convert:hover {\n",
              "      background-color: #E2EBFA;\n",
              "      box-shadow: 0px 1px 2px rgba(60, 64, 67, 0.3), 0px 1px 3px 1px rgba(60, 64, 67, 0.15);\n",
              "      fill: #174EA6;\n",
              "    }\n",
              "\n",
              "    .colab-df-buttons div {\n",
              "      margin-bottom: 4px;\n",
              "    }\n",
              "\n",
              "    [theme=dark] .colab-df-convert {\n",
              "      background-color: #3B4455;\n",
              "      fill: #D2E3FC;\n",
              "    }\n",
              "\n",
              "    [theme=dark] .colab-df-convert:hover {\n",
              "      background-color: #434B5C;\n",
              "      box-shadow: 0px 1px 3px 1px rgba(0, 0, 0, 0.15);\n",
              "      filter: drop-shadow(0px 1px 2px rgba(0, 0, 0, 0.3));\n",
              "      fill: #FFFFFF;\n",
              "    }\n",
              "  </style>\n",
              "\n",
              "    <script>\n",
              "      const buttonEl =\n",
              "        document.querySelector('#df-9455bbf1-01a0-423a-a88c-b92d4a1c6ec4 button.colab-df-convert');\n",
              "      buttonEl.style.display =\n",
              "        google.colab.kernel.accessAllowed ? 'block' : 'none';\n",
              "\n",
              "      async function convertToInteractive(key) {\n",
              "        const element = document.querySelector('#df-9455bbf1-01a0-423a-a88c-b92d4a1c6ec4');\n",
              "        const dataTable =\n",
              "          await google.colab.kernel.invokeFunction('convertToInteractive',\n",
              "                                                    [key], {});\n",
              "        if (!dataTable) return;\n",
              "\n",
              "        const docLinkHtml = 'Like what you see? Visit the ' +\n",
              "          '<a target=\"_blank\" href=https://colab.research.google.com/notebooks/data_table.ipynb>data table notebook</a>'\n",
              "          + ' to learn more about interactive tables.';\n",
              "        element.innerHTML = '';\n",
              "        dataTable['output_type'] = 'display_data';\n",
              "        await google.colab.output.renderOutput(dataTable, element);\n",
              "        const docLink = document.createElement('div');\n",
              "        docLink.innerHTML = docLinkHtml;\n",
              "        element.appendChild(docLink);\n",
              "      }\n",
              "    </script>\n",
              "  </div>\n",
              "\n",
              "\n",
              "<div id=\"df-5a15362c-8509-4f89-8e09-ee336157d57f\">\n",
              "  <button class=\"colab-df-quickchart\" onclick=\"quickchart('df-5a15362c-8509-4f89-8e09-ee336157d57f')\"\n",
              "            title=\"Suggest charts\"\n",
              "            style=\"display:none;\">\n",
              "\n",
              "<svg xmlns=\"http://www.w3.org/2000/svg\" height=\"24px\"viewBox=\"0 0 24 24\"\n",
              "     width=\"24px\">\n",
              "    <g>\n",
              "        <path d=\"M19 3H5c-1.1 0-2 .9-2 2v14c0 1.1.9 2 2 2h14c1.1 0 2-.9 2-2V5c0-1.1-.9-2-2-2zM9 17H7v-7h2v7zm4 0h-2V7h2v10zm4 0h-2v-4h2v4z\"/>\n",
              "    </g>\n",
              "</svg>\n",
              "  </button>\n",
              "\n",
              "<style>\n",
              "  .colab-df-quickchart {\n",
              "      --bg-color: #E8F0FE;\n",
              "      --fill-color: #1967D2;\n",
              "      --hover-bg-color: #E2EBFA;\n",
              "      --hover-fill-color: #174EA6;\n",
              "      --disabled-fill-color: #AAA;\n",
              "      --disabled-bg-color: #DDD;\n",
              "  }\n",
              "\n",
              "  [theme=dark] .colab-df-quickchart {\n",
              "      --bg-color: #3B4455;\n",
              "      --fill-color: #D2E3FC;\n",
              "      --hover-bg-color: #434B5C;\n",
              "      --hover-fill-color: #FFFFFF;\n",
              "      --disabled-bg-color: #3B4455;\n",
              "      --disabled-fill-color: #666;\n",
              "  }\n",
              "\n",
              "  .colab-df-quickchart {\n",
              "    background-color: var(--bg-color);\n",
              "    border: none;\n",
              "    border-radius: 50%;\n",
              "    cursor: pointer;\n",
              "    display: none;\n",
              "    fill: var(--fill-color);\n",
              "    height: 32px;\n",
              "    padding: 0;\n",
              "    width: 32px;\n",
              "  }\n",
              "\n",
              "  .colab-df-quickchart:hover {\n",
              "    background-color: var(--hover-bg-color);\n",
              "    box-shadow: 0 1px 2px rgba(60, 64, 67, 0.3), 0 1px 3px 1px rgba(60, 64, 67, 0.15);\n",
              "    fill: var(--button-hover-fill-color);\n",
              "  }\n",
              "\n",
              "  .colab-df-quickchart-complete:disabled,\n",
              "  .colab-df-quickchart-complete:disabled:hover {\n",
              "    background-color: var(--disabled-bg-color);\n",
              "    fill: var(--disabled-fill-color);\n",
              "    box-shadow: none;\n",
              "  }\n",
              "\n",
              "  .colab-df-spinner {\n",
              "    border: 2px solid var(--fill-color);\n",
              "    border-color: transparent;\n",
              "    border-bottom-color: var(--fill-color);\n",
              "    animation:\n",
              "      spin 1s steps(1) infinite;\n",
              "  }\n",
              "\n",
              "  @keyframes spin {\n",
              "    0% {\n",
              "      border-color: transparent;\n",
              "      border-bottom-color: var(--fill-color);\n",
              "      border-left-color: var(--fill-color);\n",
              "    }\n",
              "    20% {\n",
              "      border-color: transparent;\n",
              "      border-left-color: var(--fill-color);\n",
              "      border-top-color: var(--fill-color);\n",
              "    }\n",
              "    30% {\n",
              "      border-color: transparent;\n",
              "      border-left-color: var(--fill-color);\n",
              "      border-top-color: var(--fill-color);\n",
              "      border-right-color: var(--fill-color);\n",
              "    }\n",
              "    40% {\n",
              "      border-color: transparent;\n",
              "      border-right-color: var(--fill-color);\n",
              "      border-top-color: var(--fill-color);\n",
              "    }\n",
              "    60% {\n",
              "      border-color: transparent;\n",
              "      border-right-color: var(--fill-color);\n",
              "    }\n",
              "    80% {\n",
              "      border-color: transparent;\n",
              "      border-right-color: var(--fill-color);\n",
              "      border-bottom-color: var(--fill-color);\n",
              "    }\n",
              "    90% {\n",
              "      border-color: transparent;\n",
              "      border-bottom-color: var(--fill-color);\n",
              "    }\n",
              "  }\n",
              "</style>\n",
              "\n",
              "  <script>\n",
              "    async function quickchart(key) {\n",
              "      const quickchartButtonEl =\n",
              "        document.querySelector('#' + key + ' button');\n",
              "      quickchartButtonEl.disabled = true;  // To prevent multiple clicks.\n",
              "      quickchartButtonEl.classList.add('colab-df-spinner');\n",
              "      try {\n",
              "        const charts = await google.colab.kernel.invokeFunction(\n",
              "            'suggestCharts', [key], {});\n",
              "      } catch (error) {\n",
              "        console.error('Error during call to suggestCharts:', error);\n",
              "      }\n",
              "      quickchartButtonEl.classList.remove('colab-df-spinner');\n",
              "      quickchartButtonEl.classList.add('colab-df-quickchart-complete');\n",
              "    }\n",
              "    (() => {\n",
              "      let quickchartButtonEl =\n",
              "        document.querySelector('#df-5a15362c-8509-4f89-8e09-ee336157d57f button');\n",
              "      quickchartButtonEl.style.display =\n",
              "        google.colab.kernel.accessAllowed ? 'block' : 'none';\n",
              "    })();\n",
              "  </script>\n",
              "</div>\n",
              "    </div>\n",
              "  </div>\n"
            ],
            "application/vnd.google.colaboratory.intrinsic+json": {
              "type": "dataframe",
              "variable_name": "df2"
            }
          },
          "metadata": {},
          "execution_count": 22
        }
      ],
      "source": [
        "#we have 20680 houses that haven't been renovated which is 96% of the houses, thus we can drop the column yr_renovated\n",
        "#we will also drop the id column as well\n",
        "df2 = df2.drop(['id','yr_renovated'], axis = 1)\n",
        "df2"
      ]
    },
    {
      "cell_type": "code",
      "execution_count": 23,
      "metadata": {
        "colab": {
          "base_uri": "https://localhost:8080/",
          "height": 426
        },
        "id": "prp3IWC-ef9L",
        "outputId": "bfd9ed94-e1cd-45ba-f11f-a05202e48faf"
      },
      "outputs": [
        {
          "output_type": "display_data",
          "data": {
            "text/plain": [
              "<Figure size 640x480 with 1 Axes>"
            ],
            "image/png": "[encoded data removed]"
          },
          "metadata": {}
        }
      ],
      "source": [
        "#handling outliers\n",
        "#handling outliers in price\n",
        "sns.boxplot(df2['price']);"
      ]
    },
    {
      "cell_type": "code",
      "execution_count": 24,
      "metadata": {
        "id": "tx2ZtcMuef9M"
      },
      "outputs": [],
      "source": [
        "#filter out the outliers in price\n",
        "price_clean = df2[(df2.price < df2.price.quantile(.995))\n",
        "                 & (df2.price > df2.price.quantile(.005))]"
      ]
    },
    {
      "cell_type": "code",
      "execution_count": 25,
      "metadata": {
        "colab": {
          "base_uri": "https://localhost:8080/",
          "height": 411
        },
        "id": "FefkjfbVef9N",
        "outputId": "da4ecd5b-d735-4f8c-b878-b7b7308ab3d9"
      },
      "outputs": [
        {
          "output_type": "display_data",
          "data": {
            "text/plain": [
              "<Figure size 640x480 with 1 Axes>"
            ],
            "image/png": "[encoded data removed]"
          },
          "metadata": {}
        }
      ],
      "source": [
        "#handling outliers in bedroom\n",
        "sns.boxplot(df2['bedrooms']);"
      ]
    },
    {
      "cell_type": "code",
      "execution_count": 26,
      "metadata": {
        "id": "SnYQ6Q65ef9N"
      },
      "outputs": [],
      "source": [
        "#change the outlier figure in bedroom to 3 because it seems like a typing error\n",
        "df2.loc[(df2.bedrooms == 33), 'bedrooms'] = 3\n"
      ]
    },
    {
      "cell_type": "code",
      "execution_count": 27,
      "metadata": {
        "colab": {
          "base_uri": "https://localhost:8080/",
          "height": 454
        },
        "id": "pfKemIQIef9N",
        "outputId": "d39f3711-128b-4231-c4e3-257c940354a7"
      },
      "outputs": [
        {
          "output_type": "execute_result",
          "data": {
            "text/plain": [
              "                                date         price      bedrooms  \\\n",
              "count                          21420  2.142000e+04  21420.000000   \n",
              "mean   2014-10-28 05:03:51.932773120  5.407393e+05      3.372549   \n",
              "min              2014-05-02 00:00:00  7.800000e+04      1.000000   \n",
              "25%              2014-07-21 00:00:00  3.225000e+05      3.000000   \n",
              "50%              2014-10-15 00:00:00  4.500000e+05      3.000000   \n",
              "75%              2015-02-13 00:00:00  6.450000e+05      4.000000   \n",
              "max              2015-05-27 00:00:00  7.700000e+06     11.000000   \n",
              "std                              NaN  3.679311e+05      0.902995   \n",
              "\n",
              "          bathrooms   sqft_living      sqft_lot        floors    waterfront  \\\n",
              "count  21420.000000  21420.000000  2.142000e+04  21420.000000  21420.000000   \n",
              "mean       2.118429   2083.132633  1.512804e+04      1.495985      0.006816   \n",
              "min        0.500000    370.000000  5.200000e+02      1.000000      0.000000   \n",
              "25%        1.750000   1430.000000  5.040000e+03      1.000000      0.000000   \n",
              "50%        2.250000   1920.000000  7.614000e+03      1.500000      0.000000   \n",
              "75%        2.500000   2550.000000  1.069050e+04      2.000000      0.000000   \n",
              "max        8.000000  13540.000000  1.651359e+06      3.500000      1.000000   \n",
              "std        0.768720    918.808412  4.153080e+04      0.540081      0.082280   \n",
              "\n",
              "               view     condition  ...      yr_built      zipcode  \\\n",
              "count  21420.000000  21420.000000  ...  21420.000000  21420.00000   \n",
              "mean       0.233987      2.410784  ...   1971.092997  98077.87437   \n",
              "min        0.000000      0.000000  ...   1900.000000  98001.00000   \n",
              "25%        0.000000      2.000000  ...   1952.000000  98033.00000   \n",
              "50%        0.000000      2.000000  ...   1975.000000  98065.00000   \n",
              "75%        0.000000      3.000000  ...   1997.000000  98117.00000   \n",
              "max        4.000000      4.000000  ...   2015.000000  98199.00000   \n",
              "std        0.765437      0.650035  ...     29.387141     53.47748   \n",
              "\n",
              "                lat          long  sqft_living15     sqft_lot15     renovated  \\\n",
              "count  21420.000000  21420.000000   21420.000000   21420.000000  21420.000000   \n",
              "mean      47.560197   -122.213784    1988.384080   12775.718161      0.034547   \n",
              "min       47.155900   -122.519000     399.000000     651.000000      0.000000   \n",
              "25%       47.471200   -122.328000    1490.000000    5100.000000      0.000000   \n",
              "50%       47.572100   -122.230000    1840.000000    7620.000000      0.000000   \n",
              "75%       47.678100   -122.125000    2370.000000   10086.250000      0.000000   \n",
              "max       47.777600   -121.315000    6210.000000  871200.000000      1.000000   \n",
              "std        0.138589      0.140791     685.537057   27345.621867      0.182634   \n",
              "\n",
              "           basement         month           age  \n",
              "count  21420.000000  21420.000000  21420.000000  \n",
              "mean       0.385201      6.590336     43.225957  \n",
              "min        0.000000      1.000000     -1.000000  \n",
              "25%        0.000000      4.000000     17.000000  \n",
              "50%        0.000000      6.000000     39.000000  \n",
              "75%        1.000000      9.000000     63.000000  \n",
              "max        1.000000     12.000000    115.000000  \n",
              "std        0.486654      3.107924     29.387207  \n",
              "\n",
              "[8 rows x 23 columns]"
            ],
            "text/html": [
              "\n",
              "  <div id=\"df-ead5ae5d-5b57-4eb6-83ca-a0e25c531787\" class=\"colab-df-container\">\n",
              "    <div>\n",
              "<style scoped>\n",
              "    .dataframe tbody tr th:only-of-type {\n",
              "        vertical-align: middle;\n",
              "    }\n",
              "\n",
              "    .dataframe tbody tr th {\n",
              "        vertical-align: top;\n",
              "    }\n",
              "\n",
              "    .dataframe thead th {\n",
              "        text-align: right;\n",
              "    }\n",
              "</style>\n",
              "<table border=\"1\" class=\"dataframe\">\n",
              "  <thead>\n",
              "    <tr style=\"text-align: right;\">\n",
              "      <th></th>\n",
              "      <th>date</th>\n",
              "      <th>price</th>\n",
              "      <th>bedrooms</th>\n",
              "      <th>bathrooms</th>\n",
              "      <th>sqft_living</th>\n",
              "      <th>sqft_lot</th>\n",
              "      <th>floors</th>\n",
              "      <th>waterfront</th>\n",
              "      <th>view</th>\n",
              "      <th>condition</th>\n",
              "      <th>...</th>\n",
              "      <th>yr_built</th>\n",
              "      <th>zipcode</th>\n",
              "      <th>lat</th>\n",
              "      <th>long</th>\n",
              "      <th>sqft_living15</th>\n",
              "      <th>sqft_lot15</th>\n",
              "      <th>renovated</th>\n",
              "      <th>basement</th>\n",
              "      <th>month</th>\n",
              "      <th>age</th>\n",
              "    </tr>\n",
              "  </thead>\n",
              "  <tbody>\n",
              "    <tr>\n",
              "      <th>count</th>\n",
              "      <td>21420</td>\n",
              "      <td>2.142000e+04</td>\n",
              "      <td>21420.000000</td>\n",
              "      <td>21420.000000</td>\n",
              "      <td>21420.000000</td>\n",
              "      <td>2.142000e+04</td>\n",
              "      <td>21420.000000</td>\n",
              "      <td>21420.000000</td>\n",
              "      <td>21420.000000</td>\n",
              "      <td>21420.000000</td>\n",
              "      <td>...</td>\n",
              "      <td>21420.000000</td>\n",
              "      <td>21420.00000</td>\n",
              "      <td>21420.000000</td>\n",
              "      <td>21420.000000</td>\n",
              "      <td>21420.000000</td>\n",
              "      <td>21420.000000</td>\n",
              "      <td>21420.000000</td>\n",
              "      <td>21420.000000</td>\n",
              "      <td>21420.000000</td>\n",
              "      <td>21420.000000</td>\n",
              "    </tr>\n",
              "    <tr>\n",
              "      <th>mean</th>\n",
              "      <td>2014-10-28 05:03:51.932773120</td>\n",
              "      <td>5.407393e+05</td>\n",
              "      <td>3.372549</td>\n",
              "      <td>2.118429</td>\n",
              "      <td>2083.132633</td>\n",
              "      <td>1.512804e+04</td>\n",
              "      <td>1.495985</td>\n",
              "      <td>0.006816</td>\n",
              "      <td>0.233987</td>\n",
              "      <td>2.410784</td>\n",
              "      <td>...</td>\n",
              "      <td>1971.092997</td>\n",
              "      <td>98077.87437</td>\n",
              "      <td>47.560197</td>\n",
              "      <td>-122.213784</td>\n",
              "      <td>1988.384080</td>\n",
              "      <td>12775.718161</td>\n",
              "      <td>0.034547</td>\n",
              "      <td>0.385201</td>\n",
              "      <td>6.590336</td>\n",
              "      <td>43.225957</td>\n",
              "    </tr>\n",
              "    <tr>\n",
              "      <th>min</th>\n",
              "      <td>2014-05-02 00:00:00</td>\n",
              "      <td>7.800000e+04</td>\n",
              "      <td>1.000000</td>\n",
              "      <td>0.500000</td>\n",
              "      <td>370.000000</td>\n",
              "      <td>5.200000e+02</td>\n",
              "      <td>1.000000</td>\n",
              "      <td>0.000000</td>\n",
              "      <td>0.000000</td>\n",
              "      <td>0.000000</td>\n",
              "      <td>...</td>\n",
              "      <td>1900.000000</td>\n",
              "      <td>98001.00000</td>\n",
              "      <td>47.155900</td>\n",
              "      <td>-122.519000</td>\n",
              "      <td>399.000000</td>\n",
              "      <td>651.000000</td>\n",
              "      <td>0.000000</td>\n",
              "      <td>0.000000</td>\n",
              "      <td>1.000000</td>\n",
              "      <td>-1.000000</td>\n",
              "    </tr>\n",
              "    <tr>\n",
              "      <th>25%</th>\n",
              "      <td>2014-07-21 00:00:00</td>\n",
              "      <td>3.225000e+05</td>\n",
              "      <td>3.000000</td>\n",
              "      <td>1.750000</td>\n",
              "      <td>1430.000000</td>\n",
              "      <td>5.040000e+03</td>\n",
              "      <td>1.000000</td>\n",
              "      <td>0.000000</td>\n",
              "      <td>0.000000</td>\n",
              "      <td>2.000000</td>\n",
              "      <td>...</td>\n",
              "      <td>1952.000000</td>\n",
              "      <td>98033.00000</td>\n",
              "      <td>47.471200</td>\n",
              "      <td>-122.328000</td>\n",
              "      <td>1490.000000</td>\n",
              "      <td>5100.000000</td>\n",
              "      <td>0.000000</td>\n",
              "      <td>0.000000</td>\n",
              "      <td>4.000000</td>\n",
              "      <td>17.000000</td>\n",
              "    </tr>\n",
              "    <tr>\n",
              "      <th>50%</th>\n",
              "      <td>2014-10-15 00:00:00</td>\n",
              "      <td>4.500000e+05</td>\n",
              "      <td>3.000000</td>\n",
              "      <td>2.250000</td>\n",
              "      <td>1920.000000</td>\n",
              "      <td>7.614000e+03</td>\n",
              "      <td>1.500000</td>\n",
              "      <td>0.000000</td>\n",
              "      <td>0.000000</td>\n",
              "      <td>2.000000</td>\n",
              "      <td>...</td>\n",
              "      <td>1975.000000</td>\n",
              "      <td>98065.00000</td>\n",
              "      <td>47.572100</td>\n",
              "      <td>-122.230000</td>\n",
              "      <td>1840.000000</td>\n",
              "      <td>7620.000000</td>\n",
              "      <td>0.000000</td>\n",
              "      <td>0.000000</td>\n",
              "      <td>6.000000</td>\n",
              "      <td>39.000000</td>\n",
              "    </tr>\n",
              "    <tr>\n",
              "      <th>75%</th>\n",
              "      <td>2015-02-13 00:00:00</td>\n",
              "      <td>6.450000e+05</td>\n",
              "      <td>4.000000</td>\n",
              "      <td>2.500000</td>\n",
              "      <td>2550.000000</td>\n",
              "      <td>1.069050e+04</td>\n",
              "      <td>2.000000</td>\n",
              "      <td>0.000000</td>\n",
              "      <td>0.000000</td>\n",
              "      <td>3.000000</td>\n",
              "      <td>...</td>\n",
              "      <td>1997.000000</td>\n",
              "      <td>98117.00000</td>\n",
              "      <td>47.678100</td>\n",
              "      <td>-122.125000</td>\n",
              "      <td>2370.000000</td>\n",
              "      <td>10086.250000</td>\n",
              "      <td>0.000000</td>\n",
              "      <td>1.000000</td>\n",
              "      <td>9.000000</td>\n",
              "      <td>63.000000</td>\n",
              "    </tr>\n",
              "    <tr>\n",
              "      <th>max</th>\n",
              "      <td>2015-05-27 00:00:00</td>\n",
              "      <td>7.700000e+06</td>\n",
              "      <td>11.000000</td>\n",
              "      <td>8.000000</td>\n",
              "      <td>13540.000000</td>\n",
              "      <td>1.651359e+06</td>\n",
              "      <td>3.500000</td>\n",
              "      <td>1.000000</td>\n",
              "      <td>4.000000</td>\n",
              "      <td>4.000000</td>\n",
              "      <td>...</td>\n",
              "      <td>2015.000000</td>\n",
              "      <td>98199.00000</td>\n",
              "      <td>47.777600</td>\n",
              "      <td>-121.315000</td>\n",
              "      <td>6210.000000</td>\n",
              "      <td>871200.000000</td>\n",
              "      <td>1.000000</td>\n",
              "      <td>1.000000</td>\n",
              "      <td>12.000000</td>\n",
              "      <td>115.000000</td>\n",
              "    </tr>\n",
              "    <tr>\n",
              "      <th>std</th>\n",
              "      <td>NaN</td>\n",
              "      <td>3.679311e+05</td>\n",
              "      <td>0.902995</td>\n",
              "      <td>0.768720</td>\n",
              "      <td>918.808412</td>\n",
              "      <td>4.153080e+04</td>\n",
              "      <td>0.540081</td>\n",
              "      <td>0.082280</td>\n",
              "      <td>0.765437</td>\n",
              "      <td>0.650035</td>\n",
              "      <td>...</td>\n",
              "      <td>29.387141</td>\n",
              "      <td>53.47748</td>\n",
              "      <td>0.138589</td>\n",
              "      <td>0.140791</td>\n",
              "      <td>685.537057</td>\n",
              "      <td>27345.621867</td>\n",
              "      <td>0.182634</td>\n",
              "      <td>0.486654</td>\n",
              "      <td>3.107924</td>\n",
              "      <td>29.387207</td>\n",
              "    </tr>\n",
              "  </tbody>\n",
              "</table>\n",
              "<p>8 rows × 23 columns</p>\n",
              "</div>\n",
              "    <div class=\"colab-df-buttons\">\n",
              "\n",
              "  <div class=\"colab-df-container\">\n",
              "    <button class=\"colab-df-convert\" onclick=\"convertToInteractive('df-ead5ae5d-5b57-4eb6-83ca-a0e25c531787')\"\n",
              "            title=\"Convert this dataframe to an interactive table.\"\n",
              "            style=\"display:none;\">\n",
              "\n",
              "  <svg xmlns=\"http://www.w3.org/2000/svg\" height=\"24px\" viewBox=\"0 -960 960 960\">\n",
              "    <path d=\"M120-120v-720h720v720H120Zm60-500h600v-160H180v160Zm220 220h160v-160H400v160Zm0 220h160v-160H400v160ZM180-400h160v-160H180v160Zm440 0h160v-160H620v160ZM180-180h160v-160H180v160Zm440 0h160v-160H620v160Z\"/>\n",
              "  </svg>\n",
              "    </button>\n",
              "\n",
              "  <style>\n",
              "    .colab-df-container {\n",
              "      display:flex;\n",
              "      gap: 12px;\n",
              "    }\n",
              "\n",
              "    .colab-df-convert {\n",
              "      background-color: #E8F0FE;\n",
              "      border: none;\n",
              "      border-radius: 50%;\n",
              "      cursor: pointer;\n",
              "      display: none;\n",
              "      fill: #1967D2;\n",
              "      height: 32px;\n",
              "      padding: 0 0 0 0;\n",
              "      width: 32px;\n",
              "    }\n",
              "\n",
              "    .colab-df-convert:hover {\n",
              "      background-color: #E2EBFA;\n",
              "      box-shadow: 0px 1px 2px rgba(60, 64, 67, 0.3), 0px 1px 3px 1px rgba(60, 64, 67, 0.15);\n",
              "      fill: #174EA6;\n",
              "    }\n",
              "\n",
              "    .colab-df-buttons div {\n",
              "      margin-bottom: 4px;\n",
              "    }\n",
              "\n",
              "    [theme=dark] .colab-df-convert {\n",
              "      background-color: #3B4455;\n",
              "      fill: #D2E3FC;\n",
              "    }\n",
              "\n",
              "    [theme=dark] .colab-df-convert:hover {\n",
              "      background-color: #434B5C;\n",
              "      box-shadow: 0px 1px 3px 1px rgba(0, 0, 0, 0.15);\n",
              "      filter: drop-shadow(0px 1px 2px rgba(0, 0, 0, 0.3));\n",
              "      fill: #FFFFFF;\n",
              "    }\n",
              "  </style>\n",
              "\n",
              "    <script>\n",
              "      const buttonEl =\n",
              "        document.querySelector('#df-ead5ae5d-5b57-4eb6-83ca-a0e25c531787 button.colab-df-convert');\n",
              "      buttonEl.style.display =\n",
              "        google.colab.kernel.accessAllowed ? 'block' : 'none';\n",
              "\n",
              "      async function convertToInteractive(key) {\n",
              "        const element = document.querySelector('#df-ead5ae5d-5b57-4eb6-83ca-a0e25c531787');\n",
              "        const dataTable =\n",
              "          await google.colab.kernel.invokeFunction('convertToInteractive',\n",
              "                                                    [key], {});\n",
              "        if (!dataTable) return;\n",
              "\n",
              "        const docLinkHtml = 'Like what you see? Visit the ' +\n",
              "          '<a target=\"_blank\" href=https://colab.research.google.com/notebooks/data_table.ipynb>data table notebook</a>'\n",
              "          + ' to learn more about interactive tables.';\n",
              "        element.innerHTML = '';\n",
              "        dataTable['output_type'] = 'display_data';\n",
              "        await google.colab.output.renderOutput(dataTable, element);\n",
              "        const docLink = document.createElement('div');\n",
              "        docLink.innerHTML = docLinkHtml;\n",
              "        element.appendChild(docLink);\n",
              "      }\n",
              "    </script>\n",
              "  </div>\n",
              "\n",
              "\n",
              "<div id=\"df-2f0a78c0-0667-4ea8-b767-336d48c65201\">\n",
              "  <button class=\"colab-df-quickchart\" onclick=\"quickchart('df-2f0a78c0-0667-4ea8-b767-336d48c65201')\"\n",
              "            title=\"Suggest charts\"\n",
              "            style=\"display:none;\">\n",
              "\n",
              "<svg xmlns=\"http://www.w3.org/2000/svg\" height=\"24px\"viewBox=\"0 0 24 24\"\n",
              "     width=\"24px\">\n",
              "    <g>\n",
              "        <path d=\"M19 3H5c-1.1 0-2 .9-2 2v14c0 1.1.9 2 2 2h14c1.1 0 2-.9 2-2V5c0-1.1-.9-2-2-2zM9 17H7v-7h2v7zm4 0h-2V7h2v10zm4 0h-2v-4h2v4z\"/>\n",
              "    </g>\n",
              "</svg>\n",
              "  </button>\n",
              "\n",
              "<style>\n",
              "  .colab-df-quickchart {\n",
              "      --bg-color: #E8F0FE;\n",
              "      --fill-color: #1967D2;\n",
              "      --hover-bg-color: #E2EBFA;\n",
              "      --hover-fill-color: #174EA6;\n",
              "      --disabled-fill-color: #AAA;\n",
              "      --disabled-bg-color: #DDD;\n",
              "  }\n",
              "\n",
              "  [theme=dark] .colab-df-quickchart {\n",
              "      --bg-color: #3B4455;\n",
              "      --fill-color: #D2E3FC;\n",
              "      --hover-bg-color: #434B5C;\n",
              "      --hover-fill-color: #FFFFFF;\n",
              "      --disabled-bg-color: #3B4455;\n",
              "      --disabled-fill-color: #666;\n",
              "  }\n",
              "\n",
              "  .colab-df-quickchart {\n",
              "    background-color: var(--bg-color);\n",
              "    border: none;\n",
              "    border-radius: 50%;\n",
              "    cursor: pointer;\n",
              "    display: none;\n",
              "    fill: var(--fill-color);\n",
              "    height: 32px;\n",
              "    padding: 0;\n",
              "    width: 32px;\n",
              "  }\n",
              "\n",
              "  .colab-df-quickchart:hover {\n",
              "    background-color: var(--hover-bg-color);\n",
              "    box-shadow: 0 1px 2px rgba(60, 64, 67, 0.3), 0 1px 3px 1px rgba(60, 64, 67, 0.15);\n",
              "    fill: var(--button-hover-fill-color);\n",
              "  }\n",
              "\n",
              "  .colab-df-quickchart-complete:disabled,\n",
              "  .colab-df-quickchart-complete:disabled:hover {\n",
              "    background-color: var(--disabled-bg-color);\n",
              "    fill: var(--disabled-fill-color);\n",
              "    box-shadow: none;\n",
              "  }\n",
              "\n",
              "  .colab-df-spinner {\n",
              "    border: 2px solid var(--fill-color);\n",
              "    border-color: transparent;\n",
              "    border-bottom-color: var(--fill-color);\n",
              "    animation:\n",
              "      spin 1s steps(1) infinite;\n",
              "  }\n",
              "\n",
              "  @keyframes spin {\n",
              "    0% {\n",
              "      border-color: transparent;\n",
              "      border-bottom-color: var(--fill-color);\n",
              "      border-left-color: var(--fill-color);\n",
              "    }\n",
              "    20% {\n",
              "      border-color: transparent;\n",
              "      border-left-color: var(--fill-color);\n",
              "      border-top-color: var(--fill-color);\n",
              "    }\n",
              "    30% {\n",
              "      border-color: transparent;\n",
              "      border-left-color: var(--fill-color);\n",
              "      border-top-color: var(--fill-color);\n",
              "      border-right-color: var(--fill-color);\n",
              "    }\n",
              "    40% {\n",
              "      border-color: transparent;\n",
              "      border-right-color: var(--fill-color);\n",
              "      border-top-color: var(--fill-color);\n",
              "    }\n",
              "    60% {\n",
              "      border-color: transparent;\n",
              "      border-right-color: var(--fill-color);\n",
              "    }\n",
              "    80% {\n",
              "      border-color: transparent;\n",
              "      border-right-color: var(--fill-color);\n",
              "      border-bottom-color: var(--fill-color);\n",
              "    }\n",
              "    90% {\n",
              "      border-color: transparent;\n",
              "      border-bottom-color: var(--fill-color);\n",
              "    }\n",
              "  }\n",
              "</style>\n",
              "\n",
              "  <script>\n",
              "    async function quickchart(key) {\n",
              "      const quickchartButtonEl =\n",
              "        document.querySelector('#' + key + ' button');\n",
              "      quickchartButtonEl.disabled = true;  // To prevent multiple clicks.\n",
              "      quickchartButtonEl.classList.add('colab-df-spinner');\n",
              "      try {\n",
              "        const charts = await google.colab.kernel.invokeFunction(\n",
              "            'suggestCharts', [key], {});\n",
              "      } catch (error) {\n",
              "        console.error('Error during call to suggestCharts:', error);\n",
              "      }\n",
              "      quickchartButtonEl.classList.remove('colab-df-spinner');\n",
              "      quickchartButtonEl.classList.add('colab-df-quickchart-complete');\n",
              "    }\n",
              "    (() => {\n",
              "      let quickchartButtonEl =\n",
              "        document.querySelector('#df-2f0a78c0-0667-4ea8-b767-336d48c65201 button');\n",
              "      quickchartButtonEl.style.display =\n",
              "        google.colab.kernel.accessAllowed ? 'block' : 'none';\n",
              "    })();\n",
              "  </script>\n",
              "</div>\n",
              "    </div>\n",
              "  </div>\n"
            ],
            "application/vnd.google.colaboratory.intrinsic+json": {
              "type": "dataframe"
            }
          },
          "metadata": {},
          "execution_count": 27
        }
      ],
      "source": [
        "df2.describe()"
      ]
    },
    {
      "cell_type": "markdown",
      "source": [
        "The data frame is now ready for use"
      ],
      "metadata": {
        "id": "PaP7kRq_hQIr"
      }
    },
    {
      "cell_type": "markdown",
      "source": [
        "# Exploratory Data Analysis"
      ],
      "metadata": {
        "id": "d4vBHFxymOl7"
      }
    },
    {
      "cell_type": "markdown",
      "source": [
        "Visualisations and Insights"
      ],
      "metadata": {
        "id": "B-7x2LWoh9vZ"
      }
    },
    {
      "cell_type": "markdown",
      "source": [
        "We will be performing analysis on the data frame to explore\n",
        "\n",
        "\n",
        "*   Distribution of the various ZIPCODEs and the PRICE of the properties\n",
        "\n",
        "*  Geographical distribution of the properties\n",
        "*  A comparison of the continuous variables against price\n",
        "*  How nominal values compare against price\n",
        "* Correlation of the features of the properties\n",
        "\n",
        "\n",
        "\n",
        "\n",
        "\n",
        "\n",
        "\n"
      ],
      "metadata": {
        "id": "OJacrVDziKsI"
      }
    },
    {
      "cell_type": "markdown",
      "source": [
        "We look at\n",
        "\n",
        "*   Distribution of the PRICE of the properties\n",
        "*   Distribution of price by the various ZIPCODES\n"
      ],
      "metadata": {
        "id": "xtyz3TRUmc2E"
      }
    },
    {
      "cell_type": "code",
      "source": [
        "# Plotting the distribution of Price of the properties\n",
        "sns.histplot(data=df2, x='price', bins=40, kde=True)\n",
        "plt.title('Distribution of \\'Price\\'', fontsize=12)  # Setting the title\n",
        "plt.xlabel('Price ($)')  # Setting the label for the X axis\n",
        "plt.show()"
      ],
      "metadata": {
        "colab": {
          "base_uri": "https://localhost:8080/",
          "height": 476
        },
        "id": "gkh_AxqwqI_d",
        "outputId": "fd7b49ea-7df1-4139-dab2-dcd135cfeb81"
      },
      "execution_count": 28,
      "outputs": [
        {
          "output_type": "display_data",
          "data": {
            "text/plain": [
              "<Figure size 640x480 with 1 Axes>"
            ],
            "image/png": "[encoded data removed]"
          },
          "metadata": {}
        }
      ]
    },
    {
      "cell_type": "markdown",
      "source": [
        "Right skewed\n",
        "\n",
        "It indicates that there are fewer high-priced houses and more low-priced houses."
      ],
      "metadata": {
        "id": "KoO52xdvwHwP"
      }
    },
    {
      "cell_type": "markdown",
      "source": [
        "**Analysis of relationship between Price and Zipcode**"
      ],
      "metadata": {
        "id": "gbqzkg0JxtkO"
      }
    },
    {
      "cell_type": "code",
      "source": [
        "# Plotting the distribution of the properties by Zipcodes\n",
        "\n",
        "# Group data by zip code and calculate the average price of properties in each zip code\n",
        "avg_price_by_zip = df2.groupby('zipcode')['price'].mean().reset_index(name='average_price')\n",
        "\n",
        "# Sort data by average price in descending order (optional)\n",
        "avg_price_by_zip = avg_price_by_zip.sort_values(by='average_price', ascending=False)\n",
        "\n",
        "# Create a bar plot\n",
        "plt.figure(figsize=(12, 6))\n",
        "plt.bar(avg_price_by_zip['zipcode'], avg_price_by_zip['average_price'], color='green')\n",
        "plt.xlabel('Zip Code')\n",
        "plt.ylabel('Average Price ($)')\n",
        "plt.title('Average Price of Properties by Zip Code in King County')\n",
        "plt.xticks(rotation=90)  # Rotate x-axis labels for better readability\n",
        "plt.tight_layout()\n",
        "plt.show()"
      ],
      "metadata": {
        "colab": {
          "base_uri": "https://localhost:8080/",
          "height": 364
        },
        "id": "1EEPmvD2tyG8",
        "outputId": "4377aa40-6f8b-441d-85a8-8d764d6ab118"
      },
      "execution_count": 29,
      "outputs": [
        {
          "output_type": "display_data",
          "data": {
            "text/plain": [
              "<Figure size 1200x600 with 1 Axes>"
            ],
            "image/png": "[encoded data removed]"
          },
          "metadata": {}
        }
      ]
    },
    {
      "cell_type": "code",
      "source": [
        "#Grouping the data by Zipcode to compute statistics for each Zipcode group.\n",
        "\n",
        "zipcode_stats = df.groupby('zipcode')['price'].agg(['count', 'mean', 'median', 'std']) # Group the data by Zipcode and compute statistics\n",
        "\n",
        "# Display the computed statistics\n",
        "print(zipcode_stats)"
      ],
      "metadata": {
        "colab": {
          "base_uri": "https://localhost:8080/"
        },
        "id": "08O2We-PKR34",
        "outputId": "20b86138-7804-4000-93cb-a64f1248cc32"
      },
      "execution_count": 30,
      "outputs": [
        {
          "output_type": "stream",
          "name": "stdout",
          "text": [
            "         count          mean     median            std\n",
            "zipcode                                               \n",
            "98001      361  2.811949e+05   260000.0   98837.430520\n",
            "98002      199  2.342840e+05   235000.0   52041.448659\n",
            "98003      280  2.941113e+05   267475.0  107597.662236\n",
            "98004      317  1.356524e+06  1150000.0  746094.067159\n",
            "98005      168  8.102897e+05   765475.0  268979.168276\n",
            "...        ...           ...        ...            ...\n",
            "98177      255  6.764194e+05   554000.0  436379.739508\n",
            "98178      262  3.106128e+05   278277.0  161044.746227\n",
            "98188      136  2.890783e+05   264000.0  103106.579944\n",
            "98198      280  3.028967e+05   265000.0  154906.277482\n",
            "98199      317  7.921879e+05   689800.0  398428.721573\n",
            "\n",
            "[70 rows x 4 columns]\n"
          ]
        }
      ]
    },
    {
      "cell_type": "code",
      "source": [
        "# Calculate correlation between Zipcode and Price\n",
        "correlation = df['zipcode'].corr(df['price'])\n",
        "\n",
        "# Display the correlation coefficient\n",
        "print(\"Correlation between Zipcode and Price:\", correlation)"
      ],
      "metadata": {
        "colab": {
          "base_uri": "https://localhost:8080/"
        },
        "id": "o8_Inv-6LcBb",
        "outputId": "b16f7b72-71fd-42eb-e222-d39e0c8a5aa0"
      },
      "execution_count": 31,
      "outputs": [
        {
          "output_type": "stream",
          "name": "stdout",
          "text": [
            "Correlation between Zipcode and Price: -0.05340243437772487\n"
          ]
        }
      ]
    },
    {
      "cell_type": "markdown",
      "source": [
        "Zone the zipcodes, analyse prices by zone"
      ],
      "metadata": {
        "id": "V7u3tRPwxpvJ"
      }
    },
    {
      "cell_type": "code",
      "source": [
        "# Extract the independent variables (features) and dependent variable (price)\n",
        "X = df2[['bedrooms', 'bathrooms', 'sqft_living', 'floors', 'sqft_above', 'sqft_basement', 'sqft_lot','yr_built']]\n",
        "y = df2['price']\n",
        "fig, axs = plt.subplots(2, 4, figsize=(15, 7))  # 2 rows, 4 columns\n",
        "\n",
        "# Flatten the axs array for easier indexing\n",
        "axs = axs.flatten()\n",
        "\n",
        "# Plot each independent variable against the dependent variable\n",
        "#for i in range(len(axs)):\n",
        "    #axs[i].scatter(X.iloc[:, i], y)\n",
        "    #axs[i].set_title(f'Independent Variable {i+1}')\n",
        "    #axs[i].set_xlabel(f'X{i+1}')\n",
        "    #axs[i].set_ylabel('Price')\n",
        "\n",
        "column_titles = ['Bedrooms', 'Bathrooms', 'Sqft Living', 'Floors','Sqft Above', 'Sqft Basement', 'Sqft_lot', 'Yr_built']\n",
        "\n",
        "# Plot each independent variable against the dependent variable\n",
        "for i, ax in enumerate(axs):\n",
        "    if i < len(X.columns):  # Check if the index is within the range of columns\n",
        "        ax.scatter(X.iloc[:, i], y)\n",
        "        ax.set_title(f'{column_titles[i]} vs Price')  # Set the title using column_titles list\n",
        "        ax.set_xlabel(column_titles[i])  # Set the x-axis label using the column name\n",
        "        ax.set_ylabel('Price')\n",
        "plt.tight_layout()\n",
        "plt.show()"
      ],
      "metadata": {
        "id": "Zl1kA-a2wxnZ",
        "colab": {
          "base_uri": "https://localhost:8080/",
          "height": 337
        },
        "outputId": "704592d7-e7b1-4a74-d253-625301541cca"
      },
      "execution_count": 32,
      "outputs": [
        {
          "output_type": "display_data",
          "data": {
            "text/plain": [
              "<Figure size 1500x700 with 8 Axes>"
            ],
            "image/png": "[encoded data removed]"
          },
          "metadata": {}
        }
      ]
    },
    {
      "cell_type": "markdown",
      "source": [
        "The price of properties has a strong positive correlation with the number of bathrooms, square foot living area and square foot above.\n",
        "\n",
        "The price is therefore heavily dependent on these 3 house attributes."
      ],
      "metadata": {
        "id": "swYL98eghmZt"
      }
    },
    {
      "cell_type": "markdown",
      "source": [
        "# Feature Selection and Engineering"
      ],
      "metadata": {
        "id": "OdlxoTD1nBcC"
      }
    },
    {
      "cell_type": "markdown",
      "source": [
        "In this section, we shall explore the correclations between various features and our target value (price)"
      ],
      "metadata": {
        "id": "ednXTnwqngAy"
      }
    },
    {
      "cell_type": "markdown",
      "source": [
        "**Analysis of the average price for each category of a nominal variable ('waterfront', 'view', 'condition', 'grade')**"
      ],
      "metadata": {
        "id": "V4sOR5MqO1W7"
      }
    },
    {
      "cell_type": "code",
      "source": [
        "# Select relevant columns for analysis (property attributes and price)\n",
        "columns_of_interest = ['price', 'bedrooms', 'bathrooms', 'sqft_living', 'sqft_lot', 'floors',\n",
        "                      'waterfront', 'view', 'condition', 'grade', 'sqft_above', 'sqft_basement',\n",
        "                      'yr_built', 'zipcode','sqft_living15', 'sqft_lot15', 'date']\n",
        "df_selected = df2[columns_of_interest]\n",
        "\n",
        "# Calculate the correlation matrix\n",
        "correlation_matrix = df_selected.corr()\n",
        "\n",
        "# Create a mask to hide the upper triangular part of the heatmap\n",
        "#mask = np.triu(np.ones_like(correlation_matrix, dtype=bool))\n",
        "\n",
        "# Plot the heatmap\n",
        "plt.figure(figsize=(10, 8))\n",
        "sns.heatmap(correlation_matrix,annot=True, cmap='coolwarm', fmt=\".1f\")\n",
        "plt.title('Correlation Heatmap of Property Attributes with Price')\n",
        "plt.show()"
      ],
      "metadata": {
        "id": "59e8lZJhn9bd",
        "outputId": "1667e098-a3b5-4056-cb4e-0cb75619a94f",
        "colab": {
          "base_uri": "https://localhost:8080/",
          "height": 640
        }
      },
      "execution_count": 33,
      "outputs": [
        {
          "output_type": "display_data",
          "data": {
            "text/plain": [
              "<Figure size 1000x800 with 2 Axes>"
            ],
            "image/png": "[encoded data removed]"
          },
          "metadata": {}
        }
      ]
    },
    {
      "cell_type": "markdown",
      "source": [
        "Sqft_living, grade, Sqft above, sqft living 15 and bathrooms have the highest correlation with price respectively."
      ],
      "metadata": {
        "id": "Kt_9fj9loEDQ"
      }
    },
    {
      "cell_type": "markdown",
      "source": [
        "# Hypothesis"
      ],
      "metadata": {
        "id": "oCQWQMsL8TAz"
      }
    },
    {
      "cell_type": "markdown",
      "source": [
        "\n",
        "\n",
        "1.   There is a relationship between Square foot living and Price. The Null hypothesis is that there is no relationship and the alternative is true.\n",
        "2.   The grade of the house determines the price its listed at. The Null Hypothesis is that grade does not determine the price whilst the alternative is true.\n",
        "3.   Houses with more bathrooms are listed at higher prices. The Null hypothesis is that houses with more bathrooms are not listed at higher prices whilst the alternative is true.\n",
        "\n",
        "\n",
        "\n"
      ],
      "metadata": {
        "id": "-mQGqvvw8ZAi"
      }
    },
    {
      "cell_type": "code",
      "source": [
        "#Exploring relationships between categorical variables with price\n",
        "# Calculate the mean price for each category of the categorical variables\n",
        "mean_price_by_waterfront = df.groupby('waterfront')['price'].mean()\n",
        "mean_price_by_view = df.groupby('view')['price'].mean()\n",
        "mean_price_by_condition = df.groupby('condition')['price'].mean()\n",
        "mean_price_by_grade = df.groupby('grade')['price'].mean()\n",
        "\n",
        "# Plot bar plots for each categorical variable against the average price\n",
        "fig, axs = plt.subplots(2, 2, figsize=(12, 10))\n",
        "\n",
        "sns.barplot(x=mean_price_by_waterfront.index, y=mean_price_by_waterfront.values, ax=axs[0, 0])\n",
        "axs[0, 0].set_title('Average Price by Waterfront')\n",
        "\n",
        "sns.barplot(x=mean_price_by_view.index, y=mean_price_by_view.values, ax=axs[0, 1])\n",
        "axs[0, 1].set_title('Average Price by View')\n",
        "\n",
        "sns.barplot(x=mean_price_by_condition.index, y=mean_price_by_condition.values, ax=axs[1, 0])\n",
        "axs[1, 0].set_title('Average Price by Condition')\n",
        "\n",
        "sns.barplot(x=mean_price_by_grade.index, y=mean_price_by_grade.values, ax=axs[1, 1])\n",
        "axs[1, 1].set_xticks(range(len(mean_price_by_grade.index)))\n",
        "axs[1, 1].set_xticklabels(axs[1, 1].get_xticklabels(), rotation=60)\n",
        "axs[1, 1].set_title('Average Price by Grade')\n",
        "\n",
        "\n",
        "plt.tight_layout()\n",
        "plt.show()"
      ],
      "metadata": {
        "colab": {
          "base_uri": "https://localhost:8080/",
          "height": 599
        },
        "id": "uN7i2Aw_OvYt",
        "outputId": "53db49e2-7a54-4d42-b724-f4e7c964ccc8"
      },
      "execution_count": 34,
      "outputs": [
        {
          "output_type": "display_data",
          "data": {
            "text/plain": [
              "<Figure size 1200x1000 with 4 Axes>"
            ],
            "image/png": "[encoded data removed]"
          },
          "metadata": {}
        }
      ]
    },
    {
      "cell_type": "markdown",
      "source": [
        "Properties with a waterfront are valued higher than properties without.\n",
        "\n",
        "Best views translate to higher property values.\n",
        "\n",
        "Properties in good condition are valued higher.\n",
        "However, properties in poor conditions are priced higher than those in fair condition.\n",
        "\n"
      ],
      "metadata": {
        "id": "PeEPNCxUjldl"
      }
    },
    {
      "cell_type": "code",
      "source": [
        "print(df2.columns)"
      ],
      "metadata": {
        "colab": {
          "base_uri": "https://localhost:8080/"
        },
        "id": "0H5lAVeZYaqT",
        "outputId": "53906258-8a2a-4c00-d8d3-7db260dd5894"
      },
      "execution_count": 35,
      "outputs": [
        {
          "output_type": "stream",
          "name": "stdout",
          "text": [
            "Index(['date', 'price', 'bedrooms', 'bathrooms', 'sqft_living', 'sqft_lot',\n",
            "       'floors', 'waterfront', 'view', 'condition', 'grade', 'sqft_above',\n",
            "       'sqft_basement', 'yr_built', 'zipcode', 'lat', 'long', 'sqft_living15',\n",
            "       'sqft_lot15', 'renovated', 'basement', 'month', 'age'],\n",
            "      dtype='object')\n"
          ]
        }
      ]
    },
    {
      "cell_type": "markdown",
      "source": [
        "From the data set we look at the sales per month"
      ],
      "metadata": {
        "id": "4DbFOD_YsTVx"
      }
    },
    {
      "cell_type": "code",
      "source": [
        "#Analysing Month as a new feature to check on which period in the year are most houses sold.\n",
        "df2['month'].value_counts()"
      ],
      "metadata": {
        "colab": {
          "base_uri": "https://localhost:8080/"
        },
        "id": "U9Aj1CodsRVR",
        "outputId": "6e77df0c-87e4-4206-c8e9-69f5051eb792"
      },
      "execution_count": 36,
      "outputs": [
        {
          "output_type": "execute_result",
          "data": {
            "text/plain": [
              "month\n",
              "5     2398\n",
              "7     2211\n",
              "4     2187\n",
              "6     2178\n",
              "8     1936\n",
              "10    1870\n",
              "3     1835\n",
              "9     1770\n",
              "12    1454\n",
              "11    1401\n",
              "2     1220\n",
              "1      960\n",
              "Name: count, dtype: int64"
            ]
          },
          "metadata": {},
          "execution_count": 36
        }
      ]
    },
    {
      "cell_type": "markdown",
      "source": [
        "May has the most number of houses sold.\n",
        "Q2 and Q3 has the highest number of units sold."
      ],
      "metadata": {
        "id": "TW0XWuxQskIn"
      }
    },
    {
      "cell_type": "markdown",
      "source": [
        "# Regression"
      ],
      "metadata": {
        "id": "jJ7Qj6eto1nt"
      }
    },
    {
      "cell_type": "markdown",
      "source": [
        "Assumptions for linear regression\n",
        "\n",
        "\n",
        "1.   Homoscedasciticity - the difference between the observed and predicted values are similar\n",
        "2.   Linearity - the relationship between X and Y is linear\n",
        "3.   Independence - the observations are independent of each other\n",
        "2.   Normality -  the data follows a normal distribution\n",
        "\n",
        "\n",
        "\n"
      ],
      "metadata": {
        "id": "L5n6skjLpAsH"
      }
    },
    {
      "cell_type": "code",
      "source": [
        "#sqft_living has the highest correlation with price thus we can derive a linear regression model\n",
        "#Defining x and y\n",
        "X = df2['sqft_living']\n",
        "y = df2['price']"
      ],
      "metadata": {
        "id": "5zDYrxZpsrtO"
      },
      "execution_count": 37,
      "outputs": []
    },
    {
      "cell_type": "code",
      "source": [
        "#plotting a scatter graph to check for distribution\n",
        "plt.scatter(X, y)"
      ],
      "metadata": {
        "id": "GOx8gHU-2292",
        "outputId": "f3ac58c3-db13-4b3c-a800-ea56dd13059f",
        "colab": {
          "base_uri": "https://localhost:8080/",
          "height": 463
        }
      },
      "execution_count": 38,
      "outputs": [
        {
          "output_type": "execute_result",
          "data": {
            "text/plain": [
              "<matplotlib.collections.PathCollection at 0x7a0f467e8f70>"
            ]
          },
          "metadata": {},
          "execution_count": 38
        },
        {
          "output_type": "display_data",
          "data": {
            "text/plain": [
              "<Figure size 640x480 with 1 Axes>"
            ],
            "image/png": "[encoded data removed]"
          },
          "metadata": {}
        }
      ]
    },
    {
      "cell_type": "code",
      "source": [
        "#calculating the slope for linear regression line\n",
        "def calc_slope(x_vals, y_vals):\n",
        "    rho = np.corrcoef(x_vals, y_vals)[0][1]\n",
        "    s_y = y_vals.std()\n",
        "    s_x = x_vals.std()\n",
        "\n",
        "    m = rho * s_y / s_x\n",
        "    return m\n",
        "\n",
        "m = calc_slope(X,y)\n",
        "m"
      ],
      "metadata": {
        "id": "vnbsEbcp3p_S",
        "outputId": "51814b60-0d17-4717-ec5b-fa6f53016f6b",
        "colab": {
          "base_uri": "https://localhost:8080/"
        }
      },
      "execution_count": 39,
      "outputs": [
        {
          "output_type": "execute_result",
          "data": {
            "text/plain": [
              "281.0615698705318"
            ]
          },
          "metadata": {},
          "execution_count": 39
        }
      ]
    },
    {
      "cell_type": "code",
      "source": [
        "#deriving the constant -  y-intercept\n",
        "def calc_intercept(m, x_vals, y_vals):\n",
        "    y_mean = y_vals.mean()\n",
        "    x_mean = x_vals.mean()\n",
        "\n",
        "    c = y_mean - m * x_mean\n",
        "    return c\n",
        "\n",
        "c = calc_intercept(m, X, y)\n",
        "c"
      ],
      "metadata": {
        "id": "_NzOWLMR4bbA",
        "outputId": "42ba5097-5881-4620-80d9-1d10bf2c7824",
        "colab": {
          "base_uri": "https://localhost:8080/"
        }
      },
      "execution_count": 40,
      "outputs": [
        {
          "output_type": "execute_result",
          "data": {
            "text/plain": [
              "-44749.224172904156"
            ]
          },
          "metadata": {},
          "execution_count": 40
        }
      ]
    },
    {
      "cell_type": "code",
      "source": [
        "#Plotting the line of best fit\n",
        "def best_fit(x_vals, y_vals):\n",
        "    # Create a scatter plot of x vs. y\n",
        "    fig, ax = plt.subplots()\n",
        "    ax.scatter(x_vals, y_vals, color='#003F72', label=\"Data points\")\n",
        "\n",
        "    # Calculate and print coefficient and intercept\n",
        "    m = calc_slope(x_vals, y_vals)\n",
        "    c = calc_intercept(m, x_vals, y_vals)\n",
        "\n",
        "    # Plot line created by coefficient and intercept\n",
        "    regression_line = m *x_vals + c\n",
        "    ax.plot(x_vals, regression_line, label=\"Regression Line\")\n",
        "    ax.legend()\n",
        "\n",
        "best_fit(X, y)"
      ],
      "metadata": {
        "id": "pRbMEZeh5WTm",
        "outputId": "beb6b83a-8990-43a7-e621-9f214c27dd2b",
        "colab": {
          "base_uri": "https://localhost:8080/",
          "height": 445
        }
      },
      "execution_count": 41,
      "outputs": [
        {
          "output_type": "display_data",
          "data": {
            "text/plain": [
              "<Figure size 640x480 with 1 Axes>"
            ],
            "image/png": "[encoded data removed]"
          },
          "metadata": {}
        }
      ]
    },
    {
      "cell_type": "code",
      "source": [
        "#Model selection and intro\n",
        "model = sm.OLS(endog=y, exog=sm.add_constant(X))\n",
        "model"
      ],
      "metadata": {
        "id": "XyGxfatB7nz0",
        "outputId": "ecd234f0-c7ec-41f7-a045-4612e0567ff3",
        "colab": {
          "base_uri": "https://localhost:8080/"
        }
      },
      "execution_count": 42,
      "outputs": [
        {
          "output_type": "execute_result",
          "data": {
            "text/plain": [
              "<statsmodels.regression.linear_model.OLS at 0x7a0f46679ab0>"
            ]
          },
          "metadata": {},
          "execution_count": 42
        }
      ]
    },
    {
      "cell_type": "code",
      "source": [
        "#Extraction of model fitness\n",
        "results = model.fit()\n",
        "results"
      ],
      "metadata": {
        "id": "0fFml3Wd8KYZ",
        "outputId": "8c7f8e90-6c0d-4e41-b39d-a94417e4918e",
        "colab": {
          "base_uri": "https://localhost:8080/"
        }
      },
      "execution_count": 43,
      "outputs": [
        {
          "output_type": "execute_result",
          "data": {
            "text/plain": [
              "<statsmodels.regression.linear_model.RegressionResultsWrapper at 0x7a0f46407730>"
            ]
          },
          "metadata": {},
          "execution_count": 43
        }
      ]
    },
    {
      "cell_type": "code",
      "source": [
        "#To print the model results\n",
        "print(results.summary())"
      ],
      "metadata": {
        "id": "aYYX2n-j8SiC",
        "outputId": "6e2d5171-9076-4bad-8134-1a55585dbafa",
        "colab": {
          "base_uri": "https://localhost:8080/"
        }
      },
      "execution_count": 44,
      "outputs": [
        {
          "output_type": "stream",
          "name": "stdout",
          "text": [
            "                            OLS Regression Results                            \n",
            "==============================================================================\n",
            "Dep. Variable:                  price   R-squared:                       0.493\n",
            "Model:                            OLS   Adj. R-squared:                  0.493\n",
            "Method:                 Least Squares   F-statistic:                 2.080e+04\n",
            "Date:                Sat, 06 Apr 2024   Prob (F-statistic):               0.00\n",
            "Time:                        21:08:21   Log-Likelihood:            -2.9764e+05\n",
            "No. Observations:               21420   AIC:                         5.953e+05\n",
            "Df Residuals:                   21418   BIC:                         5.953e+05\n",
            "Df Model:                           1                                         \n",
            "Covariance Type:            nonrobust                                         \n",
            "===============================================================================\n",
            "                  coef    std err          t      P>|t|      [0.025      0.975]\n",
            "-------------------------------------------------------------------------------\n",
            "const       -4.475e+04   4437.427    -10.084      0.000   -5.34e+04   -3.61e+04\n",
            "sqft_living   281.0616      1.949    144.207      0.000     277.241     284.882\n",
            "==============================================================================\n",
            "Omnibus:                    14687.843   Durbin-Watson:                   1.989\n",
            "Prob(Omnibus):                  0.000   Jarque-Bera (JB):           538458.356\n",
            "Skew:                           2.822   Prob(JB):                         0.00\n",
            "Kurtosis:                      26.905   Cond. No.                     5.64e+03\n",
            "==============================================================================\n",
            "\n",
            "Notes:\n",
            "[1] Standard Errors assume that the covariance matrix of the errors is correctly specified.\n",
            "[2] The condition number is large, 5.64e+03. This might indicate that there are\n",
            "strong multicollinearity or other numerical problems.\n"
          ]
        }
      ]
    },
    {
      "cell_type": "markdown",
      "source": [
        "Sqft - living accounts for 49.3% of the price. The P-Value are positive which means sqft living has a significant relationship with price. The f-statistic is at 2.080e+04 which is very high and with the p-value at zero, sqft living is a good predictor of price thus the model is doing a good job thus reject the null hypothesis.\n",
        "\n",
        "An additional square foot raises an additional value in price by $281 according to the single variable regression.\n",
        "\n",
        "However, sqft living alone cannot explain the whole price, just 49% and not sufficient. We need multiple variables to explain price."
      ],
      "metadata": {
        "id": "QHuaaxky2g85"
      }
    },
    {
      "cell_type": "markdown",
      "source": [
        "#Identifying Multicollinearity"
      ],
      "metadata": {
        "id": "fthProAX_Zem"
      }
    },
    {
      "cell_type": "markdown",
      "source": [
        "The main goal is to identify the relationship between each predictor and price. Collinearity indicates that changes in one independent variable are associated with changes in another independent variable. We are about to unveil the relationships in our preditors i.e independent variables and remove or accommodate any that are highly correlated with others."
      ],
      "metadata": {
        "id": "-fSATeme_-EH"
      }
    },
    {
      "cell_type": "code",
      "source": [
        "# Let's choose 'sqft_living', 'grade', 'sqft_above','sqft_living15','bathrooms','view'\n",
        "\n",
        "x = df2[['bathrooms','sqft_living','view', 'grade', 'sqft_above','sqft_living15',]]\n",
        "y = df2['price']"
      ],
      "metadata": {
        "id": "ISgF5JPgbzNz"
      },
      "execution_count": 45,
      "outputs": []
    },
    {
      "cell_type": "code",
      "source": [
        "lr = LinearRegression()"
      ],
      "metadata": {
        "id": "s5IJY8Ofdvl9"
      },
      "execution_count": 46,
      "outputs": []
    },
    {
      "cell_type": "code",
      "source": [
        "lr.fit(x, y)"
      ],
      "metadata": {
        "id": "IF-hntK1d2YC",
        "outputId": "55122d8c-6943-4149-83a0-82640c87bd15",
        "colab": {
          "base_uri": "https://localhost:8080/",
          "height": 74
        }
      },
      "execution_count": 47,
      "outputs": [
        {
          "output_type": "execute_result",
          "data": {
            "text/plain": [
              "LinearRegression()"
            ],
            "text/html": [
              "<style>#sk-container-id-1 {color: black;background-color: white;}#sk-container-id-1 pre{padding: 0;}#sk-container-id-1 div.sk-toggleable {background-color: white;}#sk-container-id-1 label.sk-toggleable__label {cursor: pointer;display: block;width: 100%;margin-bottom: 0;padding: 0.3em;box-sizing: border-box;text-align: center;}#sk-container-id-1 label.sk-toggleable__label-arrow:before {content: \"▸\";float: left;margin-right: 0.25em;color: #696969;}#sk-container-id-1 label.sk-toggleable__label-arrow:hover:before {color: black;}#sk-container-id-1 div.sk-estimator:hover label.sk-toggleable__label-arrow:before {color: black;}#sk-container-id-1 div.sk-toggleable__content {max-height: 0;max-width: 0;overflow: hidden;text-align: left;background-color: #f0f8ff;}#sk-container-id-1 div.sk-toggleable__content pre {margin: 0.2em;color: black;border-radius: 0.25em;background-color: #f0f8ff;}#sk-container-id-1 input.sk-toggleable__control:checked~div.sk-toggleable__content {max-height: 200px;max-width: 100%;overflow: auto;}#sk-container-id-1 input.sk-toggleable__control:checked~label.sk-toggleable__label-arrow:before {content: \"▾\";}#sk-container-id-1 div.sk-estimator input.sk-toggleable__control:checked~label.sk-toggleable__label {background-color: #d4ebff;}#sk-container-id-1 div.sk-label input.sk-toggleable__control:checked~label.sk-toggleable__label {background-color: #d4ebff;}#sk-container-id-1 input.sk-hidden--visually {border: 0;clip: rect(1px 1px 1px 1px);clip: rect(1px, 1px, 1px, 1px);height: 1px;margin: -1px;overflow: hidden;padding: 0;position: absolute;width: 1px;}#sk-container-id-1 div.sk-estimator {font-family: monospace;background-color: #f0f8ff;border: 1px dotted black;border-radius: 0.25em;box-sizing: border-box;margin-bottom: 0.5em;}#sk-container-id-1 div.sk-estimator:hover {background-color: #d4ebff;}#sk-container-id-1 div.sk-parallel-item::after {content: \"\";width: 100%;border-bottom: 1px solid gray;flex-grow: 1;}#sk-container-id-1 div.sk-label:hover label.sk-toggleable__label {background-color: #d4ebff;}#sk-container-id-1 div.sk-serial::before {content: \"\";position: absolute;border-left: 1px solid gray;box-sizing: border-box;top: 0;bottom: 0;left: 50%;z-index: 0;}#sk-container-id-1 div.sk-serial {display: flex;flex-direction: column;align-items: center;background-color: white;padding-right: 0.2em;padding-left: 0.2em;position: relative;}#sk-container-id-1 div.sk-item {position: relative;z-index: 1;}#sk-container-id-1 div.sk-parallel {display: flex;align-items: stretch;justify-content: center;background-color: white;position: relative;}#sk-container-id-1 div.sk-item::before, #sk-container-id-1 div.sk-parallel-item::before {content: \"\";position: absolute;border-left: 1px solid gray;box-sizing: border-box;top: 0;bottom: 0;left: 50%;z-index: -1;}#sk-container-id-1 div.sk-parallel-item {display: flex;flex-direction: column;z-index: 1;position: relative;background-color: white;}#sk-container-id-1 div.sk-parallel-item:first-child::after {align-self: flex-end;width: 50%;}#sk-container-id-1 div.sk-parallel-item:last-child::after {align-self: flex-start;width: 50%;}#sk-container-id-1 div.sk-parallel-item:only-child::after {width: 0;}#sk-container-id-1 div.sk-dashed-wrapped {border: 1px dashed gray;margin: 0 0.4em 0.5em 0.4em;box-sizing: border-box;padding-bottom: 0.4em;background-color: white;}#sk-container-id-1 div.sk-label label {font-family: monospace;font-weight: bold;display: inline-block;line-height: 1.2em;}#sk-container-id-1 div.sk-label-container {text-align: center;}#sk-container-id-1 div.sk-container {/* jupyter's `normalize.less` sets `[hidden] { display: none; }` but bootstrap.min.css set `[hidden] { display: none !important; }` so we also need the `!important` here to be able to override the default hidden behavior on the sphinx rendered scikit-learn.org. See: https://github.com/scikit-learn/scikit-learn/issues/21755 */display: inline-block !important;position: relative;}#sk-container-id-1 div.sk-text-repr-fallback {display: none;}</style><div id=\"sk-container-id-1\" class=\"sk-top-container\"><div class=\"sk-text-repr-fallback\"><pre>LinearRegression()</pre><b>In a Jupyter environment, please rerun this cell to show the HTML representation or trust the notebook. <br />On GitHub, the HTML representation is unable to render, please try loading this page with nbviewer.org.</b></div><div class=\"sk-container\" hidden><div class=\"sk-item\"><div class=\"sk-estimator sk-toggleable\"><input class=\"sk-toggleable__control sk-hidden--visually\" id=\"sk-estimator-id-1\" type=\"checkbox\" checked><label for=\"sk-estimator-id-1\" class=\"sk-toggleable__label sk-toggleable__label-arrow\">LinearRegression</label><div class=\"sk-toggleable__content\"><pre>LinearRegression()</pre></div></div></div></div></div>"
            ]
          },
          "metadata": {},
          "execution_count": 47
        }
      ]
    },
    {
      "cell_type": "code",
      "source": [
        "#r2 score\n",
        "lr.score(x, y)"
      ],
      "metadata": {
        "id": "YboWVzyWd_fm",
        "outputId": "b1af9470-ba96-4400-ba59-8f7e94ca40d5",
        "colab": {
          "base_uri": "https://localhost:8080/"
        }
      },
      "execution_count": 48,
      "outputs": [
        {
          "output_type": "execute_result",
          "data": {
            "text/plain": [
              "0.5757531229835862"
            ]
          },
          "metadata": {},
          "execution_count": 48
        }
      ]
    },
    {
      "cell_type": "code",
      "source": [
        "lr_rfe = LinearRegression()\n",
        "select = RFE(lr_rfe, n_features_to_select=6)"
      ],
      "metadata": {
        "id": "eErMywweg-V9"
      },
      "execution_count": 49,
      "outputs": []
    },
    {
      "cell_type": "code",
      "source": [
        "ss = StandardScaler()\n",
        "ss.fit(df2.drop(['price','date'], axis=1))\n",
        "\n",
        "\n",
        "df2_scaled =ss.transform(df2.drop(['price','date'], axis=1))"
      ],
      "metadata": {
        "id": "4rZ7hzP6a17v"
      },
      "execution_count": 50,
      "outputs": []
    },
    {
      "cell_type": "code",
      "source": [
        "select.fit(X=df2_scaled, y=df2['price'])"
      ],
      "metadata": {
        "id": "IVhPmmGQhA1D",
        "outputId": "2afac428-ea3d-4bbc-850b-516830e3eeae",
        "colab": {
          "base_uri": "https://localhost:8080/",
          "height": 117
        }
      },
      "execution_count": 51,
      "outputs": [
        {
          "output_type": "execute_result",
          "data": {
            "text/plain": [
              "RFE(estimator=LinearRegression(), n_features_to_select=6)"
            ],
            "text/html": [
              "<style>#sk-container-id-2 {color: black;background-color: white;}#sk-container-id-2 pre{padding: 0;}#sk-container-id-2 div.sk-toggleable {background-color: white;}#sk-container-id-2 label.sk-toggleable__label {cursor: pointer;display: block;width: 100%;margin-bottom: 0;padding: 0.3em;box-sizing: border-box;text-align: center;}#sk-container-id-2 label.sk-toggleable__label-arrow:before {content: \"▸\";float: left;margin-right: 0.25em;color: #696969;}#sk-container-id-2 label.sk-toggleable__label-arrow:hover:before {color: black;}#sk-container-id-2 div.sk-estimator:hover label.sk-toggleable__label-arrow:before {color: black;}#sk-container-id-2 div.sk-toggleable__content {max-height: 0;max-width: 0;overflow: hidden;text-align: left;background-color: #f0f8ff;}#sk-container-id-2 div.sk-toggleable__content pre {margin: 0.2em;color: black;border-radius: 0.25em;background-color: #f0f8ff;}#sk-container-id-2 input.sk-toggleable__control:checked~div.sk-toggleable__content {max-height: 200px;max-width: 100%;overflow: auto;}#sk-container-id-2 input.sk-toggleable__control:checked~label.sk-toggleable__label-arrow:before {content: \"▾\";}#sk-container-id-2 div.sk-estimator input.sk-toggleable__control:checked~label.sk-toggleable__label {background-color: #d4ebff;}#sk-container-id-2 div.sk-label input.sk-toggleable__control:checked~label.sk-toggleable__label {background-color: #d4ebff;}#sk-container-id-2 input.sk-hidden--visually {border: 0;clip: rect(1px 1px 1px 1px);clip: rect(1px, 1px, 1px, 1px);height: 1px;margin: -1px;overflow: hidden;padding: 0;position: absolute;width: 1px;}#sk-container-id-2 div.sk-estimator {font-family: monospace;background-color: #f0f8ff;border: 1px dotted black;border-radius: 0.25em;box-sizing: border-box;margin-bottom: 0.5em;}#sk-container-id-2 div.sk-estimator:hover {background-color: #d4ebff;}#sk-container-id-2 div.sk-parallel-item::after {content: \"\";width: 100%;border-bottom: 1px solid gray;flex-grow: 1;}#sk-container-id-2 div.sk-label:hover label.sk-toggleable__label {background-color: #d4ebff;}#sk-container-id-2 div.sk-serial::before {content: \"\";position: absolute;border-left: 1px solid gray;box-sizing: border-box;top: 0;bottom: 0;left: 50%;z-index: 0;}#sk-container-id-2 div.sk-serial {display: flex;flex-direction: column;align-items: center;background-color: white;padding-right: 0.2em;padding-left: 0.2em;position: relative;}#sk-container-id-2 div.sk-item {position: relative;z-index: 1;}#sk-container-id-2 div.sk-parallel {display: flex;align-items: stretch;justify-content: center;background-color: white;position: relative;}#sk-container-id-2 div.sk-item::before, #sk-container-id-2 div.sk-parallel-item::before {content: \"\";position: absolute;border-left: 1px solid gray;box-sizing: border-box;top: 0;bottom: 0;left: 50%;z-index: -1;}#sk-container-id-2 div.sk-parallel-item {display: flex;flex-direction: column;z-index: 1;position: relative;background-color: white;}#sk-container-id-2 div.sk-parallel-item:first-child::after {align-self: flex-end;width: 50%;}#sk-container-id-2 div.sk-parallel-item:last-child::after {align-self: flex-start;width: 50%;}#sk-container-id-2 div.sk-parallel-item:only-child::after {width: 0;}#sk-container-id-2 div.sk-dashed-wrapped {border: 1px dashed gray;margin: 0 0.4em 0.5em 0.4em;box-sizing: border-box;padding-bottom: 0.4em;background-color: white;}#sk-container-id-2 div.sk-label label {font-family: monospace;font-weight: bold;display: inline-block;line-height: 1.2em;}#sk-container-id-2 div.sk-label-container {text-align: center;}#sk-container-id-2 div.sk-container {/* jupyter's `normalize.less` sets `[hidden] { display: none; }` but bootstrap.min.css set `[hidden] { display: none !important; }` so we also need the `!important` here to be able to override the default hidden behavior on the sphinx rendered scikit-learn.org. See: https://github.com/scikit-learn/scikit-learn/issues/21755 */display: inline-block !important;position: relative;}#sk-container-id-2 div.sk-text-repr-fallback {display: none;}</style><div id=\"sk-container-id-2\" class=\"sk-top-container\"><div class=\"sk-text-repr-fallback\"><pre>RFE(estimator=LinearRegression(), n_features_to_select=6)</pre><b>In a Jupyter environment, please rerun this cell to show the HTML representation or trust the notebook. <br />On GitHub, the HTML representation is unable to render, please try loading this page with nbviewer.org.</b></div><div class=\"sk-container\" hidden><div class=\"sk-item sk-dashed-wrapped\"><div class=\"sk-label-container\"><div class=\"sk-label sk-toggleable\"><input class=\"sk-toggleable__control sk-hidden--visually\" id=\"sk-estimator-id-2\" type=\"checkbox\" ><label for=\"sk-estimator-id-2\" class=\"sk-toggleable__label sk-toggleable__label-arrow\">RFE</label><div class=\"sk-toggleable__content\"><pre>RFE(estimator=LinearRegression(), n_features_to_select=6)</pre></div></div></div><div class=\"sk-parallel\"><div class=\"sk-parallel-item\"><div class=\"sk-item\"><div class=\"sk-label-container\"><div class=\"sk-label sk-toggleable\"><input class=\"sk-toggleable__control sk-hidden--visually\" id=\"sk-estimator-id-3\" type=\"checkbox\" ><label for=\"sk-estimator-id-3\" class=\"sk-toggleable__label sk-toggleable__label-arrow\">estimator: LinearRegression</label><div class=\"sk-toggleable__content\"><pre>LinearRegression()</pre></div></div></div><div class=\"sk-serial\"><div class=\"sk-item\"><div class=\"sk-estimator sk-toggleable\"><input class=\"sk-toggleable__control sk-hidden--visually\" id=\"sk-estimator-id-4\" type=\"checkbox\" ><label for=\"sk-estimator-id-4\" class=\"sk-toggleable__label sk-toggleable__label-arrow\">LinearRegression</label><div class=\"sk-toggleable__content\"><pre>LinearRegression()</pre></div></div></div></div></div></div></div></div></div></div>"
            ]
          },
          "metadata": {},
          "execution_count": 51
        }
      ]
    },
    {
      "cell_type": "code",
      "source": [
        "df2.columns"
      ],
      "metadata": {
        "id": "V7gQ92Gxkca3",
        "outputId": "bd4aa73f-10dd-4a05-ed13-1b09670dfcee",
        "colab": {
          "base_uri": "https://localhost:8080/"
        }
      },
      "execution_count": 52,
      "outputs": [
        {
          "output_type": "execute_result",
          "data": {
            "text/plain": [
              "Index(['date', 'price', 'bedrooms', 'bathrooms', 'sqft_living', 'sqft_lot',\n",
              "       'floors', 'waterfront', 'view', 'condition', 'grade', 'sqft_above',\n",
              "       'sqft_basement', 'yr_built', 'zipcode', 'lat', 'long', 'sqft_living15',\n",
              "       'sqft_lot15', 'renovated', 'basement', 'month', 'age'],\n",
              "      dtype='object')"
            ]
          },
          "metadata": {},
          "execution_count": 52
        }
      ]
    },
    {
      "cell_type": "code",
      "source": [
        "select.support_"
      ],
      "metadata": {
        "id": "WCMhL-F7Y77r",
        "outputId": "7769c435-a76f-4c3a-fbf4-83180e1c5823",
        "colab": {
          "base_uri": "https://localhost:8080/"
        }
      },
      "execution_count": 53,
      "outputs": [
        {
          "output_type": "execute_result",
          "data": {
            "text/plain": [
              "array([False, False,  True, False, False,  True, False, False,  True,\n",
              "       False, False,  True, False,  True, False, False, False, False,\n",
              "       False, False,  True])"
            ]
          },
          "metadata": {},
          "execution_count": 53
        }
      ]
    },
    {
      "cell_type": "markdown",
      "source": [
        "We shall use the suggested predictors to train the linear regression model on the relationships between them and price."
      ],
      "metadata": {
        "id": "lYAI32raLrPc"
      }
    },
    {
      "cell_type": "markdown",
      "source": [
        "suggested features are\n",
        "\n",
        "\n",
        "  \n",
        "*   sqft_living\n",
        "*   waterfront\n",
        "*   grade\n",
        "*   latitude\n",
        "*   Age\n"
      ],
      "metadata": {
        "id": "S07lIm2omle0"
      }
    },
    {
      "cell_type": "code",
      "source": [
        "df2.columns"
      ],
      "metadata": {
        "id": "54RYwYdrpwz-",
        "outputId": "b4b2c0e2-3d54-4e44-a6ef-7e3c68a31add",
        "colab": {
          "base_uri": "https://localhost:8080/"
        }
      },
      "execution_count": 54,
      "outputs": [
        {
          "output_type": "execute_result",
          "data": {
            "text/plain": [
              "Index(['date', 'price', 'bedrooms', 'bathrooms', 'sqft_living', 'sqft_lot',\n",
              "       'floors', 'waterfront', 'view', 'condition', 'grade', 'sqft_above',\n",
              "       'sqft_basement', 'yr_built', 'zipcode', 'lat', 'long', 'sqft_living15',\n",
              "       'sqft_lot15', 'renovated', 'basement', 'month', 'age'],\n",
              "      dtype='object')"
            ]
          },
          "metadata": {},
          "execution_count": 54
        }
      ]
    },
    {
      "cell_type": "code",
      "source": [
        "#Selecting the independent variables to use in our model\n",
        "x = df2[['sqft_living', 'waterfront','grade', 'lat','age']]\n",
        "y = df2[['price']]"
      ],
      "metadata": {
        "id": "tA8jig7znxQq"
      },
      "execution_count": 55,
      "outputs": []
    },
    {
      "cell_type": "markdown",
      "source": [
        "#Model Training"
      ],
      "metadata": {
        "id": "LL5CnM3nLmrm"
      }
    },
    {
      "cell_type": "code",
      "source": [
        "#Splitting the data\n",
        "from sklearn.model_selection import train_test_split\n",
        "x_train,x_test,y_train,y_test = train_test_split(x,y,test_size = 0.25,random_state=42)"
      ],
      "metadata": {
        "id": "5RE01uEfoEbt"
      },
      "execution_count": 56,
      "outputs": []
    },
    {
      "cell_type": "code",
      "source": [
        "#Importing and training the model\n",
        "from sklearn.linear_model import LinearRegression\n",
        "lm = LinearRegression()\n",
        "lm.fit(x_train,y_train)"
      ],
      "metadata": {
        "id": "PSsRWDB0oPp3",
        "outputId": "4f6af86d-3183-4897-a961-5beffb01ea97",
        "colab": {
          "base_uri": "https://localhost:8080/",
          "height": 74
        }
      },
      "execution_count": 57,
      "outputs": [
        {
          "output_type": "execute_result",
          "data": {
            "text/plain": [
              "LinearRegression()"
            ],
            "text/html": [
              "<style>#sk-container-id-3 {color: black;background-color: white;}#sk-container-id-3 pre{padding: 0;}#sk-container-id-3 div.sk-toggleable {background-color: white;}#sk-container-id-3 label.sk-toggleable__label {cursor: pointer;display: block;width: 100%;margin-bottom: 0;padding: 0.3em;box-sizing: border-box;text-align: center;}#sk-container-id-3 label.sk-toggleable__label-arrow:before {content: \"▸\";float: left;margin-right: 0.25em;color: #696969;}#sk-container-id-3 label.sk-toggleable__label-arrow:hover:before {color: black;}#sk-container-id-3 div.sk-estimator:hover label.sk-toggleable__label-arrow:before {color: black;}#sk-container-id-3 div.sk-toggleable__content {max-height: 0;max-width: 0;overflow: hidden;text-align: left;background-color: #f0f8ff;}#sk-container-id-3 div.sk-toggleable__content pre {margin: 0.2em;color: black;border-radius: 0.25em;background-color: #f0f8ff;}#sk-container-id-3 input.sk-toggleable__control:checked~div.sk-toggleable__content {max-height: 200px;max-width: 100%;overflow: auto;}#sk-container-id-3 input.sk-toggleable__control:checked~label.sk-toggleable__label-arrow:before {content: \"▾\";}#sk-container-id-3 div.sk-estimator input.sk-toggleable__control:checked~label.sk-toggleable__label {background-color: #d4ebff;}#sk-container-id-3 div.sk-label input.sk-toggleable__control:checked~label.sk-toggleable__label {background-color: #d4ebff;}#sk-container-id-3 input.sk-hidden--visually {border: 0;clip: rect(1px 1px 1px 1px);clip: rect(1px, 1px, 1px, 1px);height: 1px;margin: -1px;overflow: hidden;padding: 0;position: absolute;width: 1px;}#sk-container-id-3 div.sk-estimator {font-family: monospace;background-color: #f0f8ff;border: 1px dotted black;border-radius: 0.25em;box-sizing: border-box;margin-bottom: 0.5em;}#sk-container-id-3 div.sk-estimator:hover {background-color: #d4ebff;}#sk-container-id-3 div.sk-parallel-item::after {content: \"\";width: 100%;border-bottom: 1px solid gray;flex-grow: 1;}#sk-container-id-3 div.sk-label:hover label.sk-toggleable__label {background-color: #d4ebff;}#sk-container-id-3 div.sk-serial::before {content: \"\";position: absolute;border-left: 1px solid gray;box-sizing: border-box;top: 0;bottom: 0;left: 50%;z-index: 0;}#sk-container-id-3 div.sk-serial {display: flex;flex-direction: column;align-items: center;background-color: white;padding-right: 0.2em;padding-left: 0.2em;position: relative;}#sk-container-id-3 div.sk-item {position: relative;z-index: 1;}#sk-container-id-3 div.sk-parallel {display: flex;align-items: stretch;justify-content: center;background-color: white;position: relative;}#sk-container-id-3 div.sk-item::before, #sk-container-id-3 div.sk-parallel-item::before {content: \"\";position: absolute;border-left: 1px solid gray;box-sizing: border-box;top: 0;bottom: 0;left: 50%;z-index: -1;}#sk-container-id-3 div.sk-parallel-item {display: flex;flex-direction: column;z-index: 1;position: relative;background-color: white;}#sk-container-id-3 div.sk-parallel-item:first-child::after {align-self: flex-end;width: 50%;}#sk-container-id-3 div.sk-parallel-item:last-child::after {align-self: flex-start;width: 50%;}#sk-container-id-3 div.sk-parallel-item:only-child::after {width: 0;}#sk-container-id-3 div.sk-dashed-wrapped {border: 1px dashed gray;margin: 0 0.4em 0.5em 0.4em;box-sizing: border-box;padding-bottom: 0.4em;background-color: white;}#sk-container-id-3 div.sk-label label {font-family: monospace;font-weight: bold;display: inline-block;line-height: 1.2em;}#sk-container-id-3 div.sk-label-container {text-align: center;}#sk-container-id-3 div.sk-container {/* jupyter's `normalize.less` sets `[hidden] { display: none; }` but bootstrap.min.css set `[hidden] { display: none !important; }` so we also need the `!important` here to be able to override the default hidden behavior on the sphinx rendered scikit-learn.org. See: https://github.com/scikit-learn/scikit-learn/issues/21755 */display: inline-block !important;position: relative;}#sk-container-id-3 div.sk-text-repr-fallback {display: none;}</style><div id=\"sk-container-id-3\" class=\"sk-top-container\"><div class=\"sk-text-repr-fallback\"><pre>LinearRegression()</pre><b>In a Jupyter environment, please rerun this cell to show the HTML representation or trust the notebook. <br />On GitHub, the HTML representation is unable to render, please try loading this page with nbviewer.org.</b></div><div class=\"sk-container\" hidden><div class=\"sk-item\"><div class=\"sk-estimator sk-toggleable\"><input class=\"sk-toggleable__control sk-hidden--visually\" id=\"sk-estimator-id-5\" type=\"checkbox\" checked><label for=\"sk-estimator-id-5\" class=\"sk-toggleable__label sk-toggleable__label-arrow\">LinearRegression</label><div class=\"sk-toggleable__content\"><pre>LinearRegression()</pre></div></div></div></div></div>"
            ]
          },
          "metadata": {},
          "execution_count": 57
        }
      ]
    },
    {
      "cell_type": "code",
      "source": [
        "print(\"Training set size:\", x_train.shape[0])\n",
        "print(\"Test set size:\", x_test.shape[0])"
      ],
      "metadata": {
        "id": "Lh6mQrdyohuh",
        "outputId": "88178517-b09c-4883-f7d5-3127ae8386ce",
        "colab": {
          "base_uri": "https://localhost:8080/"
        }
      },
      "execution_count": 58,
      "outputs": [
        {
          "output_type": "stream",
          "name": "stdout",
          "text": [
            "Training set size: 16065\n",
            "Test set size: 5355\n"
          ]
        }
      ]
    },
    {
      "cell_type": "code",
      "source": [
        "#Results from the trained data\n",
        "model = sm.OLS(y_train, x_train)\n",
        "result =model.fit()\n",
        "result.summary()"
      ],
      "metadata": {
        "id": "qFP4FtHXoxO6",
        "outputId": "2a8d3e46-c51f-4332-95b9-21a6024561bb",
        "colab": {
          "base_uri": "https://localhost:8080/",
          "height": 568
        }
      },
      "execution_count": 59,
      "outputs": [
        {
          "output_type": "execute_result",
          "data": {
            "text/plain": [
              "<class 'statsmodels.iolib.summary.Summary'>\n",
              "\"\"\"\n",
              "                                 OLS Regression Results                                \n",
              "=======================================================================================\n",
              "Dep. Variable:                  price   R-squared (uncentered):                   0.883\n",
              "Model:                            OLS   Adj. R-squared (uncentered):              0.883\n",
              "Method:                 Least Squares   F-statistic:                          2.421e+04\n",
              "Date:                Sat, 06 Apr 2024   Prob (F-statistic):                        0.00\n",
              "Time:                        21:08:21   Log-Likelihood:                     -2.2074e+05\n",
              "No. Observations:               16065   AIC:                                  4.415e+05\n",
              "Df Residuals:                   16060   BIC:                                  4.415e+05\n",
              "Df Model:                           5                                                  \n",
              "Covariance Type:            nonrobust                                                  \n",
              "===============================================================================\n",
              "                  coef    std err          t      P>|t|      [0.025      0.975]\n",
              "-------------------------------------------------------------------------------\n",
              "sqft_living   170.6209      2.969     57.471      0.000     164.802     176.440\n",
              "waterfront   7.883e+05   2.15e+04     36.603      0.000    7.46e+05    8.31e+05\n",
              "grade        1.416e+05   2475.138     57.212      0.000    1.37e+05    1.46e+05\n",
              "lat         -2.223e+04    348.810    -63.724      0.000   -2.29e+04   -2.15e+04\n",
              "age          3512.9235     68.105     51.581      0.000    3379.430    3646.418\n",
              "==============================================================================\n",
              "Omnibus:                    12868.230   Durbin-Watson:                   1.984\n",
              "Prob(Omnibus):                  0.000   Jarque-Bera (JB):          1071836.688\n",
              "Skew:                           3.285   Prob(JB):                         0.00\n",
              "Kurtosis:                      42.473   Cond. No.                     2.78e+04\n",
              "==============================================================================\n",
              "\n",
              "Notes:\n",
              "[1] R² is computed without centering (uncentered) since the model does not contain a constant.\n",
              "[2] Standard Errors assume that the covariance matrix of the errors is correctly specified.\n",
              "[3] The condition number is large, 2.78e+04. This might indicate that there are\n",
              "strong multicollinearity or other numerical problems.\n",
              "\"\"\""
            ],
            "text/html": [
              "<table class=\"simpletable\">\n",
              "<caption>OLS Regression Results</caption>\n",
              "<tr>\n",
              "  <th>Dep. Variable:</th>          <td>price</td>      <th>  R-squared (uncentered):</th>       <td>   0.883</td>  \n",
              "</tr>\n",
              "<tr>\n",
              "  <th>Model:</th>                   <td>OLS</td>       <th>  Adj. R-squared (uncentered):</th>  <td>   0.883</td>  \n",
              "</tr>\n",
              "<tr>\n",
              "  <th>Method:</th>             <td>Least Squares</td>  <th>  F-statistic:       </th>           <td>2.421e+04</td> \n",
              "</tr>\n",
              "<tr>\n",
              "  <th>Date:</th>             <td>Sat, 06 Apr 2024</td> <th>  Prob (F-statistic):</th>            <td>  0.00</td>   \n",
              "</tr>\n",
              "<tr>\n",
              "  <th>Time:</th>                 <td>21:08:21</td>     <th>  Log-Likelihood:    </th>          <td>-2.2074e+05</td>\n",
              "</tr>\n",
              "<tr>\n",
              "  <th>No. Observations:</th>      <td> 16065</td>      <th>  AIC:               </th>           <td>4.415e+05</td> \n",
              "</tr>\n",
              "<tr>\n",
              "  <th>Df Residuals:</th>          <td> 16060</td>      <th>  BIC:               </th>           <td>4.415e+05</td> \n",
              "</tr>\n",
              "<tr>\n",
              "  <th>Df Model:</th>              <td>     5</td>      <th>                     </th>               <td> </td>     \n",
              "</tr>\n",
              "<tr>\n",
              "  <th>Covariance Type:</th>      <td>nonrobust</td>    <th>                     </th>               <td> </td>     \n",
              "</tr>\n",
              "</table>\n",
              "<table class=\"simpletable\">\n",
              "<tr>\n",
              "       <td></td>          <th>coef</th>     <th>std err</th>      <th>t</th>      <th>P>|t|</th>  <th>[0.025</th>    <th>0.975]</th>  \n",
              "</tr>\n",
              "<tr>\n",
              "  <th>sqft_living</th> <td>  170.6209</td> <td>    2.969</td> <td>   57.471</td> <td> 0.000</td> <td>  164.802</td> <td>  176.440</td>\n",
              "</tr>\n",
              "<tr>\n",
              "  <th>waterfront</th>  <td> 7.883e+05</td> <td> 2.15e+04</td> <td>   36.603</td> <td> 0.000</td> <td> 7.46e+05</td> <td> 8.31e+05</td>\n",
              "</tr>\n",
              "<tr>\n",
              "  <th>grade</th>       <td> 1.416e+05</td> <td> 2475.138</td> <td>   57.212</td> <td> 0.000</td> <td> 1.37e+05</td> <td> 1.46e+05</td>\n",
              "</tr>\n",
              "<tr>\n",
              "  <th>lat</th>         <td>-2.223e+04</td> <td>  348.810</td> <td>  -63.724</td> <td> 0.000</td> <td>-2.29e+04</td> <td>-2.15e+04</td>\n",
              "</tr>\n",
              "<tr>\n",
              "  <th>age</th>         <td> 3512.9235</td> <td>   68.105</td> <td>   51.581</td> <td> 0.000</td> <td> 3379.430</td> <td> 3646.418</td>\n",
              "</tr>\n",
              "</table>\n",
              "<table class=\"simpletable\">\n",
              "<tr>\n",
              "  <th>Omnibus:</th>       <td>12868.230</td> <th>  Durbin-Watson:     </th>  <td>   1.984</td>  \n",
              "</tr>\n",
              "<tr>\n",
              "  <th>Prob(Omnibus):</th>  <td> 0.000</td>   <th>  Jarque-Bera (JB):  </th> <td>1071836.688</td>\n",
              "</tr>\n",
              "<tr>\n",
              "  <th>Skew:</th>           <td> 3.285</td>   <th>  Prob(JB):          </th>  <td>    0.00</td>  \n",
              "</tr>\n",
              "<tr>\n",
              "  <th>Kurtosis:</th>       <td>42.473</td>   <th>  Cond. No.          </th>  <td>2.78e+04</td>  \n",
              "</tr>\n",
              "</table><br/><br/>Notes:<br/>[1] R² is computed without centering (uncentered) since the model does not contain a constant.<br/>[2] Standard Errors assume that the covariance matrix of the errors is correctly specified.<br/>[3] The condition number is large, 2.78e+04. This might indicate that there are<br/>strong multicollinearity or other numerical problems."
            ],
            "text/latex": "\\begin{center}\n\\begin{tabular}{lclc}\n\\toprule\n\\textbf{Dep. Variable:}    &      price       & \\textbf{  R-squared (uncentered):}      &      0.883   \\\\\n\\textbf{Model:}            &       OLS        & \\textbf{  Adj. R-squared (uncentered):} &      0.883   \\\\\n\\textbf{Method:}           &  Least Squares   & \\textbf{  F-statistic:       }          &  2.421e+04   \\\\\n\\textbf{Date:}             & Sat, 06 Apr 2024 & \\textbf{  Prob (F-statistic):}          &      0.00    \\\\\n\\textbf{Time:}             &     21:08:21     & \\textbf{  Log-Likelihood:    }          & -2.2074e+05  \\\\\n\\textbf{No. Observations:} &       16065      & \\textbf{  AIC:               }          &  4.415e+05   \\\\\n\\textbf{Df Residuals:}     &       16060      & \\textbf{  BIC:               }          &  4.415e+05   \\\\\n\\textbf{Df Model:}         &           5      & \\textbf{                     }          &              \\\\\n\\textbf{Covariance Type:}  &    nonrobust     & \\textbf{                     }          &              \\\\\n\\bottomrule\n\\end{tabular}\n\\begin{tabular}{lcccccc}\n                      & \\textbf{coef} & \\textbf{std err} & \\textbf{t} & \\textbf{P$> |$t$|$} & \\textbf{[0.025} & \\textbf{0.975]}  \\\\\n\\midrule\n\\textbf{sqft\\_living} &     170.6209  &        2.969     &    57.471  &         0.000        &      164.802    &      176.440     \\\\\n\\textbf{waterfront}   &    7.883e+05  &     2.15e+04     &    36.603  &         0.000        &     7.46e+05    &     8.31e+05     \\\\\n\\textbf{grade}        &    1.416e+05  &     2475.138     &    57.212  &         0.000        &     1.37e+05    &     1.46e+05     \\\\\n\\textbf{lat}          &   -2.223e+04  &      348.810     &   -63.724  &         0.000        &    -2.29e+04    &    -2.15e+04     \\\\\n\\textbf{age}          &    3512.9235  &       68.105     &    51.581  &         0.000        &     3379.430    &     3646.418     \\\\\n\\bottomrule\n\\end{tabular}\n\\begin{tabular}{lclc}\n\\textbf{Omnibus:}       & 12868.230 & \\textbf{  Durbin-Watson:     } &      1.984   \\\\\n\\textbf{Prob(Omnibus):} &    0.000  & \\textbf{  Jarque-Bera (JB):  } & 1071836.688  \\\\\n\\textbf{Skew:}          &    3.285  & \\textbf{  Prob(JB):          } &       0.00   \\\\\n\\textbf{Kurtosis:}      &   42.473  & \\textbf{  Cond. No.          } &   2.78e+04   \\\\\n\\bottomrule\n\\end{tabular}\n%\\caption{OLS Regression Results}\n\\end{center}\n\nNotes: \\newline\n [1] R² is computed without centering (uncentered) since the model does not contain a constant. \\newline\n [2] Standard Errors assume that the covariance matrix of the errors is correctly specified. \\newline\n [3] The condition number is large, 2.78e+04. This might indicate that there are \\newline\n strong multicollinearity or other numerical problems."
          },
          "metadata": {},
          "execution_count": 59
        }
      ]
    },
    {
      "cell_type": "code",
      "source": [
        "#Model Predictions\n",
        "y_test_pred = lm.predict(x_test)\n",
        "\n",
        "#Evaluate the model's performance on the training set\n",
        "from sklearn import metrics\n",
        "test_mse = metrics.mean_squared_error(y_test, y_test_pred)\n",
        "test_mae = metrics.mean_absolute_error(y_test, y_test_pred)\n",
        "test_r2 = metrics.r2_score(y_test, y_test_pred)\n",
        "\n",
        "print(\"Testing Mean Squared Error:\", test_mse)\n",
        "print(\"Testing Mean Absolute Error:\", test_mae)\n",
        "print(\"Testing R-squared:\", test_r2)"
      ],
      "metadata": {
        "id": "5yFK2iNOo-cd",
        "outputId": "17e35ea6-26a1-4c33-ff2a-bf87455f23b4",
        "colab": {
          "base_uri": "https://localhost:8080/"
        }
      },
      "execution_count": 60,
      "outputs": [
        {
          "output_type": "stream",
          "name": "stdout",
          "text": [
            "Testing Mean Squared Error: 42423294224.50852\n",
            "Testing Mean Absolute Error: 132391.57001667857\n",
            "Testing R-squared: 0.676402118056104\n"
          ]
        }
      ]
    },
    {
      "cell_type": "code",
      "source": [
        "#Results from the test data\n",
        "model = sm.OLS(y_test, x_test)\n",
        "result =model.fit()\n",
        "result.summary()"
      ],
      "metadata": {
        "id": "va2Ix0IEpRCa",
        "outputId": "3c940d60-1801-469a-cb52-121af3a17da7",
        "colab": {
          "base_uri": "https://localhost:8080/",
          "height": 568
        }
      },
      "execution_count": 61,
      "outputs": [
        {
          "output_type": "execute_result",
          "data": {
            "text/plain": [
              "<class 'statsmodels.iolib.summary.Summary'>\n",
              "\"\"\"\n",
              "                                 OLS Regression Results                                \n",
              "=======================================================================================\n",
              "Dep. Variable:                  price   R-squared (uncentered):                   0.884\n",
              "Model:                            OLS   Adj. R-squared (uncentered):              0.884\n",
              "Method:                 Least Squares   F-statistic:                              8168.\n",
              "Date:                Sat, 06 Apr 2024   Prob (F-statistic):                        0.00\n",
              "Time:                        21:08:21   Log-Likelihood:                         -73488.\n",
              "No. Observations:                5355   AIC:                                  1.470e+05\n",
              "Df Residuals:                    5350   BIC:                                  1.470e+05\n",
              "Df Model:                           5                                                  \n",
              "Covariance Type:            nonrobust                                                  \n",
              "===============================================================================\n",
              "                  coef    std err          t      P>|t|      [0.025      0.975]\n",
              "-------------------------------------------------------------------------------\n",
              "sqft_living   177.0102      5.208     33.990      0.000     166.801     187.219\n",
              "waterfront    7.77e+05   3.79e+04     20.527      0.000    7.03e+05    8.51e+05\n",
              "grade        1.371e+05   4323.532     31.702      0.000    1.29e+05    1.46e+05\n",
              "lat         -2.169e+04    606.392    -35.771      0.000   -2.29e+04   -2.05e+04\n",
              "age          3453.8117    114.031     30.288      0.000    3230.265    3677.358\n",
              "==============================================================================\n",
              "Omnibus:                     2823.241   Durbin-Watson:                   2.027\n",
              "Prob(Omnibus):                  0.000   Jarque-Bera (JB):            63981.871\n",
              "Skew:                           2.031   Prob(JB):                         0.00\n",
              "Kurtosis:                      19.439   Cond. No.                     2.83e+04\n",
              "==============================================================================\n",
              "\n",
              "Notes:\n",
              "[1] R² is computed without centering (uncentered) since the model does not contain a constant.\n",
              "[2] Standard Errors assume that the covariance matrix of the errors is correctly specified.\n",
              "[3] The condition number is large, 2.83e+04. This might indicate that there are\n",
              "strong multicollinearity or other numerical problems.\n",
              "\"\"\""
            ],
            "text/html": [
              "<table class=\"simpletable\">\n",
              "<caption>OLS Regression Results</caption>\n",
              "<tr>\n",
              "  <th>Dep. Variable:</th>          <td>price</td>      <th>  R-squared (uncentered):</th>      <td>   0.884</td> \n",
              "</tr>\n",
              "<tr>\n",
              "  <th>Model:</th>                   <td>OLS</td>       <th>  Adj. R-squared (uncentered):</th> <td>   0.884</td> \n",
              "</tr>\n",
              "<tr>\n",
              "  <th>Method:</th>             <td>Least Squares</td>  <th>  F-statistic:       </th>          <td>   8168.</td> \n",
              "</tr>\n",
              "<tr>\n",
              "  <th>Date:</th>             <td>Sat, 06 Apr 2024</td> <th>  Prob (F-statistic):</th>           <td>  0.00</td>  \n",
              "</tr>\n",
              "<tr>\n",
              "  <th>Time:</th>                 <td>21:08:21</td>     <th>  Log-Likelihood:    </th>          <td> -73488.</td> \n",
              "</tr>\n",
              "<tr>\n",
              "  <th>No. Observations:</th>      <td>  5355</td>      <th>  AIC:               </th>          <td>1.470e+05</td>\n",
              "</tr>\n",
              "<tr>\n",
              "  <th>Df Residuals:</th>          <td>  5350</td>      <th>  BIC:               </th>          <td>1.470e+05</td>\n",
              "</tr>\n",
              "<tr>\n",
              "  <th>Df Model:</th>              <td>     5</td>      <th>                     </th>              <td> </td>    \n",
              "</tr>\n",
              "<tr>\n",
              "  <th>Covariance Type:</th>      <td>nonrobust</td>    <th>                     </th>              <td> </td>    \n",
              "</tr>\n",
              "</table>\n",
              "<table class=\"simpletable\">\n",
              "<tr>\n",
              "       <td></td>          <th>coef</th>     <th>std err</th>      <th>t</th>      <th>P>|t|</th>  <th>[0.025</th>    <th>0.975]</th>  \n",
              "</tr>\n",
              "<tr>\n",
              "  <th>sqft_living</th> <td>  177.0102</td> <td>    5.208</td> <td>   33.990</td> <td> 0.000</td> <td>  166.801</td> <td>  187.219</td>\n",
              "</tr>\n",
              "<tr>\n",
              "  <th>waterfront</th>  <td>  7.77e+05</td> <td> 3.79e+04</td> <td>   20.527</td> <td> 0.000</td> <td> 7.03e+05</td> <td> 8.51e+05</td>\n",
              "</tr>\n",
              "<tr>\n",
              "  <th>grade</th>       <td> 1.371e+05</td> <td> 4323.532</td> <td>   31.702</td> <td> 0.000</td> <td> 1.29e+05</td> <td> 1.46e+05</td>\n",
              "</tr>\n",
              "<tr>\n",
              "  <th>lat</th>         <td>-2.169e+04</td> <td>  606.392</td> <td>  -35.771</td> <td> 0.000</td> <td>-2.29e+04</td> <td>-2.05e+04</td>\n",
              "</tr>\n",
              "<tr>\n",
              "  <th>age</th>         <td> 3453.8117</td> <td>  114.031</td> <td>   30.288</td> <td> 0.000</td> <td> 3230.265</td> <td> 3677.358</td>\n",
              "</tr>\n",
              "</table>\n",
              "<table class=\"simpletable\">\n",
              "<tr>\n",
              "  <th>Omnibus:</th>       <td>2823.241</td> <th>  Durbin-Watson:     </th> <td>   2.027</td> \n",
              "</tr>\n",
              "<tr>\n",
              "  <th>Prob(Omnibus):</th>  <td> 0.000</td>  <th>  Jarque-Bera (JB):  </th> <td>63981.871</td>\n",
              "</tr>\n",
              "<tr>\n",
              "  <th>Skew:</th>           <td> 2.031</td>  <th>  Prob(JB):          </th> <td>    0.00</td> \n",
              "</tr>\n",
              "<tr>\n",
              "  <th>Kurtosis:</th>       <td>19.439</td>  <th>  Cond. No.          </th> <td>2.83e+04</td> \n",
              "</tr>\n",
              "</table><br/><br/>Notes:<br/>[1] R² is computed without centering (uncentered) since the model does not contain a constant.<br/>[2] Standard Errors assume that the covariance matrix of the errors is correctly specified.<br/>[3] The condition number is large, 2.83e+04. This might indicate that there are<br/>strong multicollinearity or other numerical problems."
            ],
            "text/latex": "\\begin{center}\n\\begin{tabular}{lclc}\n\\toprule\n\\textbf{Dep. Variable:}    &      price       & \\textbf{  R-squared (uncentered):}      &     0.884   \\\\\n\\textbf{Model:}            &       OLS        & \\textbf{  Adj. R-squared (uncentered):} &     0.884   \\\\\n\\textbf{Method:}           &  Least Squares   & \\textbf{  F-statistic:       }          &     8168.   \\\\\n\\textbf{Date:}             & Sat, 06 Apr 2024 & \\textbf{  Prob (F-statistic):}          &     0.00    \\\\\n\\textbf{Time:}             &     21:08:21     & \\textbf{  Log-Likelihood:    }          &   -73488.   \\\\\n\\textbf{No. Observations:} &        5355      & \\textbf{  AIC:               }          & 1.470e+05   \\\\\n\\textbf{Df Residuals:}     &        5350      & \\textbf{  BIC:               }          & 1.470e+05   \\\\\n\\textbf{Df Model:}         &           5      & \\textbf{                     }          &             \\\\\n\\textbf{Covariance Type:}  &    nonrobust     & \\textbf{                     }          &             \\\\\n\\bottomrule\n\\end{tabular}\n\\begin{tabular}{lcccccc}\n                      & \\textbf{coef} & \\textbf{std err} & \\textbf{t} & \\textbf{P$> |$t$|$} & \\textbf{[0.025} & \\textbf{0.975]}  \\\\\n\\midrule\n\\textbf{sqft\\_living} &     177.0102  &        5.208     &    33.990  &         0.000        &      166.801    &      187.219     \\\\\n\\textbf{waterfront}   &     7.77e+05  &     3.79e+04     &    20.527  &         0.000        &     7.03e+05    &     8.51e+05     \\\\\n\\textbf{grade}        &    1.371e+05  &     4323.532     &    31.702  &         0.000        &     1.29e+05    &     1.46e+05     \\\\\n\\textbf{lat}          &   -2.169e+04  &      606.392     &   -35.771  &         0.000        &    -2.29e+04    &    -2.05e+04     \\\\\n\\textbf{age}          &    3453.8117  &      114.031     &    30.288  &         0.000        &     3230.265    &     3677.358     \\\\\n\\bottomrule\n\\end{tabular}\n\\begin{tabular}{lclc}\n\\textbf{Omnibus:}       & 2823.241 & \\textbf{  Durbin-Watson:     } &     2.027  \\\\\n\\textbf{Prob(Omnibus):} &   0.000  & \\textbf{  Jarque-Bera (JB):  } & 63981.871  \\\\\n\\textbf{Skew:}          &   2.031  & \\textbf{  Prob(JB):          } &      0.00  \\\\\n\\textbf{Kurtosis:}      &  19.439  & \\textbf{  Cond. No.          } &  2.83e+04  \\\\\n\\bottomrule\n\\end{tabular}\n%\\caption{OLS Regression Results}\n\\end{center}\n\nNotes: \\newline\n [1] R² is computed without centering (uncentered) since the model does not contain a constant. \\newline\n [2] Standard Errors assume that the covariance matrix of the errors is correctly specified. \\newline\n [3] The condition number is large, 2.83e+04. This might indicate that there are \\newline\n strong multicollinearity or other numerical problems."
          },
          "metadata": {},
          "execution_count": 61
        }
      ]
    },
    {
      "cell_type": "markdown",
      "source": [
        "POLYNOMIAL REGRESSION"
      ],
      "metadata": {
        "id": "hsRQg4rUtDQ7"
      }
    },
    {
      "cell_type": "code",
      "source": [
        "#relevant features\n",
        "features = ['bedrooms', 'bathrooms', 'floors', 'grade', 'sqft_basement', 'yr_built', 'zipcode', 'lat', 'long', 'sqft_living15', 'renovated', 'basement', 'month', 'age', 'sqft_living', 'condition']\n",
        "\n",
        "#filter\n",
        "filter = df2[features]\n",
        "\n",
        "#split the data into training and testing sets\n",
        "x_train, x_test, y_train, y_test = train_test_split (X, y, test_size = 0.2, random_state = 42)\n",
        "\n",
        "#polynomial regression\n",
        "#select the polynomial degree\n",
        "degree = 2\n",
        "\n",
        "#polynomial features\n",
        "poly = PolynomialFeatures(degree)\n",
        "import numpy as np\n",
        "x_train_reshaped = x_train.values.reshape(-1,1)\n",
        "x_train_poly = poly.fit_transform(x_train_reshaped)\n",
        "x_test_reshaped = x_test.values.reshape(-1,1)\n",
        "x_test_poly = poly.transform(x_test_reshaped)\n",
        "\n",
        "#build a polynomial regression model\n",
        "poly_model = LinearRegression()\n",
        "poly_model.fit(x_train_poly, y_train)\n",
        "\n",
        "#predictions on the test set\n",
        "y_pred_poly = poly_model.predict(x_test_poly)\n",
        "\n",
        "#evaluate the poly model\n",
        "from sklearn.metrics import mean_squared_error\n",
        "mse_poly = mean_squared_error(y_test, y_pred_poly)\n",
        "r2_poly = metrics.r2_score(y_test, y_pred_poly)\n",
        "print(\"Polynomial Model (Degree {})- MSE:\".format(degree), mse_poly)\n",
        "print(\"Polynomial Model (Degree {})- R_squared:\".format(degree), r2_poly)\n",
        "\n",
        "#visualize the results\n",
        "plt.scatter(x_test, y_test, color='black', label='Actual Prices')\n",
        "plt.scatter(x_test, y_pred_poly,color='#589aff', label='Predicted Prices (Polynomial)')\n",
        "plt.xlabel('Sqft Living')\n",
        "plt.ylabel('Price')\n",
        "plt.legend()\n",
        "plt.show()"
      ],
      "metadata": {
        "id": "ph4grEtitHjy",
        "outputId": "e428d380-5877-43dd-cb8a-08a59586230b",
        "colab": {
          "base_uri": "https://localhost:8080/",
          "height": 504
        }
      },
      "execution_count": 79,
      "outputs": [
        {
          "output_type": "stream",
          "name": "stdout",
          "text": [
            "Polynomial Model (Degree 2)- MSE: 57824075249.65792\n",
            "Polynomial Model (Degree 2)- R_squared: 0.522495501498599\n"
          ]
        },
        {
          "output_type": "display_data",
          "data": {
            "text/plain": [
              "<Figure size 640x480 with 1 Axes>"
            ],
            "image/png": "[encoded data removed]"
          },
          "metadata": {}
        }
      ]
    },
    {
      "cell_type": "code",
      "source": [],
      "metadata": {
        "id": "ZEkRpV1XtGsf"
      },
      "execution_count": null,
      "outputs": []
    }
  ],
  "metadata": {
    "kernelspec": {
      "display_name": "Python 3",
      "language": "python",
      "name": "python3"
    },
    "language_info": {
      "codemirror_mode": {
        "name": "ipython",
        "version": 3
      },
      "file_extension": ".py",
      "mimetype": "text/x-python",
      "name": "python",
      "nbconvert_exporter": "python",
      "pygments_lexer": "ipython3",
      "version": "3.8.5"
    },
    "colab": {
      "provenance": [],
      "include_colab_link": true
    }
  },
  "nbformat": 4,
  "nbformat_minor": 0
}